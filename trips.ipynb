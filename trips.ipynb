{
 "cells": [
  {
   "cell_type": "code",
   "execution_count": 1,
   "metadata": {},
   "outputs": [],
   "source": [
    "import pandas as pd\n",
    "from datetime import datetime\n",
    "import matplotlib.pyplot as plt"
   ]
  },
  {
   "cell_type": "code",
   "execution_count": 2,
   "metadata": {},
   "outputs": [],
   "source": [
    "trips = pd.read_csv('tripdata_2019-05.csv')"
   ]
  },
  {
   "cell_type": "code",
   "execution_count": 3,
   "metadata": {},
   "outputs": [],
   "source": [
    "# trips"
   ]
  },
  {
   "cell_type": "markdown",
   "metadata": {},
   "source": [
    "Заменим невалидные значения в колонках:\n",
    "\n",
    "кол-во пассажиров установим в 1;\n",
    "\n",
    "// RatecodeId в 5(договорная оплата);\n",
    "\n",
    "// store_and_fwd_flag в N(передача данных осуществлялась из памяти средства передвижения, т.е. прямое подключение к серверу отсутствовало);\n",
    "\n",
    "// payment_type в 5(Unknown payment type);"
   ]
  },
  {
   "cell_type": "code",
   "execution_count": 4,
   "metadata": {},
   "outputs": [],
   "source": [
    "trips.passenger_count = trips.passenger_count.fillna(1)"
   ]
  },
  {
   "cell_type": "markdown",
   "metadata": {},
   "source": [
    "Посмотрим на количество колонок, в которых встречаются данные со значением Nan."
   ]
  },
  {
   "cell_type": "code",
   "execution_count": 5,
   "metadata": {
    "scrolled": true
   },
   "outputs": [
    {
     "name": "stdout",
     "output_type": "stream",
     "text": [
      "VendorID 0\n",
      "tpep_pickup_datetime 0\n",
      "tpep_dropoff_datetime 0\n",
      "passenger_count 0\n",
      "trip_distance 0\n",
      "RatecodeID 0\n",
      "store_and_fwd_flag 0\n",
      "PULocationID 0\n",
      "DOLocationID 0\n",
      "payment_type 0\n",
      "fare_amount 0\n",
      "extra 0\n",
      "mta_tax 0\n",
      "tip_amount 0\n",
      "tolls_amount 0\n",
      "improvement_surcharge 0\n",
      "total_amount 0\n",
      "congestion_surcharge 0\n"
     ]
    }
   ],
   "source": [
    "for el in trips.columns:\n",
    "    print(el, trips[el].isna().sum())"
   ]
  },
  {
   "cell_type": "code",
   "execution_count": 6,
   "metadata": {},
   "outputs": [],
   "source": [
    "# trips"
   ]
  },
  {
   "cell_type": "markdown",
   "metadata": {},
   "source": [
    "Преобразуем формат ячеек с временем для удобства."
   ]
  },
  {
   "cell_type": "code",
   "execution_count": 7,
   "metadata": {},
   "outputs": [],
   "source": [
    "trips['tpep_pickup_datetime'] = pd.to_datetime(trips.tpep_pickup_datetime)\n",
    "trips['tpep_dropoff_datetime'] = pd.to_datetime(trips.tpep_dropoff_datetime)"
   ]
  },
  {
   "cell_type": "markdown",
   "metadata": {},
   "source": [
    "Введём новые колонки: \n",
    "\n",
    "1. с датой начала поездки; \n",
    "\n",
    "2. с часом начала и конца;\n",
    "\n",
    "3. с днём недели начала поездки; \n",
    "\n",
    "4. с временем продолжительности поездки(день конца поездки игнорируем, т.к. почти все поездки будут в промежутке одного дня);\n",
    "\n",
    "5. временем поездки в секундах;\n",
    "\n",
    "6. средней скоростью в м/с."
   ]
  },
  {
   "cell_type": "code",
   "execution_count": 8,
   "metadata": {},
   "outputs": [],
   "source": [
    "trips['trip_pickup_day'] = trips.tpep_pickup_datetime.dt.day\n",
    "trips['week_day'] = trips.tpep_pickup_datetime.dt.dayofweek\n",
    "trips['trip_pickup_hour'] = trips.tpep_pickup_datetime.dt.hour\n",
    "trips['trip_dropoff_hour'] = trips.tpep_dropoff_datetime.dt.hour\n",
    "trips['trip_duration'] = trips.tpep_dropoff_datetime - trips.tpep_pickup_datetime\n",
    "trips['trip_duration_secs'] = trips.trip_duration.dt.seconds\n",
    "trips['average_velocity'] = (trips['trip_distance'] * 1609.34) / trips['trip_duration_secs']"
   ]
  },
  {
   "cell_type": "code",
   "execution_count": 9,
   "metadata": {},
   "outputs": [],
   "source": [
    "# trips"
   ]
  },
  {
   "cell_type": "markdown",
   "metadata": {},
   "source": [
    "Посмотрим, есть ли в данных нереальные случаи(например за короткое слишком большое ограничение).\n",
    "\n",
    "Установим ограничение для средней скорости в 162 км/ч(45 м/с) сверху и 2(м/с) снизу, а также удалим строки, в которых преодолено нулевое расстояние за ненулевое время, при этом получена некоторая сумма за поездку.\n",
    "\n",
    "Была мысль также выпилить строки с отрицательной оплатой, но почему-то есть вариант, что это поездки за бонусные баллы(ну например). Если надо, выпилим."
   ]
  },
  {
   "cell_type": "code",
   "execution_count": 10,
   "metadata": {},
   "outputs": [],
   "source": [
    "trips = trips[trips.average_velocity <= 45]\n",
    "trips = trips[trips.average_velocity > 2]\n",
    "trips = trips[trips.tpep_pickup_datetime <= trips.tpep_dropoff_datetime]\n",
    "trips = trips.drop(trips[(trips.trip_distance == 0) & (trips.total_amount > 0) & (trips.trip_duration_secs > 0)].index)"
   ]
  },
  {
   "cell_type": "code",
   "execution_count": 11,
   "metadata": {},
   "outputs": [
    {
     "data": {
      "text/html": [
       "<div>\n",
       "<style scoped>\n",
       "    .dataframe tbody tr th:only-of-type {\n",
       "        vertical-align: middle;\n",
       "    }\n",
       "\n",
       "    .dataframe tbody tr th {\n",
       "        vertical-align: top;\n",
       "    }\n",
       "\n",
       "    .dataframe thead th {\n",
       "        text-align: right;\n",
       "    }\n",
       "</style>\n",
       "<table border=\"1\" class=\"dataframe\">\n",
       "  <thead>\n",
       "    <tr style=\"text-align: right;\">\n",
       "      <th></th>\n",
       "      <th>VendorID</th>\n",
       "      <th>tpep_pickup_datetime</th>\n",
       "      <th>tpep_dropoff_datetime</th>\n",
       "      <th>passenger_count</th>\n",
       "      <th>trip_distance</th>\n",
       "      <th>RatecodeID</th>\n",
       "      <th>store_and_fwd_flag</th>\n",
       "      <th>PULocationID</th>\n",
       "      <th>DOLocationID</th>\n",
       "      <th>payment_type</th>\n",
       "      <th>...</th>\n",
       "      <th>improvement_surcharge</th>\n",
       "      <th>total_amount</th>\n",
       "      <th>congestion_surcharge</th>\n",
       "      <th>trip_pickup_day</th>\n",
       "      <th>week_day</th>\n",
       "      <th>trip_pickup_hour</th>\n",
       "      <th>trip_dropoff_hour</th>\n",
       "      <th>trip_duration</th>\n",
       "      <th>trip_duration_secs</th>\n",
       "      <th>average_velocity</th>\n",
       "    </tr>\n",
       "  </thead>\n",
       "  <tbody>\n",
       "    <tr>\n",
       "      <th>1</th>\n",
       "      <td>1</td>\n",
       "      <td>2019-05-01 00:35:54</td>\n",
       "      <td>2019-05-01 00:37:27</td>\n",
       "      <td>1</td>\n",
       "      <td>1.50</td>\n",
       "      <td>1</td>\n",
       "      <td>N</td>\n",
       "      <td>145</td>\n",
       "      <td>145</td>\n",
       "      <td>2</td>\n",
       "      <td>...</td>\n",
       "      <td>0.3</td>\n",
       "      <td>4.30</td>\n",
       "      <td>0.0</td>\n",
       "      <td>1</td>\n",
       "      <td>2</td>\n",
       "      <td>0</td>\n",
       "      <td>0</td>\n",
       "      <td>00:01:33</td>\n",
       "      <td>93</td>\n",
       "      <td>25.957097</td>\n",
       "    </tr>\n",
       "    <tr>\n",
       "      <th>3</th>\n",
       "      <td>1</td>\n",
       "      <td>2019-05-01 00:44:57</td>\n",
       "      <td>2019-05-01 00:50:11</td>\n",
       "      <td>1</td>\n",
       "      <td>0.70</td>\n",
       "      <td>1</td>\n",
       "      <td>N</td>\n",
       "      <td>161</td>\n",
       "      <td>161</td>\n",
       "      <td>2</td>\n",
       "      <td>...</td>\n",
       "      <td>0.3</td>\n",
       "      <td>8.80</td>\n",
       "      <td>2.5</td>\n",
       "      <td>1</td>\n",
       "      <td>2</td>\n",
       "      <td>0</td>\n",
       "      <td>0</td>\n",
       "      <td>00:05:14</td>\n",
       "      <td>314</td>\n",
       "      <td>3.587701</td>\n",
       "    </tr>\n",
       "    <tr>\n",
       "      <th>4</th>\n",
       "      <td>1</td>\n",
       "      <td>2019-05-01 00:59:48</td>\n",
       "      <td>2019-05-01 01:10:22</td>\n",
       "      <td>1</td>\n",
       "      <td>2.00</td>\n",
       "      <td>1</td>\n",
       "      <td>N</td>\n",
       "      <td>163</td>\n",
       "      <td>141</td>\n",
       "      <td>1</td>\n",
       "      <td>...</td>\n",
       "      <td>0.3</td>\n",
       "      <td>15.30</td>\n",
       "      <td>2.5</td>\n",
       "      <td>1</td>\n",
       "      <td>2</td>\n",
       "      <td>0</td>\n",
       "      <td>1</td>\n",
       "      <td>00:10:34</td>\n",
       "      <td>634</td>\n",
       "      <td>5.076782</td>\n",
       "    </tr>\n",
       "    <tr>\n",
       "      <th>7</th>\n",
       "      <td>1</td>\n",
       "      <td>2019-05-01 00:23:20</td>\n",
       "      <td>2019-05-01 00:32:57</td>\n",
       "      <td>1</td>\n",
       "      <td>2.50</td>\n",
       "      <td>1</td>\n",
       "      <td>N</td>\n",
       "      <td>260</td>\n",
       "      <td>56</td>\n",
       "      <td>2</td>\n",
       "      <td>...</td>\n",
       "      <td>0.3</td>\n",
       "      <td>11.30</td>\n",
       "      <td>0.0</td>\n",
       "      <td>1</td>\n",
       "      <td>2</td>\n",
       "      <td>0</td>\n",
       "      <td>0</td>\n",
       "      <td>00:09:37</td>\n",
       "      <td>577</td>\n",
       "      <td>6.972877</td>\n",
       "    </tr>\n",
       "    <tr>\n",
       "      <th>8</th>\n",
       "      <td>1</td>\n",
       "      <td>2019-05-01 00:35:54</td>\n",
       "      <td>2019-05-01 00:47:49</td>\n",
       "      <td>1</td>\n",
       "      <td>2.80</td>\n",
       "      <td>1</td>\n",
       "      <td>N</td>\n",
       "      <td>56</td>\n",
       "      <td>226</td>\n",
       "      <td>2</td>\n",
       "      <td>...</td>\n",
       "      <td>0.3</td>\n",
       "      <td>12.80</td>\n",
       "      <td>0.0</td>\n",
       "      <td>1</td>\n",
       "      <td>2</td>\n",
       "      <td>0</td>\n",
       "      <td>0</td>\n",
       "      <td>00:11:55</td>\n",
       "      <td>715</td>\n",
       "      <td>6.302310</td>\n",
       "    </tr>\n",
       "    <tr>\n",
       "      <th>...</th>\n",
       "      <td>...</td>\n",
       "      <td>...</td>\n",
       "      <td>...</td>\n",
       "      <td>...</td>\n",
       "      <td>...</td>\n",
       "      <td>...</td>\n",
       "      <td>...</td>\n",
       "      <td>...</td>\n",
       "      <td>...</td>\n",
       "      <td>...</td>\n",
       "      <td>...</td>\n",
       "      <td>...</td>\n",
       "      <td>...</td>\n",
       "      <td>...</td>\n",
       "      <td>...</td>\n",
       "      <td>...</td>\n",
       "      <td>...</td>\n",
       "      <td>...</td>\n",
       "      <td>...</td>\n",
       "      <td>...</td>\n",
       "      <td>...</td>\n",
       "    </tr>\n",
       "    <tr>\n",
       "      <th>7565253</th>\n",
       "      <td>2</td>\n",
       "      <td>2019-05-31 23:40:41</td>\n",
       "      <td>2019-05-31 23:45:16</td>\n",
       "      <td>1</td>\n",
       "      <td>0.44</td>\n",
       "      <td>1</td>\n",
       "      <td>N</td>\n",
       "      <td>163</td>\n",
       "      <td>142</td>\n",
       "      <td>2</td>\n",
       "      <td>...</td>\n",
       "      <td>0.3</td>\n",
       "      <td>7.80</td>\n",
       "      <td>2.5</td>\n",
       "      <td>31</td>\n",
       "      <td>4</td>\n",
       "      <td>23</td>\n",
       "      <td>23</td>\n",
       "      <td>00:04:35</td>\n",
       "      <td>275</td>\n",
       "      <td>2.574944</td>\n",
       "    </tr>\n",
       "    <tr>\n",
       "      <th>7565254</th>\n",
       "      <td>2</td>\n",
       "      <td>2019-05-31 23:47:35</td>\n",
       "      <td>2019-05-31 23:57:15</td>\n",
       "      <td>1</td>\n",
       "      <td>1.39</td>\n",
       "      <td>1</td>\n",
       "      <td>N</td>\n",
       "      <td>43</td>\n",
       "      <td>229</td>\n",
       "      <td>1</td>\n",
       "      <td>...</td>\n",
       "      <td>0.3</td>\n",
       "      <td>14.16</td>\n",
       "      <td>2.5</td>\n",
       "      <td>31</td>\n",
       "      <td>4</td>\n",
       "      <td>23</td>\n",
       "      <td>23</td>\n",
       "      <td>00:09:40</td>\n",
       "      <td>580</td>\n",
       "      <td>3.856867</td>\n",
       "    </tr>\n",
       "    <tr>\n",
       "      <th>7565256</th>\n",
       "      <td>2</td>\n",
       "      <td>2019-05-31 23:22:08</td>\n",
       "      <td>2019-05-31 23:58:35</td>\n",
       "      <td>3</td>\n",
       "      <td>15.69</td>\n",
       "      <td>1</td>\n",
       "      <td>N</td>\n",
       "      <td>231</td>\n",
       "      <td>153</td>\n",
       "      <td>1</td>\n",
       "      <td>...</td>\n",
       "      <td>0.3</td>\n",
       "      <td>62.88</td>\n",
       "      <td>2.5</td>\n",
       "      <td>31</td>\n",
       "      <td>4</td>\n",
       "      <td>23</td>\n",
       "      <td>23</td>\n",
       "      <td>00:36:27</td>\n",
       "      <td>2187</td>\n",
       "      <td>11.545745</td>\n",
       "    </tr>\n",
       "    <tr>\n",
       "      <th>7565257</th>\n",
       "      <td>2</td>\n",
       "      <td>2019-05-31 23:10:12</td>\n",
       "      <td>2019-05-31 23:17:56</td>\n",
       "      <td>1</td>\n",
       "      <td>1.42</td>\n",
       "      <td>1</td>\n",
       "      <td>N</td>\n",
       "      <td>262</td>\n",
       "      <td>237</td>\n",
       "      <td>1</td>\n",
       "      <td>...</td>\n",
       "      <td>0.3</td>\n",
       "      <td>14.12</td>\n",
       "      <td>2.5</td>\n",
       "      <td>31</td>\n",
       "      <td>4</td>\n",
       "      <td>23</td>\n",
       "      <td>23</td>\n",
       "      <td>00:07:44</td>\n",
       "      <td>464</td>\n",
       "      <td>4.925135</td>\n",
       "    </tr>\n",
       "    <tr>\n",
       "      <th>7565258</th>\n",
       "      <td>2</td>\n",
       "      <td>2019-05-31 23:38:07</td>\n",
       "      <td>2019-06-01 00:47:30</td>\n",
       "      <td>1</td>\n",
       "      <td>9.39</td>\n",
       "      <td>1</td>\n",
       "      <td>N</td>\n",
       "      <td>170</td>\n",
       "      <td>36</td>\n",
       "      <td>2</td>\n",
       "      <td>...</td>\n",
       "      <td>0.3</td>\n",
       "      <td>45.80</td>\n",
       "      <td>2.5</td>\n",
       "      <td>31</td>\n",
       "      <td>4</td>\n",
       "      <td>23</td>\n",
       "      <td>0</td>\n",
       "      <td>01:09:23</td>\n",
       "      <td>4163</td>\n",
       "      <td>3.630003</td>\n",
       "    </tr>\n",
       "  </tbody>\n",
       "</table>\n",
       "<p>7096846 rows × 25 columns</p>\n",
       "</div>"
      ],
      "text/plain": [
       "         VendorID tpep_pickup_datetime tpep_dropoff_datetime  passenger_count  \\\n",
       "1               1  2019-05-01 00:35:54   2019-05-01 00:37:27                1   \n",
       "3               1  2019-05-01 00:44:57   2019-05-01 00:50:11                1   \n",
       "4               1  2019-05-01 00:59:48   2019-05-01 01:10:22                1   \n",
       "7               1  2019-05-01 00:23:20   2019-05-01 00:32:57                1   \n",
       "8               1  2019-05-01 00:35:54   2019-05-01 00:47:49                1   \n",
       "...           ...                  ...                   ...              ...   \n",
       "7565253         2  2019-05-31 23:40:41   2019-05-31 23:45:16                1   \n",
       "7565254         2  2019-05-31 23:47:35   2019-05-31 23:57:15                1   \n",
       "7565256         2  2019-05-31 23:22:08   2019-05-31 23:58:35                3   \n",
       "7565257         2  2019-05-31 23:10:12   2019-05-31 23:17:56                1   \n",
       "7565258         2  2019-05-31 23:38:07   2019-06-01 00:47:30                1   \n",
       "\n",
       "         trip_distance  RatecodeID store_and_fwd_flag  PULocationID  \\\n",
       "1                 1.50           1                  N           145   \n",
       "3                 0.70           1                  N           161   \n",
       "4                 2.00           1                  N           163   \n",
       "7                 2.50           1                  N           260   \n",
       "8                 2.80           1                  N            56   \n",
       "...                ...         ...                ...           ...   \n",
       "7565253           0.44           1                  N           163   \n",
       "7565254           1.39           1                  N            43   \n",
       "7565256          15.69           1                  N           231   \n",
       "7565257           1.42           1                  N           262   \n",
       "7565258           9.39           1                  N           170   \n",
       "\n",
       "         DOLocationID  payment_type  ...  improvement_surcharge  total_amount  \\\n",
       "1                 145             2  ...                    0.3          4.30   \n",
       "3                 161             2  ...                    0.3          8.80   \n",
       "4                 141             1  ...                    0.3         15.30   \n",
       "7                  56             2  ...                    0.3         11.30   \n",
       "8                 226             2  ...                    0.3         12.80   \n",
       "...               ...           ...  ...                    ...           ...   \n",
       "7565253           142             2  ...                    0.3          7.80   \n",
       "7565254           229             1  ...                    0.3         14.16   \n",
       "7565256           153             1  ...                    0.3         62.88   \n",
       "7565257           237             1  ...                    0.3         14.12   \n",
       "7565258            36             2  ...                    0.3         45.80   \n",
       "\n",
       "         congestion_surcharge  trip_pickup_day  week_day  trip_pickup_hour  \\\n",
       "1                         0.0                1         2                 0   \n",
       "3                         2.5                1         2                 0   \n",
       "4                         2.5                1         2                 0   \n",
       "7                         0.0                1         2                 0   \n",
       "8                         0.0                1         2                 0   \n",
       "...                       ...              ...       ...               ...   \n",
       "7565253                   2.5               31         4                23   \n",
       "7565254                   2.5               31         4                23   \n",
       "7565256                   2.5               31         4                23   \n",
       "7565257                   2.5               31         4                23   \n",
       "7565258                   2.5               31         4                23   \n",
       "\n",
       "         trip_dropoff_hour  trip_duration  trip_duration_secs  \\\n",
       "1                        0       00:01:33                  93   \n",
       "3                        0       00:05:14                 314   \n",
       "4                        1       00:10:34                 634   \n",
       "7                        0       00:09:37                 577   \n",
       "8                        0       00:11:55                 715   \n",
       "...                    ...            ...                 ...   \n",
       "7565253                 23       00:04:35                 275   \n",
       "7565254                 23       00:09:40                 580   \n",
       "7565256                 23       00:36:27                2187   \n",
       "7565257                 23       00:07:44                 464   \n",
       "7565258                  0       01:09:23                4163   \n",
       "\n",
       "         average_velocity  \n",
       "1               25.957097  \n",
       "3                3.587701  \n",
       "4                5.076782  \n",
       "7                6.972877  \n",
       "8                6.302310  \n",
       "...                   ...  \n",
       "7565253          2.574944  \n",
       "7565254          3.856867  \n",
       "7565256         11.545745  \n",
       "7565257          4.925135  \n",
       "7565258          3.630003  \n",
       "\n",
       "[7096846 rows x 25 columns]"
      ]
     },
     "execution_count": 11,
     "metadata": {},
     "output_type": "execute_result"
    }
   ],
   "source": [
    "trips"
   ]
  },
  {
   "cell_type": "code",
   "execution_count": 12,
   "metadata": {},
   "outputs": [
    {
     "data": {
      "text/plain": [
       "<matplotlib.axes._subplots.AxesSubplot at 0x7fefe4f9f4e0>"
      ]
     },
     "execution_count": 12,
     "metadata": {},
     "output_type": "execute_result"
    },
    {
     "data": {
      "image/png": "[encoded data removed]",
      "text/plain": [
       "<Figure size 432x288 with 1 Axes>"
      ]
     },
     "metadata": {
      "needs_background": "light"
     },
     "output_type": "display_data"
    }
   ],
   "source": [
    "trips.plot.scatter(x='trip_distance', y='total_amount')"
   ]
  },
  {
   "cell_type": "markdown",
   "metadata": {},
   "source": [
    "Построим гистограммы по дню поездки, где понедельник = 0, воскресенье = 6."
   ]
  },
  {
   "cell_type": "code",
   "execution_count": 13,
   "metadata": {},
   "outputs": [
    {
     "data": {
      "text/plain": [
       "<matplotlib.axes._subplots.AxesSubplot at 0x7fefe20cf668>"
      ]
     },
     "execution_count": 13,
     "metadata": {},
     "output_type": "execute_result"
    },
    {
     "data": {
      "image/png": "[encoded data removed]",
      "text/plain": [
       "<Figure size 432x288 with 1 Axes>"
      ]
     },
     "metadata": {
      "needs_background": "light"
     },
     "output_type": "display_data"
    }
   ],
   "source": [
    "trips.week_day.hist(bins=7)"
   ]
  },
  {
   "cell_type": "markdown",
   "metadata": {},
   "source": [
    "Посмотрим на распределение по каждому дню недели."
   ]
  },
  {
   "cell_type": "code",
   "execution_count": 14,
   "metadata": {},
   "outputs": [
    {
     "data": {
      "image/png": "[encoded data removed]",
      "text/plain": [
       "<Figure size 3600x2160 with 1 Axes>"
      ]
     },
     "metadata": {
      "needs_background": "light"
     },
     "output_type": "display_data"
    },
    {
     "data": {
      "image/png": "[encoded data removed]",
      "text/plain": [
       "<Figure size 3600x2160 with 1 Axes>"
      ]
     },
     "metadata": {
      "needs_background": "light"
     },
     "output_type": "display_data"
    },
    {
     "data": {
      "image/png": "[encoded data removed]",
      "text/plain": [
       "<Figure size 3600x2160 with 1 Axes>"
      ]
     },
     "metadata": {
      "needs_background": "light"
     },
     "output_type": "display_data"
    },
    {
     "data": {
      "image/png": "[encoded data removed]",
      "text/plain": [
       "<Figure size 3600x2160 with 1 Axes>"
      ]
     },
     "metadata": {
      "needs_background": "light"
     },
     "output_type": "display_data"
    },
    {
     "data": {
      "image/png": "[encoded data removed]",
      "text/plain": [
       "<Figure size 3600x2160 with 1 Axes>"
      ]
     },
     "metadata": {
      "needs_background": "light"
     },
     "output_type": "display_data"
    },
    {
     "data": {
      "image/png": "[encoded data removed]",
      "text/plain": [
       "<Figure size 3600x2160 with 1 Axes>"
      ]
     },
     "metadata": {
      "needs_background": "light"
     },
     "output_type": "display_data"
    },
    {
     "data": {
      "image/png": "[encoded data removed]",
      "text/plain": [
       "<Figure size 3600x2160 with 1 Axes>"
      ]
     },
     "metadata": {
      "needs_background": "light"
     },
     "output_type": "display_data"
    }
   ],
   "source": [
    "for i in range(7):\n",
    "    plt.figure(figsize=(50,30))\n",
    "    plt.subplot(7, 7, i + 1)\n",
    "    plt.xlabel('day ' + str(i))\n",
    "    plt.hist(trips[trips.week_day == i].trip_pickup_hour, bins=24)"
   ]
  },
  {
   "cell_type": "markdown",
   "metadata": {},
   "source": [
    "По дате начала поездки."
   ]
  },
  {
   "cell_type": "code",
   "execution_count": 15,
   "metadata": {},
   "outputs": [
    {
     "data": {
      "text/plain": [
       "<matplotlib.axes._subplots.AxesSubplot at 0x7fefe0e06390>"
      ]
     },
     "execution_count": 15,
     "metadata": {},
     "output_type": "execute_result"
    },
    {
     "data": {
      "image/png": "[encoded data removed]",
      "text/plain": [
       "<Figure size 432x288 with 1 Axes>"
      ]
     },
     "metadata": {
      "needs_background": "light"
     },
     "output_type": "display_data"
    }
   ],
   "source": [
    "trips.trip_pickup_day.hist(bins=31)"
   ]
  },
  {
   "cell_type": "markdown",
   "metadata": {},
   "source": [
    "По часу начала и конца."
   ]
  },
  {
   "cell_type": "code",
   "execution_count": 16,
   "metadata": {},
   "outputs": [
    {
     "data": {
      "image/png": "[encoded data removed]",
      "text/plain": [
       "<Figure size 3600x2160 with 2 Axes>"
      ]
     },
     "metadata": {
      "needs_background": "light"
     },
     "output_type": "display_data"
    }
   ],
   "source": [
    "plt.figure(figsize=(50, 30))\n",
    "plt.subplot(7, 7, 1)\n",
    "plt.xlabel('start(pickup)')\n",
    "arr_val1 = plt.hist(trips.trip_pickup_hour, bins=24)\n",
    "plt.subplot(7, 7, 2)\n",
    "plt.xlabel('end(dropoff)')\n",
    "arr_val2 = plt.hist(trips.trip_dropoff_hour, bins=24)"
   ]
  }
 ],
 "metadata": {
  "kernelspec": {
   "display_name": "Python 3",
   "language": "python",
   "name": "python3"
  },
  "language_info": {
   "codemirror_mode": {
    "name": "ipython",
    "version": 3
   },
   "file_extension": ".py",
   "mimetype": "text/x-python",
   "name": "python",
   "nbconvert_exporter": "python",
   "pygments_lexer": "ipython3",
   "version": "3.6.9"
  }
 },
 "nbformat": 4,
 "nbformat_minor": 4
}
