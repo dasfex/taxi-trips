{
 "cells": [
  {
   "cell_type": "code",
   "execution_count": 1,
   "metadata": {},
   "outputs": [],
   "source": [
    "import pandas as pd\n",
    "from datetime import datetime\n",
    "import matplotlib.pyplot as plt\n",
    "import seaborn as sns"
   ]
  },
  {
   "cell_type": "code",
   "execution_count": 2,
   "metadata": {},
   "outputs": [],
   "source": [
    "sns.set_theme()"
   ]
  },
  {
   "cell_type": "code",
   "execution_count": 3,
   "metadata": {},
   "outputs": [
    {
     "name": "stderr",
     "output_type": "stream",
     "text": [
      "/home/khodor/.local/lib/python3.6/site-packages/IPython/core/interactiveshell.py:3063: DtypeWarning: Columns (6) have mixed types. Specify dtype option on import or set low_memory=False.\n",
      "  interactivity=interactivity, compiler=compiler, result=result)\n"
     ]
    }
   ],
   "source": [
    "trips19 = pd.read_csv('tripdata_2019-05.csv')\n",
    "trips20 = pd.read_csv('tripdata_2020-05.csv')"
   ]
  },
  {
   "cell_type": "markdown",
   "metadata": {},
   "source": [
    "Посмотрим, какие пропущенные значения есть в данных."
   ]
  },
  {
   "cell_type": "code",
   "execution_count": 21,
   "metadata": {},
   "outputs": [
    {
     "name": "stdout",
     "output_type": "stream",
     "text": [
      "VendorID 0\n",
      "tpep_pickup_datetime 0\n",
      "tpep_dropoff_datetime 0\n",
      "passenger_count 0\n",
      "trip_distance 0\n",
      "RatecodeID 0\n",
      "store_and_fwd_flag 0\n",
      "PULocationID 0\n",
      "DOLocationID 0\n",
      "payment_type 0\n",
      "fare_amount 0\n",
      "extra 0\n",
      "mta_tax 0\n",
      "tip_amount 0\n",
      "tolls_amount 0\n",
      "improvement_surcharge 0\n",
      "total_amount 0\n",
      "congestion_surcharge 0\n"
     ]
    }
   ],
   "source": [
    "for el in trips19.columns:\n",
    "    print(el, trips19[el].isna().sum())"
   ]
  },
  {
   "cell_type": "code",
   "execution_count": 22,
   "metadata": {},
   "outputs": [
    {
     "name": "stdout",
     "output_type": "stream",
     "text": [
      "VendorID 58891\n",
      "tpep_pickup_datetime 0\n",
      "tpep_dropoff_datetime 0\n",
      "passenger_count 58891\n",
      "trip_distance 0\n",
      "RatecodeID 58891\n",
      "store_and_fwd_flag 58891\n",
      "PULocationID 0\n",
      "DOLocationID 0\n",
      "payment_type 58891\n",
      "fare_amount 0\n",
      "extra 0\n",
      "mta_tax 0\n",
      "tip_amount 0\n",
      "tolls_amount 0\n",
      "improvement_surcharge 0\n",
      "total_amount 0\n",
      "congestion_surcharge 0\n"
     ]
    }
   ],
   "source": [
    "for el in trips20.columns:\n",
    "    print(el, trips20[el].isna().sum())"
   ]
  },
  {
   "cell_type": "markdown",
   "metadata": {},
   "source": [
    "На данный момент из пропущенных данных для нас интерес может представлять только колонка о количестве пассажиров.\n",
    "\n",
    "Посмотрим на самое частое значение и заменим на него все пропущенные значения."
   ]
  },
  {
   "cell_type": "code",
   "execution_count": 4,
   "metadata": {},
   "outputs": [
    {
     "name": "stdout",
     "output_type": "stream",
     "text": [
      "Max passengers count =  1.0\n"
     ]
    }
   ],
   "source": [
    "max_passengers_count = trips20['passenger_count'].value_counts().idxmax()\n",
    "print(\"Max passengers count = \", max_passengers_count)\n",
    "trips20.passenger_count = trips20.passenger_count.fillna(max_passengers_count)"
   ]
  },
  {
   "cell_type": "markdown",
   "metadata": {},
   "source": [
    "Посмотрим на количество колонок, в которых встречаются данные со значением Nan."
   ]
  },
  {
   "cell_type": "markdown",
   "metadata": {},
   "source": [
    "Преобразуем формат ячеек с временем для удобства."
   ]
  },
  {
   "cell_type": "code",
   "execution_count": 5,
   "metadata": {},
   "outputs": [],
   "source": [
    "trips19['tpep_pickup_datetime'] = pd.to_datetime(trips19.tpep_pickup_datetime)\n",
    "trips19['tpep_dropoff_datetime'] = pd.to_datetime(trips19.tpep_dropoff_datetime)\n",
    "\n",
    "trips20['tpep_pickup_datetime'] = pd.to_datetime(trips20.tpep_pickup_datetime)\n",
    "trips20['tpep_dropoff_datetime'] = pd.to_datetime(trips20.tpep_dropoff_datetime)"
   ]
  },
  {
   "cell_type": "markdown",
   "metadata": {},
   "source": [
    "Удалим данные, в которых начало во времени находится после конца."
   ]
  },
  {
   "cell_type": "code",
   "execution_count": 6,
   "metadata": {},
   "outputs": [],
   "source": [
    "trips19 = trips19[trips19.tpep_pickup_datetime <= trips19.tpep_dropoff_datetime]\n",
    "trips20 = trips20[trips20.tpep_pickup_datetime <= trips20.tpep_dropoff_datetime]"
   ]
  },
  {
   "cell_type": "markdown",
   "metadata": {},
   "source": [
    "Введём новые колонки: \n",
    "\n",
    "1. с датой начала поездки; \n",
    "\n",
    "2. с часом начала и конца;\n",
    "\n",
    "3. с днём недели начала поездки; \n",
    "\n",
    "4. с временем продолжительности поездки(день конца поездки игнорируем, т.к. почти все поездки будут в промежутке одного дня);\n",
    "\n",
    "5. временем поездки в секундах;\n",
    "\n",
    "6. средней скоростью в м/с."
   ]
  },
  {
   "cell_type": "code",
   "execution_count": 7,
   "metadata": {},
   "outputs": [],
   "source": [
    "trips19['trip_pickup_day'] = trips19.tpep_pickup_datetime.dt.day\n",
    "trips19['week_day'] = trips19.tpep_pickup_datetime.dt.dayofweek\n",
    "trips19['trip_pickup_hour'] = trips19.tpep_pickup_datetime.dt.hour\n",
    "trips19['trip_dropoff_hour'] = trips19.tpep_dropoff_datetime.dt.hour\n",
    "trips19['trip_duration'] = trips19.tpep_dropoff_datetime - trips19.tpep_pickup_datetime\n",
    "trips19['trip_duration_secs'] = trips19.trip_duration.dt.seconds\n",
    "trips19['average_velocity'] = (trips19['trip_distance'] * 1609.34) / trips19['trip_duration_secs']\n",
    "\n",
    "trips20['trip_pickup_day'] = trips20.tpep_pickup_datetime.dt.day\n",
    "trips20['week_day'] = trips20.tpep_pickup_datetime.dt.dayofweek\n",
    "trips20['trip_pickup_hour'] = trips20.tpep_pickup_datetime.dt.hour\n",
    "trips20['trip_dropoff_hour'] = trips20.tpep_dropoff_datetime.dt.hour\n",
    "trips20['trip_duration'] = trips20.tpep_dropoff_datetime - trips20.tpep_pickup_datetime\n",
    "trips20['trip_duration_secs'] = trips20.trip_duration.dt.seconds\n",
    "trips20['average_velocity'] = (trips20['trip_distance'] * 1609.34) / trips20['trip_duration_secs']"
   ]
  },
  {
   "cell_type": "markdown",
   "metadata": {},
   "source": [
    "Посмотрим, есть ли в данных нереальные случаи.\n",
    "\n",
    "Установим ограничение для средней скорости в 162 км/ч(45 м/с) сверху и 2(м/с) снизу, а также удалим строки, в которых преодолено нулевое расстояние за ненулевое время, при этом получена некоторая сумма за поездку.\n",
    "\n",
    "Так же удалим строки с отрицательной стоимостью поездки."
   ]
  },
  {
   "cell_type": "code",
   "execution_count": 8,
   "metadata": {},
   "outputs": [],
   "source": [
    "trips19 = trips19[trips19.average_velocity <= 45]\n",
    "trips19 = trips19[trips19.average_velocity > 2]\n",
    "trips19 = trips19.drop(trips19[(trips19.trip_distance == 0) & (trips19.total_amount > 0) & (trips19.trip_duration_secs > 0)].index)\n",
    "trips19 = trips19[trips19.total_amount >= 0]\n",
    "\n",
    "trips20 = trips20[trips20.average_velocity <= 45]\n",
    "trips20 = trips20[trips20.average_velocity > 2]\n",
    "trips20 = trips20.drop(trips20[(trips20.trip_distance == 0) & (trips20.total_amount > 0) & (trips20.trip_duration_secs > 0)].index)\n",
    "trips20 = trips20[trips20.total_amount >= 0]"
   ]
  },
  {
   "cell_type": "code",
   "execution_count": 10,
   "metadata": {},
   "outputs": [
    {
     "data": {
      "text/html": [
       "<div>\n",
       "<style scoped>\n",
       "    .dataframe tbody tr th:only-of-type {\n",
       "        vertical-align: middle;\n",
       "    }\n",
       "\n",
       "    .dataframe tbody tr th {\n",
       "        vertical-align: top;\n",
       "    }\n",
       "\n",
       "    .dataframe thead th {\n",
       "        text-align: right;\n",
       "    }\n",
       "</style>\n",
       "<table border=\"1\" class=\"dataframe\">\n",
       "  <thead>\n",
       "    <tr style=\"text-align: right;\">\n",
       "      <th></th>\n",
       "      <th>VendorID</th>\n",
       "      <th>tpep_pickup_datetime</th>\n",
       "      <th>tpep_dropoff_datetime</th>\n",
       "      <th>passenger_count</th>\n",
       "      <th>trip_distance</th>\n",
       "      <th>RatecodeID</th>\n",
       "      <th>store_and_fwd_flag</th>\n",
       "      <th>PULocationID</th>\n",
       "      <th>DOLocationID</th>\n",
       "      <th>payment_type</th>\n",
       "      <th>...</th>\n",
       "      <th>improvement_surcharge</th>\n",
       "      <th>total_amount</th>\n",
       "      <th>congestion_surcharge</th>\n",
       "      <th>trip_pickup_day</th>\n",
       "      <th>week_day</th>\n",
       "      <th>trip_pickup_hour</th>\n",
       "      <th>trip_dropoff_hour</th>\n",
       "      <th>trip_duration</th>\n",
       "      <th>trip_duration_secs</th>\n",
       "      <th>average_velocity</th>\n",
       "    </tr>\n",
       "  </thead>\n",
       "  <tbody>\n",
       "    <tr>\n",
       "      <th>1</th>\n",
       "      <td>1</td>\n",
       "      <td>2019-05-01 00:35:54</td>\n",
       "      <td>2019-05-01 00:37:27</td>\n",
       "      <td>1</td>\n",
       "      <td>1.50</td>\n",
       "      <td>1</td>\n",
       "      <td>N</td>\n",
       "      <td>145</td>\n",
       "      <td>145</td>\n",
       "      <td>2</td>\n",
       "      <td>...</td>\n",
       "      <td>0.3</td>\n",
       "      <td>4.30</td>\n",
       "      <td>0.0</td>\n",
       "      <td>1</td>\n",
       "      <td>2</td>\n",
       "      <td>0</td>\n",
       "      <td>0</td>\n",
       "      <td>00:01:33</td>\n",
       "      <td>93</td>\n",
       "      <td>25.957097</td>\n",
       "    </tr>\n",
       "    <tr>\n",
       "      <th>3</th>\n",
       "      <td>1</td>\n",
       "      <td>2019-05-01 00:44:57</td>\n",
       "      <td>2019-05-01 00:50:11</td>\n",
       "      <td>1</td>\n",
       "      <td>0.70</td>\n",
       "      <td>1</td>\n",
       "      <td>N</td>\n",
       "      <td>161</td>\n",
       "      <td>161</td>\n",
       "      <td>2</td>\n",
       "      <td>...</td>\n",
       "      <td>0.3</td>\n",
       "      <td>8.80</td>\n",
       "      <td>2.5</td>\n",
       "      <td>1</td>\n",
       "      <td>2</td>\n",
       "      <td>0</td>\n",
       "      <td>0</td>\n",
       "      <td>00:05:14</td>\n",
       "      <td>314</td>\n",
       "      <td>3.587701</td>\n",
       "    </tr>\n",
       "    <tr>\n",
       "      <th>4</th>\n",
       "      <td>1</td>\n",
       "      <td>2019-05-01 00:59:48</td>\n",
       "      <td>2019-05-01 01:10:22</td>\n",
       "      <td>1</td>\n",
       "      <td>2.00</td>\n",
       "      <td>1</td>\n",
       "      <td>N</td>\n",
       "      <td>163</td>\n",
       "      <td>141</td>\n",
       "      <td>1</td>\n",
       "      <td>...</td>\n",
       "      <td>0.3</td>\n",
       "      <td>15.30</td>\n",
       "      <td>2.5</td>\n",
       "      <td>1</td>\n",
       "      <td>2</td>\n",
       "      <td>0</td>\n",
       "      <td>1</td>\n",
       "      <td>00:10:34</td>\n",
       "      <td>634</td>\n",
       "      <td>5.076782</td>\n",
       "    </tr>\n",
       "    <tr>\n",
       "      <th>7</th>\n",
       "      <td>1</td>\n",
       "      <td>2019-05-01 00:23:20</td>\n",
       "      <td>2019-05-01 00:32:57</td>\n",
       "      <td>1</td>\n",
       "      <td>2.50</td>\n",
       "      <td>1</td>\n",
       "      <td>N</td>\n",
       "      <td>260</td>\n",
       "      <td>56</td>\n",
       "      <td>2</td>\n",
       "      <td>...</td>\n",
       "      <td>0.3</td>\n",
       "      <td>11.30</td>\n",
       "      <td>0.0</td>\n",
       "      <td>1</td>\n",
       "      <td>2</td>\n",
       "      <td>0</td>\n",
       "      <td>0</td>\n",
       "      <td>00:09:37</td>\n",
       "      <td>577</td>\n",
       "      <td>6.972877</td>\n",
       "    </tr>\n",
       "    <tr>\n",
       "      <th>8</th>\n",
       "      <td>1</td>\n",
       "      <td>2019-05-01 00:35:54</td>\n",
       "      <td>2019-05-01 00:47:49</td>\n",
       "      <td>1</td>\n",
       "      <td>2.80</td>\n",
       "      <td>1</td>\n",
       "      <td>N</td>\n",
       "      <td>56</td>\n",
       "      <td>226</td>\n",
       "      <td>2</td>\n",
       "      <td>...</td>\n",
       "      <td>0.3</td>\n",
       "      <td>12.80</td>\n",
       "      <td>0.0</td>\n",
       "      <td>1</td>\n",
       "      <td>2</td>\n",
       "      <td>0</td>\n",
       "      <td>0</td>\n",
       "      <td>00:11:55</td>\n",
       "      <td>715</td>\n",
       "      <td>6.302310</td>\n",
       "    </tr>\n",
       "    <tr>\n",
       "      <th>...</th>\n",
       "      <td>...</td>\n",
       "      <td>...</td>\n",
       "      <td>...</td>\n",
       "      <td>...</td>\n",
       "      <td>...</td>\n",
       "      <td>...</td>\n",
       "      <td>...</td>\n",
       "      <td>...</td>\n",
       "      <td>...</td>\n",
       "      <td>...</td>\n",
       "      <td>...</td>\n",
       "      <td>...</td>\n",
       "      <td>...</td>\n",
       "      <td>...</td>\n",
       "      <td>...</td>\n",
       "      <td>...</td>\n",
       "      <td>...</td>\n",
       "      <td>...</td>\n",
       "      <td>...</td>\n",
       "      <td>...</td>\n",
       "      <td>...</td>\n",
       "    </tr>\n",
       "    <tr>\n",
       "      <th>7565253</th>\n",
       "      <td>2</td>\n",
       "      <td>2019-05-31 23:40:41</td>\n",
       "      <td>2019-05-31 23:45:16</td>\n",
       "      <td>1</td>\n",
       "      <td>0.44</td>\n",
       "      <td>1</td>\n",
       "      <td>N</td>\n",
       "      <td>163</td>\n",
       "      <td>142</td>\n",
       "      <td>2</td>\n",
       "      <td>...</td>\n",
       "      <td>0.3</td>\n",
       "      <td>7.80</td>\n",
       "      <td>2.5</td>\n",
       "      <td>31</td>\n",
       "      <td>4</td>\n",
       "      <td>23</td>\n",
       "      <td>23</td>\n",
       "      <td>00:04:35</td>\n",
       "      <td>275</td>\n",
       "      <td>2.574944</td>\n",
       "    </tr>\n",
       "    <tr>\n",
       "      <th>7565254</th>\n",
       "      <td>2</td>\n",
       "      <td>2019-05-31 23:47:35</td>\n",
       "      <td>2019-05-31 23:57:15</td>\n",
       "      <td>1</td>\n",
       "      <td>1.39</td>\n",
       "      <td>1</td>\n",
       "      <td>N</td>\n",
       "      <td>43</td>\n",
       "      <td>229</td>\n",
       "      <td>1</td>\n",
       "      <td>...</td>\n",
       "      <td>0.3</td>\n",
       "      <td>14.16</td>\n",
       "      <td>2.5</td>\n",
       "      <td>31</td>\n",
       "      <td>4</td>\n",
       "      <td>23</td>\n",
       "      <td>23</td>\n",
       "      <td>00:09:40</td>\n",
       "      <td>580</td>\n",
       "      <td>3.856867</td>\n",
       "    </tr>\n",
       "    <tr>\n",
       "      <th>7565256</th>\n",
       "      <td>2</td>\n",
       "      <td>2019-05-31 23:22:08</td>\n",
       "      <td>2019-05-31 23:58:35</td>\n",
       "      <td>3</td>\n",
       "      <td>15.69</td>\n",
       "      <td>1</td>\n",
       "      <td>N</td>\n",
       "      <td>231</td>\n",
       "      <td>153</td>\n",
       "      <td>1</td>\n",
       "      <td>...</td>\n",
       "      <td>0.3</td>\n",
       "      <td>62.88</td>\n",
       "      <td>2.5</td>\n",
       "      <td>31</td>\n",
       "      <td>4</td>\n",
       "      <td>23</td>\n",
       "      <td>23</td>\n",
       "      <td>00:36:27</td>\n",
       "      <td>2187</td>\n",
       "      <td>11.545745</td>\n",
       "    </tr>\n",
       "    <tr>\n",
       "      <th>7565257</th>\n",
       "      <td>2</td>\n",
       "      <td>2019-05-31 23:10:12</td>\n",
       "      <td>2019-05-31 23:17:56</td>\n",
       "      <td>1</td>\n",
       "      <td>1.42</td>\n",
       "      <td>1</td>\n",
       "      <td>N</td>\n",
       "      <td>262</td>\n",
       "      <td>237</td>\n",
       "      <td>1</td>\n",
       "      <td>...</td>\n",
       "      <td>0.3</td>\n",
       "      <td>14.12</td>\n",
       "      <td>2.5</td>\n",
       "      <td>31</td>\n",
       "      <td>4</td>\n",
       "      <td>23</td>\n",
       "      <td>23</td>\n",
       "      <td>00:07:44</td>\n",
       "      <td>464</td>\n",
       "      <td>4.925135</td>\n",
       "    </tr>\n",
       "    <tr>\n",
       "      <th>7565258</th>\n",
       "      <td>2</td>\n",
       "      <td>2019-05-31 23:38:07</td>\n",
       "      <td>2019-06-01 00:47:30</td>\n",
       "      <td>1</td>\n",
       "      <td>9.39</td>\n",
       "      <td>1</td>\n",
       "      <td>N</td>\n",
       "      <td>170</td>\n",
       "      <td>36</td>\n",
       "      <td>2</td>\n",
       "      <td>...</td>\n",
       "      <td>0.3</td>\n",
       "      <td>45.80</td>\n",
       "      <td>2.5</td>\n",
       "      <td>31</td>\n",
       "      <td>4</td>\n",
       "      <td>23</td>\n",
       "      <td>0</td>\n",
       "      <td>01:09:23</td>\n",
       "      <td>4163</td>\n",
       "      <td>3.630003</td>\n",
       "    </tr>\n",
       "  </tbody>\n",
       "</table>\n",
       "<p>7087834 rows × 25 columns</p>\n",
       "</div>"
      ],
      "text/plain": [
       "         VendorID tpep_pickup_datetime tpep_dropoff_datetime  passenger_count  \\\n",
       "1               1  2019-05-01 00:35:54   2019-05-01 00:37:27                1   \n",
       "3               1  2019-05-01 00:44:57   2019-05-01 00:50:11                1   \n",
       "4               1  2019-05-01 00:59:48   2019-05-01 01:10:22                1   \n",
       "7               1  2019-05-01 00:23:20   2019-05-01 00:32:57                1   \n",
       "8               1  2019-05-01 00:35:54   2019-05-01 00:47:49                1   \n",
       "...           ...                  ...                   ...              ...   \n",
       "7565253         2  2019-05-31 23:40:41   2019-05-31 23:45:16                1   \n",
       "7565254         2  2019-05-31 23:47:35   2019-05-31 23:57:15                1   \n",
       "7565256         2  2019-05-31 23:22:08   2019-05-31 23:58:35                3   \n",
       "7565257         2  2019-05-31 23:10:12   2019-05-31 23:17:56                1   \n",
       "7565258         2  2019-05-31 23:38:07   2019-06-01 00:47:30                1   \n",
       "\n",
       "         trip_distance  RatecodeID store_and_fwd_flag  PULocationID  \\\n",
       "1                 1.50           1                  N           145   \n",
       "3                 0.70           1                  N           161   \n",
       "4                 2.00           1                  N           163   \n",
       "7                 2.50           1                  N           260   \n",
       "8                 2.80           1                  N            56   \n",
       "...                ...         ...                ...           ...   \n",
       "7565253           0.44           1                  N           163   \n",
       "7565254           1.39           1                  N            43   \n",
       "7565256          15.69           1                  N           231   \n",
       "7565257           1.42           1                  N           262   \n",
       "7565258           9.39           1                  N           170   \n",
       "\n",
       "         DOLocationID  payment_type  ...  improvement_surcharge  total_amount  \\\n",
       "1                 145             2  ...                    0.3          4.30   \n",
       "3                 161             2  ...                    0.3          8.80   \n",
       "4                 141             1  ...                    0.3         15.30   \n",
       "7                  56             2  ...                    0.3         11.30   \n",
       "8                 226             2  ...                    0.3         12.80   \n",
       "...               ...           ...  ...                    ...           ...   \n",
       "7565253           142             2  ...                    0.3          7.80   \n",
       "7565254           229             1  ...                    0.3         14.16   \n",
       "7565256           153             1  ...                    0.3         62.88   \n",
       "7565257           237             1  ...                    0.3         14.12   \n",
       "7565258            36             2  ...                    0.3         45.80   \n",
       "\n",
       "         congestion_surcharge  trip_pickup_day  week_day  trip_pickup_hour  \\\n",
       "1                         0.0                1         2                 0   \n",
       "3                         2.5                1         2                 0   \n",
       "4                         2.5                1         2                 0   \n",
       "7                         0.0                1         2                 0   \n",
       "8                         0.0                1         2                 0   \n",
       "...                       ...              ...       ...               ...   \n",
       "7565253                   2.5               31         4                23   \n",
       "7565254                   2.5               31         4                23   \n",
       "7565256                   2.5               31         4                23   \n",
       "7565257                   2.5               31         4                23   \n",
       "7565258                   2.5               31         4                23   \n",
       "\n",
       "         trip_dropoff_hour  trip_duration  trip_duration_secs  \\\n",
       "1                        0       00:01:33                  93   \n",
       "3                        0       00:05:14                 314   \n",
       "4                        1       00:10:34                 634   \n",
       "7                        0       00:09:37                 577   \n",
       "8                        0       00:11:55                 715   \n",
       "...                    ...            ...                 ...   \n",
       "7565253                 23       00:04:35                 275   \n",
       "7565254                 23       00:09:40                 580   \n",
       "7565256                 23       00:36:27                2187   \n",
       "7565257                 23       00:07:44                 464   \n",
       "7565258                  0       01:09:23                4163   \n",
       "\n",
       "         average_velocity  \n",
       "1               25.957097  \n",
       "3                3.587701  \n",
       "4                5.076782  \n",
       "7                6.972877  \n",
       "8                6.302310  \n",
       "...                   ...  \n",
       "7565253          2.574944  \n",
       "7565254          3.856867  \n",
       "7565256         11.545745  \n",
       "7565257          4.925135  \n",
       "7565258          3.630003  \n",
       "\n",
       "[7087834 rows x 25 columns]"
      ]
     },
     "execution_count": 10,
     "metadata": {},
     "output_type": "execute_result"
    }
   ],
   "source": [
    "trips19"
   ]
  },
  {
   "cell_type": "markdown",
   "metadata": {},
   "source": [
    "### Вот тут ниже надо будет графики в один ряд нарисовать."
   ]
  },
  {
   "cell_type": "code",
   "execution_count": 13,
   "metadata": {},
   "outputs": [],
   "source": [
    "#xparam = 'week_day'\n",
    "#yparam = 'total_amount'\n",
    "\n",
    "#pl19 = sns.relplot(\n",
    "#    data=trips19, x=xparam, y=yparam,\n",
    "#)\n",
    "#pl20 = sns.relplot(\n",
    "#    data=trips20, x=xparam, y=yparam,\n",
    "#)\n",
    "\n",
    "#x_lim = max(trips19[xparam].max(), trips20[xparam].max())\n",
    "#y_lim = max(trips19[yparam].max(), trips20[yparam].max())\n",
    "#pl19.set(xticks=(0, x_lim), yticks=(0, y_lim))\n",
    "#pl20.set(xticks=(0, x_lim), yticks=(0, y_lim))"
   ]
  },
  {
   "cell_type": "markdown",
   "metadata": {},
   "source": [
    "Построим гистограммы по дню поездки, где понедельник = 0, воскресенье = 6."
   ]
  },
  {
   "cell_type": "code",
   "execution_count": 21,
   "metadata": {},
   "outputs": [
    {
     "data": {
      "text/plain": [
       "4    1219877\n",
       "3    1212142\n",
       "2    1182718\n",
       "5     922303\n",
       "1     920098\n",
       "6     823923\n",
       "0     806773\n",
       "Name: week_day, dtype: int64"
      ]
     },
     "execution_count": 21,
     "metadata": {},
     "output_type": "execute_result"
    }
   ],
   "source": [
    "trips19.week_day.value_counts()"
   ]
  },
  {
   "cell_type": "markdown",
   "metadata": {},
   "source": [
    "### Тут вот непонятно, почему при наличии данных в 4й день, на графике не рисуется. Надо разобраться."
   ]
  },
  {
   "cell_type": "code",
   "execution_count": 15,
   "metadata": {},
   "outputs": [
    {
     "data": {
      "text/plain": [
       "<seaborn.axisgrid.FacetGrid at 0x7fcb4a3f87f0>"
      ]
     },
     "execution_count": 15,
     "metadata": {},
     "output_type": "execute_result"
    },
    {
     "data": {
      "image/png": "[encoded data removed]",
      "text/plain": [
       "<Figure size 360x360 with 1 Axes>"
      ]
     },
     "metadata": {},
     "output_type": "display_data"
    },
    {
     "data": {
      "image/png": "[encoded data removed]",
      "text/plain": [
       "<Figure size 360x360 with 1 Axes>"
      ]
     },
     "metadata": {},
     "output_type": "display_data"
    }
   ],
   "source": [
    "sns.displot(trips19, x='week_day')\n",
    "sns.displot(trips20, x='week_day')"
   ]
  },
  {
   "cell_type": "markdown",
   "metadata": {},
   "source": [
    "Посмотрим на распределение по каждому дню недели."
   ]
  },
  {
   "cell_type": "code",
   "execution_count": 16,
   "metadata": {
    "scrolled": false
   },
   "outputs": [
    {
     "data": {
      "image/png": "[encoded data removed]",
      "text/plain": [
       "<Figure size 360x360 with 1 Axes>"
      ]
     },
     "metadata": {},
     "output_type": "display_data"
    },
    {
     "data": {
      "image/png": "[encoded data removed]",
      "text/plain": [
       "<Figure size 360x360 with 1 Axes>"
      ]
     },
     "metadata": {},
     "output_type": "display_data"
    },
    {
     "data": {
      "image/png": "[encoded data removed]",
      "text/plain": [
       "<Figure size 360x360 with 1 Axes>"
      ]
     },
     "metadata": {},
     "output_type": "display_data"
    },
    {
     "data": {
      "image/png": "[encoded data removed]",
      "text/plain": [
       "<Figure size 360x360 with 1 Axes>"
      ]
     },
     "metadata": {},
     "output_type": "display_data"
    },
    {
     "data": {
      "image/png": "[encoded data removed]",
      "text/plain": [
       "<Figure size 360x360 with 1 Axes>"
      ]
     },
     "metadata": {},
     "output_type": "display_data"
    },
    {
     "data": {
      "image/png": "[encoded data removed]",
      "text/plain": [
       "<Figure size 360x360 with 1 Axes>"
      ]
     },
     "metadata": {},
     "output_type": "display_data"
    },
    {
     "data": {
      "image/png": "[encoded data removed]",
      "text/plain": [
       "<Figure size 360x360 with 1 Axes>"
      ]
     },
     "metadata": {},
     "output_type": "display_data"
    }
   ],
   "source": [
    "for i in range(7):\n",
    "    plt19 = sns.displot(trips19[trips19.week_day == i].trip_pickup_hour)    \n",
    "    #plt19.ax = 'asd'"
   ]
  },
  {
   "cell_type": "markdown",
   "metadata": {},
   "source": [
    "По дате начала поездки."
   ]
  },
  {
   "cell_type": "code",
   "execution_count": 23,
   "metadata": {},
   "outputs": [
    {
     "data": {
      "text/plain": [
       "<seaborn.axisgrid.FacetGrid at 0x7f85a000bdd8>"
      ]
     },
     "execution_count": 23,
     "metadata": {},
     "output_type": "execute_result"
    },
    {
     "data": {
      "image/png": "[encoded data removed]",
      "text/plain": [
       "<Figure size 360x360 with 1 Axes>"
      ]
     },
     "metadata": {},
     "output_type": "display_data"
    },
    {
     "data": {
      "image/png": "[encoded data removed]",
      "text/plain": [
       "<Figure size 360x360 with 1 Axes>"
      ]
     },
     "metadata": {},
     "output_type": "display_data"
    }
   ],
   "source": [
    "sns.displot(trips19, x='trip_pickup_day')\n",
    "sns.displot(trips20, x='trip_pickup_day')"
   ]
  },
  {
   "cell_type": "markdown",
   "metadata": {},
   "source": [
    "По часу начала и конца."
   ]
  },
  {
   "cell_type": "code",
   "execution_count": 28,
   "metadata": {},
   "outputs": [
    {
     "data": {
      "text/plain": [
       "<seaborn.axisgrid.FacetGrid at 0x7f859f250320>"
      ]
     },
     "execution_count": 28,
     "metadata": {},
     "output_type": "execute_result"
    },
    {
     "data": {
      "image/png": "[encoded data removed]",
      "text/plain": [
       "<Figure size 360x360 with 1 Axes>"
      ]
     },
     "metadata": {},
     "output_type": "display_data"
    },
    {
     "data": {
      "image/png": "[encoded data removed]",
      "text/plain": [
       "<Figure size 360x360 with 1 Axes>"
      ]
     },
     "metadata": {},
     "output_type": "display_data"
    },
    {
     "data": {
      "image/png": "[encoded data removed]",
      "text/plain": [
       "<Figure size 360x360 with 1 Axes>"
      ]
     },
     "metadata": {},
     "output_type": "display_data"
    },
    {
     "data": {
      "image/png": "[encoded data removed]",
      "text/plain": [
       "<Figure size 360x360 with 1 Axes>"
      ]
     },
     "metadata": {},
     "output_type": "display_data"
    }
   ],
   "source": [
    "sns.displot(trips19, x='trip_pickup_hour')\n",
    "sns.displot(trips19, x='trip_dropoff_hour')\n",
    "\n",
    "sns.displot(trips20, x='trip_pickup_hour')\n",
    "sns.displot(trips20, x='trip_dropoff_hour')"
   ]
  }
 ],
 "metadata": {
  "kernelspec": {
   "display_name": "Python 3",
   "language": "python",
   "name": "python3"
  },
  "language_info": {
   "codemirror_mode": {
    "name": "ipython",
    "version": 3
   },
   "file_extension": ".py",
   "mimetype": "text/x-python",
   "name": "python",
   "nbconvert_exporter": "python",
   "pygments_lexer": "ipython3",
   "version": "3.6.9"
  }
 },
 "nbformat": 4,
 "nbformat_minor": 4
}
