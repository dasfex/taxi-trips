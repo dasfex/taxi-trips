{
  "nbformat": 4,
  "nbformat_minor": 0,
  "metadata": {
    "kernelspec": {
      "display_name": "Python 3",
      "language": "python",
      "name": "python3"
    },
    "language_info": {
      "codemirror_mode": {
        "name": "ipython",
        "version": 3
      },
      "file_extension": ".py",
      "mimetype": "text/x-python",
      "name": "python",
      "nbconvert_exporter": "python",
      "pygments_lexer": "ipython3",
      "version": "3.6.9"
    },
    "colab": {
      "name": "trips.ipynb",
      "provenance": [],
      "collapsed_sections": []
    }
  },
  "cells": [
    {
      "cell_type": "markdown",
      "metadata": {
        "id": "v2dYaDpWMpZy"
      },
      "source": [
        "### Подготовим данные."
      ]
    },
    {
      "cell_type": "code",
      "metadata": {
        "id": "aumW6TNdMpZy"
      },
      "source": [
        "import pandas as pd\n",
        "import numpy as np\n",
        "import matplotlib.pyplot as plt\n",
        "import seaborn as sns\n",
        "\n",
        "from datetime import datetime\n",
        "\n",
        "from sklearn.linear_model import LinearRegression\n",
        "from sklearn.ensemble import RandomForestClassifier\n",
        "from sklearn.metrics import mean_squared_error\n",
        "from sklearn.model_selection import train_test_split\n",
        "\n",
        "sns.set_theme()\n",
        "pd.set_option('display.float_format', lambda x: '%.5f' % x) # для удобного отображения describe"
      ],
      "execution_count": 36,
      "outputs": []
    },
    {
      "cell_type": "code",
      "metadata": {
        "colab": {
          "base_uri": "https://localhost:8080/"
        },
        "id": "O5AiY59gPOdq",
        "outputId": "f36c8189-cd01-4c07-e7fe-bbafba050290"
      },
      "source": [
        "from google.colab import drive\n",
        "drive.mount('/content/drive')"
      ],
      "execution_count": 37,
      "outputs": [
        {
          "output_type": "stream",
          "text": [
            "Drive already mounted at /content/drive; to attempt to forcibly remount, call drive.mount(\"/content/drive\", force_remount=True).\n"
          ],
          "name": "stdout"
        }
      ]
    },
    {
      "cell_type": "code",
      "metadata": {
        "id": "jxNPL_fkMpZz"
      },
      "source": [
        "trips19 = pd.read_csv('/content/drive/MyDrive/trips/tripdata_2019-05.csv')"
      ],
      "execution_count": 38,
      "outputs": []
    },
    {
      "cell_type": "code",
      "metadata": {
        "id": "fVyopU4DMpZz",
        "colab": {
          "base_uri": "https://localhost:8080/"
        },
        "outputId": "1d9cd977-d82e-4c31-d474-16eac0573f4f"
      },
      "source": [
        "trips20 = pd.read_csv('/content/drive/MyDrive/trips/tripdata_2020-05.csv')"
      ],
      "execution_count": 39,
      "outputs": [
        {
          "output_type": "stream",
          "text": [
            "/usr/local/lib/python3.6/dist-packages/IPython/core/interactiveshell.py:2718: DtypeWarning: Columns (6) have mixed types.Specify dtype option on import or set low_memory=False.\n",
            "  interactivity=interactivity, compiler=compiler, result=result)\n"
          ],
          "name": "stderr"
        }
      ]
    },
    {
      "cell_type": "markdown",
      "metadata": {
        "id": "EP0WtfNEMpZz"
      },
      "source": [
        "Посмотрим, какие пропущенные значения есть в данных."
      ]
    },
    {
      "cell_type": "code",
      "metadata": {
        "id": "1UEbRMi5MpZz",
        "colab": {
          "base_uri": "https://localhost:8080/"
        },
        "outputId": "304d3430-a858-47e1-da37-ab69a87a8bc2"
      },
      "source": [
        "for el in trips19.columns:\n",
        "    print(el, trips19[el].isna().sum())"
      ],
      "execution_count": 40,
      "outputs": [
        {
          "output_type": "stream",
          "text": [
            "VendorID 0\n",
            "tpep_pickup_datetime 0\n",
            "tpep_dropoff_datetime 0\n",
            "passenger_count 0\n",
            "trip_distance 0\n",
            "RatecodeID 0\n",
            "store_and_fwd_flag 0\n",
            "PULocationID 0\n",
            "DOLocationID 0\n",
            "payment_type 0\n",
            "fare_amount 0\n",
            "extra 0\n",
            "mta_tax 0\n",
            "tip_amount 0\n",
            "tolls_amount 0\n",
            "improvement_surcharge 0\n",
            "total_amount 0\n",
            "congestion_surcharge 0\n"
          ],
          "name": "stdout"
        }
      ]
    },
    {
      "cell_type": "code",
      "metadata": {
        "id": "fIf0J9WsMpZz",
        "colab": {
          "base_uri": "https://localhost:8080/"
        },
        "outputId": "6ac7f058-c77f-446e-df58-e73a6aca0384"
      },
      "source": [
        "for el in trips20.columns:\n",
        "    print(el, trips20[el].isna().sum())"
      ],
      "execution_count": 41,
      "outputs": [
        {
          "output_type": "stream",
          "text": [
            "VendorID 58891\n",
            "tpep_pickup_datetime 0\n",
            "tpep_dropoff_datetime 0\n",
            "passenger_count 58891\n",
            "trip_distance 0\n",
            "RatecodeID 58891\n",
            "store_and_fwd_flag 58891\n",
            "PULocationID 0\n",
            "DOLocationID 0\n",
            "payment_type 58891\n",
            "fare_amount 0\n",
            "extra 0\n",
            "mta_tax 0\n",
            "tip_amount 0\n",
            "tolls_amount 0\n",
            "improvement_surcharge 0\n",
            "total_amount 0\n",
            "congestion_surcharge 0\n"
          ],
          "name": "stdout"
        }
      ]
    },
    {
      "cell_type": "markdown",
      "metadata": {
        "id": "MN9jfSjJMpZz"
      },
      "source": [
        "На данный момент из пропущенных данных для нас интерес может представлять только колонка о количестве пассажиров.\n",
        "\n",
        "Посмотрим на самое частое значение и заменим на него все пропущенные значения."
      ]
    },
    {
      "cell_type": "code",
      "metadata": {
        "id": "XQPPK3rmMpZ0"
      },
      "source": [
        "trips20.VendorID = trips20.VendorID.fillna(trips20['VendorID'].value_counts().idxmax())\n",
        "trips20.passenger_count = trips20.passenger_count.fillna(trips20['passenger_count'].value_counts().idxmax())\n",
        "trips20.RatecodeID = trips20.RatecodeID.fillna(trips20['RatecodeID'].value_counts().idxmax())\n",
        "trips20.store_and_fwd_flag = trips20.store_and_fwd_flag.fillna(trips20['store_and_fwd_flag'].value_counts().idxmax())\n",
        "trips20.payment_type = trips20.payment_type.fillna(trips20['payment_type'].value_counts().idxmax())"
      ],
      "execution_count": 42,
      "outputs": []
    },
    {
      "cell_type": "markdown",
      "metadata": {
        "id": "TqclWanAMpZ0"
      },
      "source": [
        "Преобразуем формат ячеек с временем для удобства."
      ]
    },
    {
      "cell_type": "code",
      "metadata": {
        "id": "-xFTlb_FMpZ0"
      },
      "source": [
        "trips19['tpep_pickup_datetime'] = pd.to_datetime(trips19.tpep_pickup_datetime)\n",
        "trips19['tpep_dropoff_datetime'] = pd.to_datetime(trips19.tpep_dropoff_datetime)"
      ],
      "execution_count": 43,
      "outputs": []
    },
    {
      "cell_type": "code",
      "metadata": {
        "id": "3Z-WDCikMpZ0"
      },
      "source": [
        "trips20['tpep_pickup_datetime'] = pd.to_datetime(trips20.tpep_pickup_datetime)\n",
        "trips20['tpep_dropoff_datetime'] = pd.to_datetime(trips20.tpep_dropoff_datetime)"
      ],
      "execution_count": 44,
      "outputs": []
    },
    {
      "cell_type": "markdown",
      "metadata": {
        "id": "Km6007pdMpZ0"
      },
      "source": [
        "Удалим данные, в которых начало во времени находится после конца, а также те строки, в которых id районов посадки/высадки больше 263(их именно столько)."
      ]
    },
    {
      "cell_type": "code",
      "metadata": {
        "id": "A6sMzKCvMpZ0"
      },
      "source": [
        "trips19 = trips19[trips19.tpep_pickup_datetime <= trips19.tpep_dropoff_datetime]\n",
        "trips19 = trips19[trips19.PULocationID <= 263]\n",
        "trips19 = trips19[trips19.DOLocationID <= 263]"
      ],
      "execution_count": 45,
      "outputs": []
    },
    {
      "cell_type": "code",
      "metadata": {
        "id": "afCRgDHMMpZ0"
      },
      "source": [
        "trips20 = trips20[trips20.tpep_pickup_datetime <= trips20.tpep_dropoff_datetime]\n",
        "trips20 = trips20[trips20.PULocationID <= 263]\n",
        "trips20 = trips20[trips20.DOLocationID <= 263]"
      ],
      "execution_count": 46,
      "outputs": []
    },
    {
      "cell_type": "markdown",
      "metadata": {
        "id": "aGAthEYDMpZ0"
      },
      "source": [
        "Введём новые колонки: \n",
        "\n",
        "1. с датой начала поездки; \n",
        "\n",
        "2. с часом начала и конца;\n",
        "\n",
        "3. с днём недели начала поездки; \n",
        "\n",
        "4. с временем продолжительности поездки(день конца поездки игнорируем, т.к. почти все поездки будут в промежутке одного дня);\n",
        "\n",
        "5. временем поездки в секундах;\n",
        "\n",
        "6. средней скоростью в м/с."
      ]
    },
    {
      "cell_type": "code",
      "metadata": {
        "id": "7hNuLMfcMpZ0"
      },
      "source": [
        "MILES_TO_KM = 1609.34"
      ],
      "execution_count": 47,
      "outputs": []
    },
    {
      "cell_type": "code",
      "metadata": {
        "id": "tFDYbZueMpZ0"
      },
      "source": [
        "trips19['trip_pickup_day'] = trips19.tpep_pickup_datetime.dt.day\n",
        "trips19['week_day'] = trips19.tpep_pickup_datetime.dt.dayofweek\n",
        "trips19['trip_pickup_hour'] = trips19.tpep_pickup_datetime.dt.hour\n",
        "trips19['trip_dropoff_hour'] = trips19.tpep_dropoff_datetime.dt.hour\n",
        "trips19['trip_duration'] = trips19.tpep_dropoff_datetime - trips19.tpep_pickup_datetime\n",
        "trips19['trip_duration_secs'] = trips19.trip_duration.dt.seconds\n",
        "trips19['trip_distance'] = trips19['trip_distance'] * MILES_TO_KM\n",
        "trips19['average_velocity'] = trips19['trip_distance'] / trips19['trip_duration_secs']"
      ],
      "execution_count": 48,
      "outputs": []
    },
    {
      "cell_type": "code",
      "metadata": {
        "id": "PfEfc5icMpZ0"
      },
      "source": [
        "trips20['trip_pickup_day'] = trips20.tpep_pickup_datetime.dt.day\n",
        "trips20['week_day'] = trips20.tpep_pickup_datetime.dt.dayofweek\n",
        "trips20['trip_pickup_hour'] = trips20.tpep_pickup_datetime.dt.hour\n",
        "trips20['trip_dropoff_hour'] = trips20.tpep_dropoff_datetime.dt.hour\n",
        "trips20['trip_duration'] = trips20.tpep_dropoff_datetime - trips20.tpep_pickup_datetime\n",
        "trips20['trip_duration_secs'] = trips20.trip_duration.dt.seconds\n",
        "trips20['trip_distance'] = trips20['trip_distance'] * MILES_TO_KM\n",
        "trips20['average_velocity'] = trips20['trip_distance'] / trips20['trip_duration_secs']"
      ],
      "execution_count": 49,
      "outputs": []
    },
    {
      "cell_type": "markdown",
      "metadata": {
        "id": "WRvJR8yxMpZ0"
      },
      "source": [
        "Посмотрим, есть ли в данных нереальные случаи.\n",
        "\n",
        "Установим ограничение для средней скорости в 50 м/с сверху и 0.1 м/с снизу, а также удалим строки, в которых преодолено нулевое расстояние за ненулевое время, при этом получена некоторая сумма за поездку.\n",
        "\n",
        "Так же удалим строки с отрицательной стоимостью поездки."
      ]
    },
    {
      "cell_type": "code",
      "metadata": {
        "id": "KaRnOBptMpZ0"
      },
      "source": [
        "trips19 = trips19[trips19.average_velocity <= 50]\n",
        "trips19 = trips19[trips19.average_velocity >= 1]\n",
        "trips19 = trips19.drop(trips19[(trips19.trip_distance == 0) & (trips19.total_amount > 0) & (trips19.trip_duration_secs > 0)].index)\n",
        "trips19 = trips19[trips19.total_amount >= 0]\n",
        "trips19 = trips19[trips19.VendorID < 3]"
      ],
      "execution_count": 50,
      "outputs": []
    },
    {
      "cell_type": "code",
      "metadata": {
        "id": "KwlsK6EdMpZ0"
      },
      "source": [
        "trips20 = trips20[trips20.average_velocity <= 50]\n",
        "trips20 = trips20[trips20.average_velocity >= 1]\n",
        "trips20 = trips20.drop(trips20[(trips20.trip_distance == 0) & (trips20.total_amount > 0) & (trips20.trip_duration_secs > 0)].index)\n",
        "trips20 = trips20[trips20.total_amount >= 0]\n",
        "trips20 = trips20[trips20.VendorID < 3]"
      ],
      "execution_count": 51,
      "outputs": []
    },
    {
      "cell_type": "markdown",
      "metadata": {
        "id": "dL5w2dNWMpZ0"
      },
      "source": [
        "В последний понедельник мая проводится федеральный праздник День Памяти, который является государственным выходным. Установим для дат 27.05.19 и 25.05.20 значение 1 в новой колонке, 0 всем остальным."
      ]
    },
    {
      "cell_type": "code",
      "metadata": {
        "id": "Q3Ips278MpZ0"
      },
      "source": [
        "trips19['is_holiday'] = [x.date().day == 27 for x in trips19['tpep_pickup_datetime']]\n",
        "trips20['is_holiday'] = [x.date().day == 25 for x in trips20['tpep_pickup_datetime']]"
      ],
      "execution_count": 52,
      "outputs": []
    },
    {
      "cell_type": "markdown",
      "metadata": {
        "id": "mpVGZ6_mMpZ0"
      },
      "source": [
        "Посмотрим на некоторые статистики, которые может предоставить python."
      ]
    },
    {
      "cell_type": "code",
      "metadata": {
        "id": "QNvMygChMpZ0",
        "colab": {
          "base_uri": "https://localhost:8080/",
          "height": 351
        },
        "outputId": "4facbae4-3d2a-4ee2-c04a-d993e156d108"
      },
      "source": [
        "trips19.describe()"
      ],
      "execution_count": 53,
      "outputs": [
        {
          "output_type": "execute_result",
          "data": {
            "text/html": [
              "<div>\n",
              "<style scoped>\n",
              "    .dataframe tbody tr th:only-of-type {\n",
              "        vertical-align: middle;\n",
              "    }\n",
              "\n",
              "    .dataframe tbody tr th {\n",
              "        vertical-align: top;\n",
              "    }\n",
              "\n",
              "    .dataframe thead th {\n",
              "        text-align: right;\n",
              "    }\n",
              "</style>\n",
              "<table border=\"1\" class=\"dataframe\">\n",
              "  <thead>\n",
              "    <tr style=\"text-align: right;\">\n",
              "      <th></th>\n",
              "      <th>VendorID</th>\n",
              "      <th>passenger_count</th>\n",
              "      <th>trip_distance</th>\n",
              "      <th>RatecodeID</th>\n",
              "      <th>PULocationID</th>\n",
              "      <th>DOLocationID</th>\n",
              "      <th>payment_type</th>\n",
              "      <th>fare_amount</th>\n",
              "      <th>extra</th>\n",
              "      <th>mta_tax</th>\n",
              "      <th>tip_amount</th>\n",
              "      <th>tolls_amount</th>\n",
              "      <th>improvement_surcharge</th>\n",
              "      <th>total_amount</th>\n",
              "      <th>congestion_surcharge</th>\n",
              "      <th>trip_pickup_day</th>\n",
              "      <th>week_day</th>\n",
              "      <th>trip_pickup_hour</th>\n",
              "      <th>trip_dropoff_hour</th>\n",
              "      <th>trip_duration</th>\n",
              "      <th>trip_duration_secs</th>\n",
              "      <th>average_velocity</th>\n",
              "    </tr>\n",
              "  </thead>\n",
              "  <tbody>\n",
              "    <tr>\n",
              "      <th>count</th>\n",
              "      <td>7336825.00000</td>\n",
              "      <td>7336825.00000</td>\n",
              "      <td>7336825.00000</td>\n",
              "      <td>7336825.00000</td>\n",
              "      <td>7336825.00000</td>\n",
              "      <td>7336825.00000</td>\n",
              "      <td>7336825.00000</td>\n",
              "      <td>7336825.00000</td>\n",
              "      <td>7336825.00000</td>\n",
              "      <td>7336825.00000</td>\n",
              "      <td>7336825.00000</td>\n",
              "      <td>7336825.00000</td>\n",
              "      <td>7336825.00000</td>\n",
              "      <td>7336825.00000</td>\n",
              "      <td>7336825.00000</td>\n",
              "      <td>7336825.00000</td>\n",
              "      <td>7336825.00000</td>\n",
              "      <td>7336825.00000</td>\n",
              "      <td>7336825.00000</td>\n",
              "      <td>7336825</td>\n",
              "      <td>7336825.00000</td>\n",
              "      <td>7336825.00000</td>\n",
              "    </tr>\n",
              "    <tr>\n",
              "      <th>mean</th>\n",
              "      <td>1.63076</td>\n",
              "      <td>1.57271</td>\n",
              "      <td>4875.00001</td>\n",
              "      <td>1.03650</td>\n",
              "      <td>162.61978</td>\n",
              "      <td>160.66925</td>\n",
              "      <td>1.28009</td>\n",
              "      <td>13.21114</td>\n",
              "      <td>1.20345</td>\n",
              "      <td>0.49863</td>\n",
              "      <td>2.23998</td>\n",
              "      <td>0.38749</td>\n",
              "      <td>0.29997</td>\n",
              "      <td>19.30241</td>\n",
              "      <td>2.31638</td>\n",
              "      <td>15.47562</td>\n",
              "      <td>2.99066</td>\n",
              "      <td>13.97302</td>\n",
              "      <td>14.01989</td>\n",
              "      <td>0 days 00:14:59.757923488</td>\n",
              "      <td>899.74615</td>\n",
              "      <td>5.00345</td>\n",
              "    </tr>\n",
              "    <tr>\n",
              "      <th>std</th>\n",
              "      <td>0.48260</td>\n",
              "      <td>1.22277</td>\n",
              "      <td>6172.17999</td>\n",
              "      <td>0.50351</td>\n",
              "      <td>65.81508</td>\n",
              "      <td>69.81401</td>\n",
              "      <td>0.46402</td>\n",
              "      <td>11.15887</td>\n",
              "      <td>1.28250</td>\n",
              "      <td>0.02630</td>\n",
              "      <td>2.66822</td>\n",
              "      <td>1.67773</td>\n",
              "      <td>0.00301</td>\n",
              "      <td>13.93306</td>\n",
              "      <td>0.65217</td>\n",
              "      <td>8.93420</td>\n",
              "      <td>1.84339</td>\n",
              "      <td>5.99837</td>\n",
              "      <td>6.08824</td>\n",
              "      <td>0 days 00:12:26.533958316</td>\n",
              "      <td>745.51501</td>\n",
              "      <td>2.71636</td>\n",
              "    </tr>\n",
              "    <tr>\n",
              "      <th>min</th>\n",
              "      <td>1.00000</td>\n",
              "      <td>0.00000</td>\n",
              "      <td>16.09340</td>\n",
              "      <td>1.00000</td>\n",
              "      <td>1.00000</td>\n",
              "      <td>1.00000</td>\n",
              "      <td>1.00000</td>\n",
              "      <td>0.00000</td>\n",
              "      <td>0.00000</td>\n",
              "      <td>0.00000</td>\n",
              "      <td>0.00000</td>\n",
              "      <td>0.00000</td>\n",
              "      <td>0.00000</td>\n",
              "      <td>0.00000</td>\n",
              "      <td>0.00000</td>\n",
              "      <td>1.00000</td>\n",
              "      <td>0.00000</td>\n",
              "      <td>0.00000</td>\n",
              "      <td>0.00000</td>\n",
              "      <td>0 days 00:00:02</td>\n",
              "      <td>2.00000</td>\n",
              "      <td>1.00005</td>\n",
              "    </tr>\n",
              "    <tr>\n",
              "      <th>25%</th>\n",
              "      <td>1.00000</td>\n",
              "      <td>1.00000</td>\n",
              "      <td>1609.34000</td>\n",
              "      <td>1.00000</td>\n",
              "      <td>114.00000</td>\n",
              "      <td>107.00000</td>\n",
              "      <td>1.00000</td>\n",
              "      <td>6.50000</td>\n",
              "      <td>0.00000</td>\n",
              "      <td>0.50000</td>\n",
              "      <td>0.00000</td>\n",
              "      <td>0.00000</td>\n",
              "      <td>0.30000</td>\n",
              "      <td>11.30000</td>\n",
              "      <td>2.50000</td>\n",
              "      <td>8.00000</td>\n",
              "      <td>2.00000</td>\n",
              "      <td>10.00000</td>\n",
              "      <td>10.00000</td>\n",
              "      <td>0 days 00:06:54</td>\n",
              "      <td>414.00000</td>\n",
              "      <td>3.21868</td>\n",
              "    </tr>\n",
              "    <tr>\n",
              "      <th>50%</th>\n",
              "      <td>2.00000</td>\n",
              "      <td>1.00000</td>\n",
              "      <td>2703.69120</td>\n",
              "      <td>1.00000</td>\n",
              "      <td>162.00000</td>\n",
              "      <td>162.00000</td>\n",
              "      <td>1.00000</td>\n",
              "      <td>9.50000</td>\n",
              "      <td>0.50000</td>\n",
              "      <td>0.50000</td>\n",
              "      <td>1.96000</td>\n",
              "      <td>0.00000</td>\n",
              "      <td>0.30000</td>\n",
              "      <td>14.80000</td>\n",
              "      <td>2.50000</td>\n",
              "      <td>15.00000</td>\n",
              "      <td>3.00000</td>\n",
              "      <td>15.00000</td>\n",
              "      <td>15.00000</td>\n",
              "      <td>0 days 00:11:31</td>\n",
              "      <td>691.00000</td>\n",
              "      <td>4.36705</td>\n",
              "    </tr>\n",
              "    <tr>\n",
              "      <th>75%</th>\n",
              "      <td>2.00000</td>\n",
              "      <td>2.00000</td>\n",
              "      <td>4988.95400</td>\n",
              "      <td>1.00000</td>\n",
              "      <td>233.00000</td>\n",
              "      <td>233.00000</td>\n",
              "      <td>2.00000</td>\n",
              "      <td>15.00000</td>\n",
              "      <td>2.50000</td>\n",
              "      <td>0.50000</td>\n",
              "      <td>3.00000</td>\n",
              "      <td>0.00000</td>\n",
              "      <td>0.30000</td>\n",
              "      <td>20.80000</td>\n",
              "      <td>2.50000</td>\n",
              "      <td>23.00000</td>\n",
              "      <td>4.00000</td>\n",
              "      <td>19.00000</td>\n",
              "      <td>19.00000</td>\n",
              "      <td>0 days 00:18:55</td>\n",
              "      <td>1135.00000</td>\n",
              "      <td>5.98535</td>\n",
              "    </tr>\n",
              "    <tr>\n",
              "      <th>max</th>\n",
              "      <td>2.00000</td>\n",
              "      <td>9.00000</td>\n",
              "      <td>319196.49560</td>\n",
              "      <td>99.00000</td>\n",
              "      <td>263.00000</td>\n",
              "      <td>263.00000</td>\n",
              "      <td>4.00000</td>\n",
              "      <td>4016.50000</td>\n",
              "      <td>23.00000</td>\n",
              "      <td>3.30000</td>\n",
              "      <td>444.00000</td>\n",
              "      <td>706.68000</td>\n",
              "      <td>0.30000</td>\n",
              "      <td>4020.30000</td>\n",
              "      <td>2.75000</td>\n",
              "      <td>31.00000</td>\n",
              "      <td>6.00000</td>\n",
              "      <td>23.00000</td>\n",
              "      <td>23.00000</td>\n",
              "      <td>1 days 06:10:50</td>\n",
              "      <td>51841.00000</td>\n",
              "      <td>49.97424</td>\n",
              "    </tr>\n",
              "  </tbody>\n",
              "</table>\n",
              "</div>"
            ],
            "text/plain": [
              "           VendorID  passenger_count  ...  trip_duration_secs  average_velocity\n",
              "count 7336825.00000    7336825.00000  ...       7336825.00000     7336825.00000\n",
              "mean        1.63076          1.57271  ...           899.74615           5.00345\n",
              "std         0.48260          1.22277  ...           745.51501           2.71636\n",
              "min         1.00000          0.00000  ...             2.00000           1.00005\n",
              "25%         1.00000          1.00000  ...           414.00000           3.21868\n",
              "50%         2.00000          1.00000  ...           691.00000           4.36705\n",
              "75%         2.00000          2.00000  ...          1135.00000           5.98535\n",
              "max         2.00000          9.00000  ...         51841.00000          49.97424\n",
              "\n",
              "[8 rows x 22 columns]"
            ]
          },
          "metadata": {
            "tags": []
          },
          "execution_count": 53
        }
      ]
    },
    {
      "cell_type": "code",
      "metadata": {
        "id": "c7Bqc_x6MpZ1",
        "colab": {
          "base_uri": "https://localhost:8080/",
          "height": 351
        },
        "outputId": "1e542270-51e6-4989-bd78-88ceb91886cc"
      },
      "source": [
        "trips20.describe()"
      ],
      "execution_count": 54,
      "outputs": [
        {
          "output_type": "execute_result",
          "data": {
            "text/html": [
              "<div>\n",
              "<style scoped>\n",
              "    .dataframe tbody tr th:only-of-type {\n",
              "        vertical-align: middle;\n",
              "    }\n",
              "\n",
              "    .dataframe tbody tr th {\n",
              "        vertical-align: top;\n",
              "    }\n",
              "\n",
              "    .dataframe thead th {\n",
              "        text-align: right;\n",
              "    }\n",
              "</style>\n",
              "<table border=\"1\" class=\"dataframe\">\n",
              "  <thead>\n",
              "    <tr style=\"text-align: right;\">\n",
              "      <th></th>\n",
              "      <th>VendorID</th>\n",
              "      <th>passenger_count</th>\n",
              "      <th>trip_distance</th>\n",
              "      <th>RatecodeID</th>\n",
              "      <th>PULocationID</th>\n",
              "      <th>DOLocationID</th>\n",
              "      <th>payment_type</th>\n",
              "      <th>fare_amount</th>\n",
              "      <th>extra</th>\n",
              "      <th>mta_tax</th>\n",
              "      <th>tip_amount</th>\n",
              "      <th>tolls_amount</th>\n",
              "      <th>improvement_surcharge</th>\n",
              "      <th>total_amount</th>\n",
              "      <th>congestion_surcharge</th>\n",
              "      <th>trip_pickup_day</th>\n",
              "      <th>week_day</th>\n",
              "      <th>trip_pickup_hour</th>\n",
              "      <th>trip_dropoff_hour</th>\n",
              "      <th>trip_duration</th>\n",
              "      <th>trip_duration_secs</th>\n",
              "      <th>average_velocity</th>\n",
              "    </tr>\n",
              "  </thead>\n",
              "  <tbody>\n",
              "    <tr>\n",
              "      <th>count</th>\n",
              "      <td>330471.00000</td>\n",
              "      <td>330471.00000</td>\n",
              "      <td>330471.00000</td>\n",
              "      <td>330471.00000</td>\n",
              "      <td>330471.00000</td>\n",
              "      <td>330471.00000</td>\n",
              "      <td>330471.00000</td>\n",
              "      <td>330471.00000</td>\n",
              "      <td>330471.00000</td>\n",
              "      <td>330471.00000</td>\n",
              "      <td>330471.00000</td>\n",
              "      <td>330471.00000</td>\n",
              "      <td>330471.00000</td>\n",
              "      <td>330471.00000</td>\n",
              "      <td>330471.00000</td>\n",
              "      <td>330471.00000</td>\n",
              "      <td>330471.00000</td>\n",
              "      <td>330471.00000</td>\n",
              "      <td>330471.00000</td>\n",
              "      <td>330471</td>\n",
              "      <td>330471.00000</td>\n",
              "      <td>330471.00000</td>\n",
              "    </tr>\n",
              "    <tr>\n",
              "      <th>mean</th>\n",
              "      <td>1.64588</td>\n",
              "      <td>1.26830</td>\n",
              "      <td>5997.37083</td>\n",
              "      <td>1.01357</td>\n",
              "      <td>152.11257</td>\n",
              "      <td>147.27823</td>\n",
              "      <td>1.34259</td>\n",
              "      <td>13.34287</td>\n",
              "      <td>0.98605</td>\n",
              "      <td>0.49594</td>\n",
              "      <td>1.45781</td>\n",
              "      <td>0.39342</td>\n",
              "      <td>0.29993</td>\n",
              "      <td>18.14100</td>\n",
              "      <td>1.90850</td>\n",
              "      <td>16.38488</td>\n",
              "      <td>3.00259</td>\n",
              "      <td>13.10049</td>\n",
              "      <td>13.15487</td>\n",
              "      <td>0 days 00:11:47.171597507</td>\n",
              "      <td>707.17160</td>\n",
              "      <td>7.45323</td>\n",
              "    </tr>\n",
              "    <tr>\n",
              "      <th>std</th>\n",
              "      <td>0.47825</td>\n",
              "      <td>0.91647</td>\n",
              "      <td>7241.93656</td>\n",
              "      <td>0.34777</td>\n",
              "      <td>70.28768</td>\n",
              "      <td>74.10171</td>\n",
              "      <td>0.50750</td>\n",
              "      <td>12.05296</td>\n",
              "      <td>1.25061</td>\n",
              "      <td>0.04519</td>\n",
              "      <td>2.41877</td>\n",
              "      <td>1.74630</td>\n",
              "      <td>0.00449</td>\n",
              "      <td>13.44482</td>\n",
              "      <td>1.06249</td>\n",
              "      <td>8.83033</td>\n",
              "      <td>1.87694</td>\n",
              "      <td>5.30301</td>\n",
              "      <td>5.33937</td>\n",
              "      <td>0 days 00:09:58.915852939</td>\n",
              "      <td>598.91585</td>\n",
              "      <td>3.34638</td>\n",
              "    </tr>\n",
              "    <tr>\n",
              "      <th>min</th>\n",
              "      <td>1.00000</td>\n",
              "      <td>0.00000</td>\n",
              "      <td>16.09340</td>\n",
              "      <td>1.00000</td>\n",
              "      <td>1.00000</td>\n",
              "      <td>1.00000</td>\n",
              "      <td>1.00000</td>\n",
              "      <td>-10.86000</td>\n",
              "      <td>0.00000</td>\n",
              "      <td>0.00000</td>\n",
              "      <td>0.00000</td>\n",
              "      <td>0.00000</td>\n",
              "      <td>0.00000</td>\n",
              "      <td>0.00000</td>\n",
              "      <td>0.00000</td>\n",
              "      <td>1.00000</td>\n",
              "      <td>0.00000</td>\n",
              "      <td>0.00000</td>\n",
              "      <td>0.00000</td>\n",
              "      <td>0 days 00:00:02</td>\n",
              "      <td>2.00000</td>\n",
              "      <td>1.00236</td>\n",
              "    </tr>\n",
              "    <tr>\n",
              "      <th>25%</th>\n",
              "      <td>1.00000</td>\n",
              "      <td>1.00000</td>\n",
              "      <td>1770.27400</td>\n",
              "      <td>1.00000</td>\n",
              "      <td>90.00000</td>\n",
              "      <td>75.00000</td>\n",
              "      <td>1.00000</td>\n",
              "      <td>6.00000</td>\n",
              "      <td>0.00000</td>\n",
              "      <td>0.50000</td>\n",
              "      <td>0.00000</td>\n",
              "      <td>0.00000</td>\n",
              "      <td>0.30000</td>\n",
              "      <td>10.30000</td>\n",
              "      <td>2.50000</td>\n",
              "      <td>9.00000</td>\n",
              "      <td>1.00000</td>\n",
              "      <td>9.00000</td>\n",
              "      <td>9.00000</td>\n",
              "      <td>0 days 00:05:14</td>\n",
              "      <td>314.00000</td>\n",
              "      <td>5.16873</td>\n",
              "    </tr>\n",
              "    <tr>\n",
              "      <th>50%</th>\n",
              "      <td>2.00000</td>\n",
              "      <td>1.00000</td>\n",
              "      <td>3283.05360</td>\n",
              "      <td>1.00000</td>\n",
              "      <td>142.00000</td>\n",
              "      <td>143.00000</td>\n",
              "      <td>1.00000</td>\n",
              "      <td>9.00000</td>\n",
              "      <td>0.00000</td>\n",
              "      <td>0.50000</td>\n",
              "      <td>1.00000</td>\n",
              "      <td>0.00000</td>\n",
              "      <td>0.30000</td>\n",
              "      <td>13.80000</td>\n",
              "      <td>2.50000</td>\n",
              "      <td>16.00000</td>\n",
              "      <td>3.00000</td>\n",
              "      <td>14.00000</td>\n",
              "      <td>14.00000</td>\n",
              "      <td>0 days 00:08:55</td>\n",
              "      <td>535.00000</td>\n",
              "      <td>6.63645</td>\n",
              "    </tr>\n",
              "    <tr>\n",
              "      <th>75%</th>\n",
              "      <td>2.00000</td>\n",
              "      <td>1.00000</td>\n",
              "      <td>6920.16200</td>\n",
              "      <td>1.00000</td>\n",
              "      <td>230.00000</td>\n",
              "      <td>230.00000</td>\n",
              "      <td>2.00000</td>\n",
              "      <td>15.50000</td>\n",
              "      <td>2.50000</td>\n",
              "      <td>0.50000</td>\n",
              "      <td>2.46000</td>\n",
              "      <td>0.00000</td>\n",
              "      <td>0.30000</td>\n",
              "      <td>20.76000</td>\n",
              "      <td>2.50000</td>\n",
              "      <td>24.00000</td>\n",
              "      <td>4.00000</td>\n",
              "      <td>17.00000</td>\n",
              "      <td>17.00000</td>\n",
              "      <td>0 days 00:15:13</td>\n",
              "      <td>913.00000</td>\n",
              "      <td>8.83707</td>\n",
              "    </tr>\n",
              "    <tr>\n",
              "      <th>max</th>\n",
              "      <td>2.00000</td>\n",
              "      <td>6.00000</td>\n",
              "      <td>491009.63400</td>\n",
              "      <td>99.00000</td>\n",
              "      <td>263.00000</td>\n",
              "      <td>263.00000</td>\n",
              "      <td>4.00000</td>\n",
              "      <td>801.50000</td>\n",
              "      <td>7.00000</td>\n",
              "      <td>3.30000</td>\n",
              "      <td>442.18000</td>\n",
              "      <td>200.00000</td>\n",
              "      <td>0.30000</td>\n",
              "      <td>1042.82000</td>\n",
              "      <td>2.50000</td>\n",
              "      <td>31.00000</td>\n",
              "      <td>6.00000</td>\n",
              "      <td>23.00000</td>\n",
              "      <td>23.00000</td>\n",
              "      <td>0 days 11:56:00</td>\n",
              "      <td>42960.00000</td>\n",
              "      <td>49.97082</td>\n",
              "    </tr>\n",
              "  </tbody>\n",
              "</table>\n",
              "</div>"
            ],
            "text/plain": [
              "          VendorID  passenger_count  ...  trip_duration_secs  average_velocity\n",
              "count 330471.00000     330471.00000  ...        330471.00000      330471.00000\n",
              "mean       1.64588          1.26830  ...           707.17160           7.45323\n",
              "std        0.47825          0.91647  ...           598.91585           3.34638\n",
              "min        1.00000          0.00000  ...             2.00000           1.00236\n",
              "25%        1.00000          1.00000  ...           314.00000           5.16873\n",
              "50%        2.00000          1.00000  ...           535.00000           6.63645\n",
              "75%        2.00000          1.00000  ...           913.00000           8.83707\n",
              "max        2.00000          6.00000  ...         42960.00000          49.97082\n",
              "\n",
              "[8 rows x 22 columns]"
            ]
          },
          "metadata": {
            "tags": []
          },
          "execution_count": 54
        }
      ]
    },
    {
      "cell_type": "markdown",
      "metadata": {
        "id": "4Pz6SD4bMpZ1"
      },
      "source": [
        "Из describe можем сделать несколько выводов:\n",
        "0. Среднее количество пассажиров снизилось с 1.57 до 1.27 из-за социального дистанцирования. Также максимальное количество уменьшилось от 9 до 6 человек(среди жёлтых такси так же есть минивены, потому такое большое количество неудивительно).\n",
        "1. Средняя дистанция в 20м году выросла с 5км до 6км. Можем сделать вывод, что люди стали чаще пользоваться такси для каких-то длительных поездок, ведь если расстояние небольшое, может быть рентабельнее просто пойти пешком, чтобы ни с кем зря не контактировать.\n",
        "2. Несмотря на увеличение дистанции средняя продолжительность поездки уменьшилось(соответственно выросла средняя скорость) из-за меньшей загруженности дорог.\n"
      ]
    },
    {
      "cell_type": "markdown",
      "metadata": {
        "id": "q6dk5RQaMpZ1"
      },
      "source": [
        "### Получим представление о районах Нью-Йорка."
      ]
    },
    {
      "cell_type": "markdown",
      "metadata": {
        "id": "_YI0fVRVMpZ1"
      },
      "source": [
        "В Нью-Йорке есть 5 основных районов: Manhattan, Queens, Brooklyn, Staten Island и Bronx."
      ]
    },
    {
      "cell_type": "markdown",
      "metadata": {
        "id": "yYal--YYMpZ1"
      },
      "source": [
        "![ny_map](pictures/ny_map.jpg)\n"
      ]
    },
    {
      "cell_type": "markdown",
      "metadata": {
        "id": "OqNnRxZVMpZ1"
      },
      "source": [
        "Manhattan является главным туристическим местом, а также скоплением главных бизнес-центров Нью-Йорка. Тут очень развита инфраструктура  (не)активного времяпрепровождения."
      ]
    },
    {
      "cell_type": "markdown",
      "metadata": {
        "id": "LKn7GmC5MpZ1"
      },
      "source": [
        "Queens является одним из наиболее \"спальных\" районов города. Однако тут расположен Национальный аэропорт имени Джона Кеннеди - аэропорт с самым большим трафиком пассажирских и грузовых авиаперевозок в мире, что в купе с тем фактом, что тут происходит множество спортивных мероприятий, добавляет посещаемости приезжими."
      ]
    },
    {
      "cell_type": "markdown",
      "metadata": {
        "id": "pIq55szKMpZ1"
      },
      "source": [
        "Brooklyn - самый населённый район Нью-Йорка. При этом тут очень развита инфраструктура локальных мероприятий, что позволяет жителям не ездить куда-то, а \"жить на месте\"."
      ]
    },
    {
      "cell_type": "markdown",
      "metadata": {
        "id": "cg5GGkI1MpZ1"
      },
      "source": [
        "В Bronx'е находится печально известный своей неблагополучностью квартал Camp Apache. Однако сейчас там всё спокойно. Более того, среди туристов имеют популярность несколько иностранных кварталов"
      ]
    },
    {
      "cell_type": "markdown",
      "metadata": {
        "id": "FIFmxXmqMpZ1"
      },
      "source": [
        "Staten Island - самый тихий район с наименьшей численностью населения. Туристов сюда не тянет в силу того, что тут \"почти не на что смотреть\". Однако с его замечательной природой можно отдохнуть от суеты других районов."
      ]
    },
    {
      "cell_type": "markdown",
      "metadata": {
        "id": "Z3-LjnkoMpZ1"
      },
      "source": [
        "### Визуализируем данные."
      ]
    },
    {
      "cell_type": "code",
      "metadata": {
        "id": "WTO7wl2xMpZ1"
      },
      "source": [
        "# зададим размер графиков\n",
        "plt.rcParams['figure.dpi'] = 90"
      ],
      "execution_count": 55,
      "outputs": []
    },
    {
      "cell_type": "code",
      "metadata": {
        "id": "VblkD-Z5MpZ1",
        "colab": {
          "base_uri": "https://localhost:8080/",
          "height": 905
        },
        "outputId": "6040a935-10bb-4259-d24b-539185cb6bf1"
      },
      "source": [
        "sns.displot(trips19, x='week_day')\n",
        "sns.displot(trips20, x='week_day')"
      ],
      "execution_count": 56,
      "outputs": [
        {
          "output_type": "execute_result",
          "data": {
            "text/plain": [
              "<seaborn.axisgrid.FacetGrid at 0x7f614e9ac2e8>"
            ]
          },
          "metadata": {
            "tags": []
          },
          "execution_count": 56
        },
        {
          "output_type": "display_data",
          "data": {
            "image/png": "[encoded data removed]",
            "text/plain": [
              "<Figure size 450x450 with 1 Axes>"
            ]
          },
          "metadata": {
            "tags": []
          }
        },
        {
          "output_type": "display_data",
          "data": {
            "image/png": "[encoded data removed]",
            "text/plain": [
              "<Figure size 450x450 with 1 Axes>"
            ]
          },
          "metadata": {
            "tags": []
          }
        }
      ]
    },
    {
      "cell_type": "markdown",
      "metadata": {
        "id": "1bE7AI6QMpZ1"
      },
      "source": [
        "Выше видим выброс в пятницу в 2020м году. Возможно это объясняется режимом самоизоляции, который очень хочется нарушить в конце рабочей недели(либо в целом возвращение с работы домой, если это не является ежедневной рутиной).\n",
        "\n",
        "В противоложность этому основная нагрузка в 19м году приходится на середину рабочей недели. # (хм, почему?)"
      ]
    },
    {
      "cell_type": "code",
      "metadata": {
        "scrolled": false,
        "id": "3VqzojDzMpZ1",
        "colab": {
          "base_uri": "https://localhost:8080/",
          "height": 905
        },
        "outputId": "5e761401-20ae-4693-b73b-8ffe1b801590"
      },
      "source": [
        "sns.displot(trips19.trip_pickup_hour)\n",
        "sns.displot(trips20.trip_pickup_hour)"
      ],
      "execution_count": 57,
      "outputs": [
        {
          "output_type": "execute_result",
          "data": {
            "text/plain": [
              "<seaborn.axisgrid.FacetGrid at 0x7f61519449e8>"
            ]
          },
          "metadata": {
            "tags": []
          },
          "execution_count": 57
        },
        {
          "output_type": "display_data",
          "data": {
            "image/png": "[encoded data removed]",
            "text/plain": [
              "<Figure size 450x450 with 1 Axes>"
            ]
          },
          "metadata": {
            "tags": []
          }
        },
        {
          "output_type": "display_data",
          "data": {
            "image/png": "[encoded data removed]",
            "text/plain": [
              "<Figure size 450x450 with 1 Axes>"
            ]
          },
          "metadata": {
            "tags": []
          }
        }
      ]
    },
    {
      "cell_type": "markdown",
      "metadata": {
        "id": "SqOLkIO3MpZ2"
      },
      "source": [
        "В 19 году видим основную нагрузку на 6-7 часов вечера, т.к. жители возвращаются с работы попутно заезжая по делам.\n",
        "\n",
        "Однако в 20м году пик приходится на 3 часа дня. Возможно это потому что весь город подумал, что днём будет мало людей на улицах из-за работы и побежал делать свои дела."
      ]
    },
    {
      "cell_type": "code",
      "metadata": {
        "id": "dOHkrGqvMpZ2",
        "colab": {
          "base_uri": "https://localhost:8080/",
          "height": 905
        },
        "outputId": "bd69800b-e4bb-4f81-8a36-f18b7af3d63b"
      },
      "source": [
        "sns.displot(trips19, x='trip_pickup_day')\n",
        "sns.displot(trips20, x='trip_pickup_day')"
      ],
      "execution_count": 58,
      "outputs": [
        {
          "output_type": "execute_result",
          "data": {
            "text/plain": [
              "<seaborn.axisgrid.FacetGrid at 0x7f614e6ce358>"
            ]
          },
          "metadata": {
            "tags": []
          },
          "execution_count": 58
        },
        {
          "output_type": "display_data",
          "data": {
            "image/png": "[encoded data removed]",
            "text/plain": [
              "<Figure size 450x450 with 1 Axes>"
            ]
          },
          "metadata": {
            "tags": []
          }
        },
        {
          "output_type": "display_data",
          "data": {
            "image/png": "[encoded data removed]",
            "text/plain": [
              "<Figure size 450x450 with 1 Axes>"
            ]
          },
          "metadata": {
            "tags": []
          }
        }
      ]
    },
    {
      "cell_type": "markdown",
      "metadata": {
        "id": "fI5vBpmTMpZ2"
      },
      "source": [
        "В оба года видим снижения использования средств передвижение во время выходных. Однако в 19м году имеется тенденция к постепенному снижению использования такси в течение рабочих дней(люди начинают готовится к отпуску и собственно отдыхать), тогда как в 20м году правило обратно: использование повышается, - тут это обуславливается тем, что люди уже устали сидеть некоторое время на карантине и начинают \"подзабивать\" на рекомендации самоизоляции.\n",
        "\n",
        "Также отметим резкое(даже относительно выходных) снижение поездок 27.05.2019 и 25.05.2020, т.к. в этот день федеральный праздник День Памяти, являющийся выходным."
      ]
    },
    {
      "cell_type": "code",
      "metadata": {
        "id": "gtAX6w2tMpZ2",
        "colab": {
          "base_uri": "https://localhost:8080/",
          "height": 905
        },
        "outputId": "8abc836e-5c61-427f-ded8-4a9e2cabf752"
      },
      "source": [
        "sns.displot(trips19, x='trip_duration_secs', hue='VendorID')\n",
        "plt.xlim(0, 5000)\n",
        "sns.displot(trips20, x='trip_duration_secs', hue='VendorID')\n",
        "plt.xlim(0, 5000)"
      ],
      "execution_count": 59,
      "outputs": [
        {
          "output_type": "execute_result",
          "data": {
            "text/plain": [
              "(0.0, 5000.0)"
            ]
          },
          "metadata": {
            "tags": []
          },
          "execution_count": 59
        },
        {
          "output_type": "display_data",
          "data": {
            "image/png": "[encoded data removed]",
            "text/plain": [
              "<Figure size 530x450 with 1 Axes>"
            ]
          },
          "metadata": {
            "tags": []
          }
        },
        {
          "output_type": "display_data",
          "data": {
            "image/png": "[encoded data removed]",
            "text/plain": [
              "<Figure size 530x450 with 1 Axes>"
            ]
          },
          "metadata": {
            "tags": []
          }
        }
      ]
    },
    {
      "cell_type": "markdown",
      "metadata": {
        "id": "9Nc4WoMcMpZ2"
      },
      "source": [
        "Похоже на распределение Пуассона или Максвелла.\n",
        "\n",
        "На 2м графике существуют видимые выбросы, но это скорее из-за малого количества наблюдений. На 1м графике тенденция видна гораздо лучше и без выбросов.\n",
        "\n",
        "Легко увидеть, что пользователи совершают очень много коротких поездок(до 30 минут) и очень мало длинных(более часа). На ум приходят две причины: немалая стоимость длинной поездки + средний пассажир ездит ради скорости  и независимости от большинства других факторов(расписание общественного транспорта, движение от точки до точки).\n",
        "\n",
        "Также видим, что в целом за год появилась тенденция ещё больше использовать в качестве перевозчика компанию №1. Возможно это связано с какими-то локальными улучшениями."
      ]
    },
    {
      "cell_type": "code",
      "metadata": {
        "id": "HlVK1mcZMpZ2",
        "colab": {
          "base_uri": "https://localhost:8080/",
          "height": 371
        },
        "outputId": "438e43ea-07aa-498b-9cbf-89cb59ec2966"
      },
      "source": [
        "sns.scatterplot(data=trips19, x=trips19['trip_distance'], y=trips19['trip_duration_secs'])\n",
        "sns.scatterplot(data=trips20, x=trips20['trip_distance'], y=trips20['trip_duration_secs'])"
      ],
      "execution_count": 60,
      "outputs": [
        {
          "output_type": "execute_result",
          "data": {
            "text/plain": [
              "<matplotlib.axes._subplots.AxesSubplot at 0x7f614ccd3860>"
            ]
          },
          "metadata": {
            "tags": []
          },
          "execution_count": 60
        },
        {
          "output_type": "display_data",
          "data": {
            "image/png": "[encoded data removed]",
            "text/plain": [
              "<Figure size 540x360 with 1 Axes>"
            ]
          },
          "metadata": {
            "tags": []
          }
        }
      ]
    },
    {
      "cell_type": "markdown",
      "metadata": {
        "id": "6Fm9xn1YMpZ2"
      },
      "source": [
        "По графикам зависимости времени поездки от расстояния можем понять, что в целом они распределены примерно одинаково относительно друг друга(в целом этому виной например то, как мы убирали выбросы), т.е. эпидемия повлияла в данном случае только на количество поездок и уменьшение числа длительных поездок.\n",
        "\n",
        "Однако есть очень много поездок с короткими дистанциями, но значительным временем. Это может объясняться большим трафиком в загруженные части дня. Как видим, систематически такой проблемы в 20м году не наблюдалось в силу того, что в целом загруженность узлов была меньше $\\implies$ меньше пробок."
      ]
    },
    {
      "cell_type": "code",
      "metadata": {
        "id": "dbO2S8U0MpZ2",
        "colab": {
          "base_uri": "https://localhost:8080/",
          "height": 905
        },
        "outputId": "f930dd27-c9b5-442d-f636-53e2b24b46ea"
      },
      "source": [
        "sns.displot(trips19, x='average_velocity', hue='VendorID')\n",
        "plt.xlim(0, 25)\n",
        "sns.displot(trips20, x='average_velocity', hue='VendorID')\n",
        "plt.xlim(0, 25)"
      ],
      "execution_count": 61,
      "outputs": [
        {
          "output_type": "execute_result",
          "data": {
            "text/plain": [
              "(0.0, 25.0)"
            ]
          },
          "metadata": {
            "tags": []
          },
          "execution_count": 61
        },
        {
          "output_type": "display_data",
          "data": {
            "image/png": "[encoded data removed]",
            "text/plain": [
              "<Figure size 530x450 with 1 Axes>"
            ]
          },
          "metadata": {
            "tags": []
          }
        },
        {
          "output_type": "display_data",
          "data": {
            "image/png": "[encoded data removed]",
            "text/plain": [
              "<Figure size 530x450 with 1 Axes>"
            ]
          },
          "metadata": {
            "tags": []
          }
        }
      ]
    },
    {
      "cell_type": "markdown",
      "metadata": {
        "id": "eftZGJbuMpZ3"
      },
      "source": [
        "Видим уже знакомое распределение. Пики расположены около средних скоростей, которые составляют соответственно 18 и 27 км/ч, что вполне нормально для Нью-Йорка с его трафиком и пробками. Для передвижения со скоростью выше 48 км/ч(13.3 м/с) требуется либо быть каким-нибудь служебным автомобилем(скорая, полиция или пожарные), либо нарушать скоростной режим(чем, видимо, не пренебрегает некоторое количество водителей).\n",
        "\n",
        "Тут же можем понять, что в 2020м году для быстрых переездом чаще использовался перевозчик №2. Вкупе с данными с графиков о времени переезда можем попробовать сделать вывод, что водители данной компании чаще нарушают: они быстрее ездят, но пассажиры немного опасаются использовать этого перевозчика."
      ]
    },
    {
      "cell_type": "markdown",
      "metadata": {
        "id": "TLv4o3IBMpZ3"
      },
      "source": [
        "![19fool](pictures/19.jpg)\n",
        "![20fool](pictures/20.jpg)"
      ]
    },
    {
      "cell_type": "markdown",
      "metadata": {
        "id": "sxpyDmYyMpZ3"
      },
      "source": [
        "Кажется, за весь период мы ничего конкретного не вынесем. Особенно из прошлого года. Однако в этом году можно заметить, что популярным осталось направления Manhatten(и собственно весь он сам) и 2 аэропорта в Queens, а также в 19м году аэропорт Ньюарк. Однако можем заметить, что и так малое количество поездок из Staten Island стало ещё меньше(возможно потому что там много русских, а раз Президент сказал самоизолироваться, нужно самоизолироваться)."
      ]
    },
    {
      "cell_type": "markdown",
      "metadata": {
        "id": "vn3fAychMpZ3"
      },
      "source": [
        "![19weekday](pictures/19weekday.jpg)\n",
        "![19weekend](pictures/19weekend.jpg)"
      ]
    },
    {
      "cell_type": "markdown",
      "metadata": {
        "id": "SeC24nwzMpZ3"
      },
      "source": [
        "Здесь отображены поездки за рабочие дни и за выходные в мае 19ого года. \n",
        "\n",
        "На выходных видим значительное уменьшение поездок в район Staten Island. Это, возможно, обусловлено тем, что много жителей едут в другие районы на работу, а вся инфраструктура для отдыха на выходных присутствует на месте. Более того, вспоминая, что этот район является довольно тихим, можно сделать вывод, что жители не хотят суеты ещё и в выходные.\n",
        "\n",
        "Также можно заметить небольшое уменьшение трафика из аэропортов на выходных(вероятно потому Нью-Йорк популярный город даже больше для рабочих визитов, чем для отдыха).\n",
        "\n",
        "Однако в целом плотность в центральных районах не изменилась."
      ]
    },
    {
      "cell_type": "markdown",
      "metadata": {
        "id": "uxxrNlV1MpZ3"
      },
      "source": [
        "![20weelday](pictures/20weekday.jpg)\n",
        "![20weekend](pictures/20weekend.jpg)"
      ]
    },
    {
      "cell_type": "markdown",
      "metadata": {
        "id": "3FLai9pZMpZ4"
      },
      "source": [
        "В противоположность этому на выходных 20ого видно значительное снижение использования такси. Популярным остались Manhattan и аэропорты, но очевидно снижение переездов между дальними частями города. Также можем заметить, что из аэропорта Ньюарк почти полностью перестали ездить."
      ]
    },
    {
      "cell_type": "markdown",
      "metadata": {
        "id": "Cf8Y0kQTMpZ4"
      },
      "source": [
        "В целом можно понять, что Manhattan всегда имел большой трафик из-за множества туристов и большого количества бизнес-центров."
      ]
    },
    {
      "cell_type": "markdown",
      "metadata": {
        "id": "__96lDlmMpZ4"
      },
      "source": [
        "### Немного изменим представление категориальных данных"
      ]
    },
    {
      "cell_type": "markdown",
      "metadata": {
        "id": "byDkoh3cMpZ4"
      },
      "source": [
        "У нас есть несколько колонок, которые являются категориальными данными. Для линейной регрессии это не очень хорошо, потому сделаем следующим образом: для каждой категории заведём отдельную колонку и выставим в ней True, если у текущей колонки именно эта категория.\n",
        "\n",
        "Таким образом будет легко поступить с payment_type, т.к. там всего 6 различных вариантов. Так сделаем для остальных фичей: VendorID, RatecodeID, store_and_fwd_flag. \n",
        "\n",
        "Для колонок PULocationID и DOLocationID так не пойдёт, потому что там значения от 1 до 263, что очень сильно нагрузит систему. Можно было бы распределить только по районам города: Manhattan, Staten Island, Brooklyn, Queens, Bronx и EWR(Newark Airport).\n",
        "\n",
        "Также можем удалить время начала и конца поездок, т.к. уже некоторую информацию из них мы вынесли, а модели формат datetime не воспринимают. Также сейчас удалим trip_duration. trip_duration_secs удалим чуть позже, когда получим ответы для train- и test-выборок."
      ]
    },
    {
      "cell_type": "code",
      "metadata": {
        "id": "_WdwayQcMpZ4"
      },
      "source": [
        "drop_columns = ['tpep_pickup_datetime', 'tpep_dropoff_datetime', 'trip_duration']\n",
        "trips19 = trips19.drop(columns=drop_columns)\n",
        "trips20 = trips20.drop(columns=drop_columns)"
      ],
      "execution_count": 62,
      "outputs": []
    },
    {
      "cell_type": "code",
      "metadata": {
        "id": "dVse1WdhMpZ4"
      },
      "source": [
        "columns = ['VendorID', 'RatecodeID', 'store_and_fwd_flag', 'payment_type']\n",
        "for column in columns:\n",
        "    for val in set(trips19[column].values):\n",
        "        trips19[column + str(val)] = trips19[column] == val\n",
        "    for val in set(trips20[column].values):\n",
        "        trips20[column + str(val)] = trips20[column] == val\n",
        "    trips19 = trips19.drop(columns=column)\n",
        "    trips20 = trips20.drop(columns=column)"
      ],
      "execution_count": 63,
      "outputs": []
    },
    {
      "cell_type": "code",
      "metadata": {
        "id": "sDU2HK7wMpZ4"
      },
      "source": [
        "boroughs = {\n",
        "    'EWR': [1],\n",
        "    'Manhattan': [4, 12, 13, 24,  41, 42, 43,\n",
        "  45, 48,  50, 68, 74, 75, 79, 87, 88, 90, 100, 103, 103, 103, 107, 113, 114,\n",
        "  116, 120, 125, 127, 128, 137, 140, 141, 142, 143, 144, 148, 151, 152, 153,\n",
        "  158, 161, 162, 163, 164, 166, 170, 186, 194, 202, 209, 211, 224, 229, 230, \n",
        "  231, 232, 233, 234, 236, 237, 238, 239, 243, 244, 246, 249, 261, 262, 263],\n",
        "    'Brooklyn': [11, 14, 17, 21, 22, 25, 26, 29, 33, 34, 35, \n",
        "  36, 37, 39, 40, 49, 52, 54, 55, 61, 62, 63, 65, 66, 67, 71, 72, 76, 77, 80,\n",
        "  85, 89, 91, 97, 106, 108, 111, 112, 123, 133, 149, 150, 154, 155, 165, 177, \n",
        "  178, 181, 188, 189, 190, 195, 210, 217, 222, 225, 227, 228, 255, 256, 257],\n",
        "    'Bronx': [3, 18, 20, 31, 32, 46, 47, 51, 58, 59, 60, 69, \n",
        "  78, 81, 94, 119, 126, 136, 147, 159, 167, 168, 169, 174, 182, 183, 184, 185, \n",
        "  199, 200, 208, 212, 213, 220, 235, 240, 241, 242, 247, 248, 250, 254, 259],\n",
        "    'Queens': [2, 7, 8, 9, \n",
        "  10, 15, 16, 19, 27, 28, 30, 38, 53, 56, 56, 64, 70, 73, 82, 83, 86, 92, 93,\n",
        "  95, 96, 98, 101, 102, 117, 121, 122, 124, 129, 130, 131, 132, 134, 135, 138,\n",
        "  139, 145, 146, 157, 160, 171, 173, 175, 179, 180, 191, 192, 193, 196, 197, \n",
        "  198, 201, 203, 205, 207, 215, 216, 218, 219, 223, 226, 252, 253, 258, 260],\n",
        " '    Staten Island': [5, 6, 23, 44,\n",
        "  84, 99, 109, 110, 115, 118, 156, 172, 176, 187, 204, 206, 214, 221, 245, 251]\n",
        "}"
      ],
      "execution_count": 64,
      "outputs": []
    },
    {
      "cell_type": "code",
      "metadata": {
        "id": "XMHKJEhkuph_"
      },
      "source": [
        "columns = [('PULocationID', 'PU'), ('DOLocationID', 'DO')]\n",
        "for column, abr in columns:\n",
        "    for brg in boroughs:\n",
        "        ids = boroughs[brg]\n",
        "        trips19[brg + abr] = [True if x in ids else False for x in trips19[column]]\n",
        "        trips20[brg + abr] = [True if x in ids else False for x in trips20[column]]\n",
        "    trips19 = trips19.drop(columns=column)\n",
        "    trips20 = trips20.drop(columns=column)"
      ],
      "execution_count": 80,
      "outputs": []
    },
    {
      "cell_type": "markdown",
      "metadata": {
        "id": "LJPUJrnoMpZ4"
      },
      "source": [
        "\n",
        "### Начнём обучать модели"
      ]
    },
    {
      "cell_type": "markdown",
      "metadata": {
        "id": "hydg45H7MpZ4"
      },
      "source": [
        "Чётких правил по выбору размеров train- и test-выборок нет. Рекомендуется брать в каком-то из соотношений 90/10, 80/20, 70/30. По принципу Парето возьмём 80/20.\n",
        "\n",
        "Гораздо большим значением обладает размер самой выборки. Проверим их."
      ]
    },
    {
      "cell_type": "code",
      "metadata": {
        "id": "zkOXfQyPMpZ4",
        "colab": {
          "base_uri": "https://localhost:8080/"
        },
        "outputId": "6ef432df-eb3f-450c-82be-c86e64f6300e"
      },
      "source": [
        "print(trips19.shape, trips20.shape)"
      ],
      "execution_count": 82,
      "outputs": [
        {
          "output_type": "stream",
          "text": [
            "(7336825, 44) (330471, 44)\n"
          ],
          "name": "stdout"
        }
      ]
    },
    {
      "cell_type": "markdown",
      "metadata": {
        "id": "kM-4F0VVMpZ4"
      },
      "source": [
        "Имеем размеры в $7.3 \\cdot 10^6$ и $3.3 \\cdot 10^5$.\n",
        "Это выборки с довольно большим и средним размером соответственно. Потому искусственно повышать размер train-выборки из-за недостаточности данных необходимости нет."
      ]
    },
    {
      "cell_type": "markdown",
      "metadata": {
        "id": "afg-7Yy9MpZ4"
      },
      "source": [
        "Чтобы не нагружать оперативную память пообучаем по очереди, но модели оставим."
      ]
    },
    {
      "cell_type": "code",
      "metadata": {
        "id": "ALnFhoBEMpZ4"
      },
      "source": [
        "def get_tr_ts(trips) -> tuple:\n",
        "    train, test = train_test_split(trips, test_size=0.2)\n",
        "\n",
        "    tr_ans = train['trip_duration_secs']\n",
        "    tr_ans = np.array(tr_ans.values.tolist()).astype(float)\n",
        "\n",
        "    train = train.drop(columns=['trip_duration_secs'])\n",
        "    train = np.array(train.values.tolist()).astype(float)\n",
        "\n",
        "    ts_ans = test['trip_duration_secs']\n",
        "    ts_ans = np.array(ts_ans.values.tolist()).astype(float)\n",
        "\n",
        "    test = test.drop(columns=['trip_duration_secs'])\n",
        "    test = np.array(test.values.tolist()).astype(float)\n",
        "    \n",
        "    return train, test, tr_ans, ts_ans"
      ],
      "execution_count": 83,
      "outputs": []
    },
    {
      "cell_type": "code",
      "metadata": {
        "id": "DEN5hUk9MpZ4"
      },
      "source": [
        "train, test, tr_ans, ts_ans = get_tr_ts(trips19)"
      ],
      "execution_count": 84,
      "outputs": []
    },
    {
      "cell_type": "markdown",
      "metadata": {
        "id": "pCvJ4HPIMpZ4"
      },
      "source": [
        "Для начала попробуем обучить линейную регрессию без параметров."
      ]
    },
    {
      "cell_type": "code",
      "metadata": {
        "id": "SOekl69XMpZ4"
      },
      "source": [
        "reg = LinearRegression(n_jobs=-1).fit(train, tr_ans)"
      ],
      "execution_count": 106,
      "outputs": []
    },
    {
      "cell_type": "markdown",
      "metadata": {
        "id": "L9_yoXj9MpZ4"
      },
      "source": [
        "Посмотрим, как регрессия умеет предсказывать данные для train-выборки."
      ]
    },
    {
      "cell_type": "code",
      "metadata": {
        "id": "ua1uy0DcMpZ4"
      },
      "source": [
        "predicted = reg.predict(train)"
      ],
      "execution_count": 107,
      "outputs": []
    },
    {
      "cell_type": "markdown",
      "metadata": {
        "id": "ATPayVCIMpZ4"
      },
      "source": [
        "Построим график отклонений предсказания от ответа:"
      ]
    },
    {
      "cell_type": "code",
      "metadata": {
        "id": "fyUNIZApMpZ4",
        "colab": {
          "base_uri": "https://localhost:8080/",
          "height": 470
        },
        "outputId": "15a4b2f8-558f-45e9-99da-7b32607accf4"
      },
      "source": [
        "sns.displot(predicted - tr_ans)\n",
        "plt.xlim(-2000, 2000)"
      ],
      "execution_count": 108,
      "outputs": [
        {
          "output_type": "execute_result",
          "data": {
            "text/plain": [
              "(-2000.0, 2000.0)"
            ]
          },
          "metadata": {
            "tags": []
          },
          "execution_count": 108
        },
        {
          "output_type": "display_data",
          "data": {
            "image/png": "[encoded data removed]",
            "text/plain": [
              "<Figure size 450x450 with 1 Axes>"
            ]
          },
          "metadata": {
            "tags": []
          }
        }
      ]
    },
    {
      "cell_type": "code",
      "metadata": {
        "id": "2RVD9N6JMpZ4",
        "colab": {
          "base_uri": "https://localhost:8080/"
        },
        "outputId": "f0eb95fd-8563-4706-8b76-968c23629cad"
      },
      "source": [
        "np.mean(np.abs(predicted - tr_ans))"
      ],
      "execution_count": 109,
      "outputs": [
        {
          "output_type": "execute_result",
          "data": {
            "text/plain": [
              "140.0277832976115"
            ]
          },
          "metadata": {
            "tags": []
          },
          "execution_count": 109
        }
      ]
    },
    {
      "cell_type": "markdown",
      "metadata": {
        "id": "XdsBzEW_MpZ5"
      },
      "source": [
        "Среднее значение отклонение около 2.5 минуты. Учитывая, что средняя поездка около 15 минут, это и правда много, однако для самоощущения 2.5 минуты - не такой большой промежуток. Но это же средняя ошибка. На графике видно, что в обе стороны есть отклонения, причём немного больше в отрицательную: пользователю будет не очень приятно понять, что ехать на 10 минут дольше."
      ]
    },
    {
      "cell_type": "code",
      "metadata": {
        "id": "NHKeAprbMpZ5",
        "colab": {
          "base_uri": "https://localhost:8080/",
          "height": 944
        },
        "outputId": "bf609cd7-4ee8-41cb-917c-26032766f1ce"
      },
      "source": [
        "plt.figure(figsize=(13, 13))\n",
        "plt.hist(tr_ans, bins=np.linspace(-500, 4000, 300))\n",
        "plt.hist(predicted, bins=np.linspace(-500, 4000, 300))\n",
        "plt.xlim(-500, 4000)\n",
        "pass"
      ],
      "execution_count": 110,
      "outputs": [
        {
          "output_type": "display_data",
          "data": {
            "image/png": "[encoded data removed]",
            "text/plain": [
              "<Figure size 1170x1170 with 1 Axes>"
            ]
          },
          "metadata": {
            "tags": []
          }
        }
      ]
    },
    {
      "cell_type": "markdown",
      "metadata": {
        "id": "rsv0w76vMpZ5"
      },
      "source": [
        "Посмотрим на MSE:\n",
        "$$\n",
        "MSE = \\dfrac{1}{N}\\sum\\limits_{i = 1}^{n} (y_i - \\hat{y}_i)^2\n",
        "$$"
      ]
    },
    {
      "cell_type": "code",
      "metadata": {
        "id": "huEkfKR7MpZ5",
        "colab": {
          "base_uri": "https://localhost:8080/"
        },
        "outputId": "637e0b78-3165-4298-fb26-b1dc0e9b8bbd"
      },
      "source": [
        "mean_squared_error(tr_ans, predicted)"
      ],
      "execution_count": 111,
      "outputs": [
        {
          "output_type": "execute_result",
          "data": {
            "text/plain": [
              "65005.58395240641"
            ]
          },
          "metadata": {
            "tags": []
          },
          "execution_count": 111
        }
      ]
    },
    {
      "cell_type": "markdown",
      "metadata": {
        "id": "Ugp6EMAhMpZ5"
      },
      "source": [
        "Видим большое значение. Будем использовать его как отправную точку для оценки качества последующих моделей, т.к. тут мы знаем, что это не самый приемлемый результат. И очевидно можем сказать, что модель не переучилась."
      ]
    },
    {
      "cell_type": "markdown",
      "metadata": {
        "id": "2hjpGcRhMpZ5"
      },
      "source": [
        "Посмотрим, как наша модель предскажет значения для тестовой выборки:"
      ]
    },
    {
      "cell_type": "code",
      "metadata": {
        "id": "U9hJfqrHMpZ5"
      },
      "source": [
        "predicted = reg.predict(test)"
      ],
      "execution_count": 112,
      "outputs": []
    },
    {
      "cell_type": "markdown",
      "metadata": {
        "id": "15C3PhfpMpZ5"
      },
      "source": [
        "Построим аналогичные оценки."
      ]
    },
    {
      "cell_type": "code",
      "metadata": {
        "id": "PQgtdz_tMpZ5",
        "colab": {
          "base_uri": "https://localhost:8080/",
          "height": 470
        },
        "outputId": "b6f8018e-6559-4cca-b34c-e9c0672233b4"
      },
      "source": [
        "sns.displot(predicted - ts_ans)\n",
        "plt.xlim(-2000, 2000)"
      ],
      "execution_count": 113,
      "outputs": [
        {
          "output_type": "execute_result",
          "data": {
            "text/plain": [
              "(-2000.0, 2000.0)"
            ]
          },
          "metadata": {
            "tags": []
          },
          "execution_count": 113
        },
        {
          "output_type": "display_data",
          "data": {
            "image/png": "[encoded data removed]",
            "text/plain": [
              "<Figure size 450x450 with 1 Axes>"
            ]
          },
          "metadata": {
            "tags": []
          }
        }
      ]
    },
    {
      "cell_type": "code",
      "metadata": {
        "id": "Ur3baTTiMpZ6",
        "colab": {
          "base_uri": "https://localhost:8080/"
        },
        "outputId": "1f0d54da-9630-40e7-deaa-2ceb7815ebd7"
      },
      "source": [
        "np.mean(np.abs(predicted - ts_ans))"
      ],
      "execution_count": 114,
      "outputs": [
        {
          "output_type": "execute_result",
          "data": {
            "text/plain": [
              "140.22843030196714"
            ]
          },
          "metadata": {
            "tags": []
          },
          "execution_count": 114
        }
      ]
    },
    {
      "cell_type": "code",
      "metadata": {
        "id": "CKNR-RilMpZ6",
        "colab": {
          "base_uri": "https://localhost:8080/",
          "height": 948
        },
        "outputId": "50245a1d-4377-40a8-ea7f-a3931a05f31a"
      },
      "source": [
        "plt.figure(figsize=(13, 13))\n",
        "plt.hist(ts_ans, bins=np.linspace(-500, 4000, 300))\n",
        "plt.hist(predicted, bins=np.linspace(-500, 4000, 300))\n",
        "plt.xlim(-500, 4000)\n",
        "pass"
      ],
      "execution_count": 115,
      "outputs": [
        {
          "output_type": "display_data",
          "data": {
            "image/png": "[encoded data removed]",
            "text/plain": [
              "<Figure size 1170x1170 with 1 Axes>"
            ]
          },
          "metadata": {
            "tags": []
          }
        }
      ]
    },
    {
      "cell_type": "code",
      "metadata": {
        "id": "TtJWiT_PMpZ6",
        "colab": {
          "base_uri": "https://localhost:8080/"
        },
        "outputId": "7d69d3bf-cb21-48fa-8d78-33af59dd9f8f"
      },
      "source": [
        "mean_squared_error(ts_ans, predicted)"
      ],
      "execution_count": 116,
      "outputs": [
        {
          "output_type": "execute_result",
          "data": {
            "text/plain": [
              "61167.5722363707"
            ]
          },
          "metadata": {
            "tags": []
          },
          "execution_count": 116
        }
      ]
    },
    {
      "cell_type": "markdown",
      "metadata": {
        "id": "3r0s-Mm7MpZ6"
      },
      "source": [
        "Ситуация почти аналогичная."
      ]
    },
    {
      "cell_type": "markdown",
      "metadata": {
        "id": "vqSW712DMpZ6"
      },
      "source": [
        "Посмотрим на коэффициенты фичей."
      ]
    },
    {
      "cell_type": "code",
      "metadata": {
        "id": "YMrAJYnNMpZ6",
        "colab": {
          "base_uri": "https://localhost:8080/"
        },
        "outputId": "539f5f77-a889-49c5-849a-5acd9bbcc509"
      },
      "source": [
        "reg.coef_"
      ],
      "execution_count": 117,
      "outputs": [
        {
          "output_type": "execute_result",
          "data": {
            "text/plain": [
              "array([ 1.07528168e+00,  7.09759234e-02, -1.51178450e+01, -3.08911494e+00,\n",
              "       -5.46655968e+02, -5.23772861e+01, -7.52963925e+01, -1.65846162e+03,\n",
              "        5.91659327e+01, -3.31168604e+01,  5.06054662e-01,  9.59668100e-01,\n",
              "       -5.02665800e+00,  3.19783681e+00, -1.20981563e+02, -4.43993837e+00,\n",
              "        1.29441062e+00, -1.29441062e+00,  6.44682340e+02,  3.81275573e+01,\n",
              "       -9.39505287e+01, -4.36161577e+02, -4.51687917e+02,  5.42068256e+02,\n",
              "       -2.43078131e+02, -4.19422325e+00,  4.19422323e+00, -3.04545306e+01,\n",
              "       -1.09492247e+01,  2.56047679e+01,  1.57989874e+01, -6.57370303e+02,\n",
              "       -1.61793402e+02, -8.84820715e+01, -4.02098405e+01, -2.06292999e+02,\n",
              "       -1.27489117e+02, -1.00368141e+03, -2.73950968e+01, -7.58015582e+01,\n",
              "       -1.88143636e+02,  4.28223273e-01, -1.10476485e+03])"
            ]
          },
          "metadata": {
            "tags": []
          },
          "execution_count": 117
        }
      ]
    },
    {
      "cell_type": "markdown",
      "metadata": {
        "id": "W8PBWHRPMpZ6"
      },
      "source": [
        "Как видим, нет каких-то фичей с очень маленьким порядком коэффициентов, потому ничего выбросить не сможем."
      ]
    },
    {
      "cell_type": "markdown",
      "metadata": {
        "id": "5YX4Mwm_MpZ6"
      },
      "source": [
        "Проверим для 20ого года."
      ]
    },
    {
      "cell_type": "code",
      "metadata": {
        "id": "z6HZcXSrMpZ6"
      },
      "source": [
        "train, test, tr_ans, ts_ans = get_tr_ts(trips20)"
      ],
      "execution_count": null,
      "outputs": []
    },
    {
      "cell_type": "code",
      "metadata": {
        "id": "HNEJcee-MpZ6"
      },
      "source": [
        "reg.fit(train, tr_ans)\n",
        "pass"
      ],
      "execution_count": null,
      "outputs": []
    },
    {
      "cell_type": "code",
      "metadata": {
        "id": "3vXay4tlMpZ6"
      },
      "source": [
        "predicted = reg.predict(train)"
      ],
      "execution_count": null,
      "outputs": []
    },
    {
      "cell_type": "code",
      "metadata": {
        "id": "axawesoEMpZ6"
      },
      "source": [
        ""
      ],
      "execution_count": null,
      "outputs": []
    },
    {
      "cell_type": "code",
      "metadata": {
        "id": "YsqdTJyCMpZ6"
      },
      "source": [
        ""
      ],
      "execution_count": null,
      "outputs": []
    },
    {
      "cell_type": "markdown",
      "metadata": {
        "id": "8QDT8ROkMpZ6"
      },
      "source": [
        "# Параметры."
      ]
    },
    {
      "cell_type": "code",
      "metadata": {
        "id": "ftZfO_i5MpZ6"
      },
      "source": [
        ""
      ],
      "execution_count": null,
      "outputs": []
    },
    {
      "cell_type": "code",
      "metadata": {
        "id": "M1ae0rldMpZ7"
      },
      "source": [
        ""
      ],
      "execution_count": null,
      "outputs": []
    },
    {
      "cell_type": "code",
      "metadata": {
        "id": "OZN4s8A5MpZ7"
      },
      "source": [
        ""
      ],
      "execution_count": null,
      "outputs": []
    },
    {
      "cell_type": "code",
      "metadata": {
        "id": "WxOuo6P7MpZ7"
      },
      "source": [
        ""
      ],
      "execution_count": null,
      "outputs": []
    },
    {
      "cell_type": "code",
      "metadata": {
        "id": "pmXTiyOyMpZ7"
      },
      "source": [
        ""
      ],
      "execution_count": null,
      "outputs": []
    },
    {
      "cell_type": "code",
      "metadata": {
        "id": "rnaz1BOgMpZ7"
      },
      "source": [
        ""
      ],
      "execution_count": null,
      "outputs": []
    }
  ]
}