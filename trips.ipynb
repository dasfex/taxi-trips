{
  "nbformat": 4,
  "nbformat_minor": 0,
  "metadata": {
    "kernelspec": {
      "display_name": "Python 3",
      "language": "python",
      "name": "python3"
    },
    "language_info": {
      "codemirror_mode": {
        "name": "ipython",
        "version": 3
      },
      "file_extension": ".py",
      "mimetype": "text/x-python",
      "name": "python",
      "nbconvert_exporter": "python",
      "pygments_lexer": "ipython3",
      "version": "3.6.9"
    },
    "colab": {
      "name": "trips.ipynb",
      "provenance": [],
      "collapsed_sections": []
    }
  },
  "cells": [
    {
      "cell_type": "markdown",
      "metadata": {
        "id": "v2dYaDpWMpZy"
      },
      "source": [
        "### Подготовим данные."
      ]
    },
    {
      "cell_type": "code",
      "metadata": {
        "id": "aumW6TNdMpZy"
      },
      "source": [
        "import pandas as pd\n",
        "import numpy as np\n",
        "import matplotlib.pyplot as plt\n",
        "import seaborn as sns\n",
        "\n",
        "from datetime import datetime\n",
        "\n",
        "from sklearn.linear_model import LinearRegression\n",
        "from sklearn.ensemble import RandomForestClassifier\n",
        "from sklearn.metrics import mean_squared_error\n",
        "from sklearn.model_selection import train_test_split\n",
        "from sklearn.preprocessing import StandardScaler, MinMaxScaler, MaxAbsScaler\n",
        "\n",
        "sns.set_theme()\n",
        "pd.set_option('display.float_format', lambda x: '%.5f' % x) # для удобного отображения describe"
      ],
      "execution_count": 1,
      "outputs": []
    },
    {
      "cell_type": "code",
      "metadata": {
        "colab": {
          "base_uri": "https://localhost:8080/"
        },
        "id": "O5AiY59gPOdq",
        "outputId": "a3aec7ac-52dc-42c1-8559-a2b38daab7f8"
      },
      "source": [
        "from google.colab import drive\n",
        "drive.mount('/content/drive')"
      ],
      "execution_count": 2,
      "outputs": [
        {
          "output_type": "stream",
          "text": [
            "Drive already mounted at /content/drive; to attempt to forcibly remount, call drive.mount(\"/content/drive\", force_remount=True).\n"
          ],
          "name": "stdout"
        }
      ]
    },
    {
      "cell_type": "code",
      "metadata": {
        "id": "jxNPL_fkMpZz"
      },
      "source": [
        "trips19 = pd.read_csv('/content/drive/MyDrive/trips/tripdata_2019-05.csv')"
      ],
      "execution_count": 3,
      "outputs": []
    },
    {
      "cell_type": "code",
      "metadata": {
        "id": "fVyopU4DMpZz",
        "colab": {
          "base_uri": "https://localhost:8080/"
        },
        "outputId": "1ff8f961-0311-4402-ca17-78e6701b1902"
      },
      "source": [
        "trips20 = pd.read_csv('/content/drive/MyDrive/trips/tripdata_2020-05.csv')"
      ],
      "execution_count": 4,
      "outputs": [
        {
          "output_type": "stream",
          "text": [
            "/usr/local/lib/python3.6/dist-packages/IPython/core/interactiveshell.py:2718: DtypeWarning: Columns (6) have mixed types.Specify dtype option on import or set low_memory=False.\n",
            "  interactivity=interactivity, compiler=compiler, result=result)\n"
          ],
          "name": "stderr"
        }
      ]
    },
    {
      "cell_type": "markdown",
      "metadata": {
        "id": "EP0WtfNEMpZz"
      },
      "source": [
        "Посмотрим, какие пропущенные значения есть в данных."
      ]
    },
    {
      "cell_type": "code",
      "metadata": {
        "id": "1UEbRMi5MpZz",
        "colab": {
          "base_uri": "https://localhost:8080/"
        },
        "outputId": "912edc9d-0cc4-4c88-b9bb-bcd6d74ac04e"
      },
      "source": [
        "for el in trips19.columns:\n",
        "    print(el, trips19[el].isna().sum())"
      ],
      "execution_count": 5,
      "outputs": [
        {
          "output_type": "stream",
          "text": [
            "VendorID 0\n",
            "tpep_pickup_datetime 0\n",
            "tpep_dropoff_datetime 0\n",
            "passenger_count 0\n",
            "trip_distance 0\n",
            "RatecodeID 0\n",
            "store_and_fwd_flag 0\n",
            "PULocationID 0\n",
            "DOLocationID 0\n",
            "payment_type 0\n",
            "fare_amount 0\n",
            "extra 0\n",
            "mta_tax 0\n",
            "tip_amount 0\n",
            "tolls_amount 0\n",
            "improvement_surcharge 0\n",
            "total_amount 0\n",
            "congestion_surcharge 0\n"
          ],
          "name": "stdout"
        }
      ]
    },
    {
      "cell_type": "code",
      "metadata": {
        "id": "fIf0J9WsMpZz",
        "colab": {
          "base_uri": "https://localhost:8080/"
        },
        "outputId": "5eba71b7-5267-4ac9-c3d6-78e545356a0e"
      },
      "source": [
        "for el in trips20.columns:\n",
        "    print(el, trips20[el].isna().sum())"
      ],
      "execution_count": 6,
      "outputs": [
        {
          "output_type": "stream",
          "text": [
            "VendorID 58891\n",
            "tpep_pickup_datetime 0\n",
            "tpep_dropoff_datetime 0\n",
            "passenger_count 58891\n",
            "trip_distance 0\n",
            "RatecodeID 58891\n",
            "store_and_fwd_flag 58891\n",
            "PULocationID 0\n",
            "DOLocationID 0\n",
            "payment_type 58891\n",
            "fare_amount 0\n",
            "extra 0\n",
            "mta_tax 0\n",
            "tip_amount 0\n",
            "tolls_amount 0\n",
            "improvement_surcharge 0\n",
            "total_amount 0\n",
            "congestion_surcharge 0\n"
          ],
          "name": "stdout"
        }
      ]
    },
    {
      "cell_type": "markdown",
      "metadata": {
        "id": "MN9jfSjJMpZz"
      },
      "source": [
        "На данный момент из пропущенных данных для нас интерес может представлять только колонка о количестве пассажиров.\n",
        "\n",
        "Посмотрим на самое частое значение и заменим на него все пропущенные значения."
      ]
    },
    {
      "cell_type": "code",
      "metadata": {
        "id": "XQPPK3rmMpZ0"
      },
      "source": [
        "trips20.VendorID = trips20.VendorID.fillna(trips20['VendorID'].value_counts().idxmax())\n",
        "trips20.passenger_count = trips20.passenger_count.fillna(trips20['passenger_count'].value_counts().idxmax())\n",
        "trips20.RatecodeID = trips20.RatecodeID.fillna(trips20['RatecodeID'].value_counts().idxmax())\n",
        "trips20.store_and_fwd_flag = trips20.store_and_fwd_flag.fillna(trips20['store_and_fwd_flag'].value_counts().idxmax())\n",
        "trips20.payment_type = trips20.payment_type.fillna(trips20['payment_type'].value_counts().idxmax())"
      ],
      "execution_count": 7,
      "outputs": []
    },
    {
      "cell_type": "markdown",
      "metadata": {
        "id": "TqclWanAMpZ0"
      },
      "source": [
        "Преобразуем формат ячеек с временем для удобства."
      ]
    },
    {
      "cell_type": "code",
      "metadata": {
        "id": "-xFTlb_FMpZ0"
      },
      "source": [
        "trips19['tpep_pickup_datetime'] = pd.to_datetime(trips19.tpep_pickup_datetime)\n",
        "trips19['tpep_dropoff_datetime'] = pd.to_datetime(trips19.tpep_dropoff_datetime)"
      ],
      "execution_count": 8,
      "outputs": []
    },
    {
      "cell_type": "code",
      "metadata": {
        "id": "3Z-WDCikMpZ0"
      },
      "source": [
        "trips20['tpep_pickup_datetime'] = pd.to_datetime(trips20.tpep_pickup_datetime)\n",
        "trips20['tpep_dropoff_datetime'] = pd.to_datetime(trips20.tpep_dropoff_datetime)"
      ],
      "execution_count": 9,
      "outputs": []
    },
    {
      "cell_type": "markdown",
      "metadata": {
        "id": "Km6007pdMpZ0"
      },
      "source": [
        "Удалим данные, в которых начало во времени находится после конца, а также те строки, в которых id районов посадки/высадки больше 263(их именно столько)."
      ]
    },
    {
      "cell_type": "code",
      "metadata": {
        "id": "A6sMzKCvMpZ0"
      },
      "source": [
        "trips19 = trips19[trips19.tpep_pickup_datetime <= trips19.tpep_dropoff_datetime]\n",
        "trips19 = trips19[trips19.PULocationID <= 263]\n",
        "trips19 = trips19[trips19.DOLocationID <= 263]"
      ],
      "execution_count": 10,
      "outputs": []
    },
    {
      "cell_type": "code",
      "metadata": {
        "id": "afCRgDHMMpZ0"
      },
      "source": [
        "trips20 = trips20[trips20.tpep_pickup_datetime <= trips20.tpep_dropoff_datetime]\n",
        "trips20 = trips20[trips20.PULocationID <= 263]\n",
        "trips20 = trips20[trips20.DOLocationID <= 263]"
      ],
      "execution_count": 11,
      "outputs": []
    },
    {
      "cell_type": "markdown",
      "metadata": {
        "id": "aGAthEYDMpZ0"
      },
      "source": [
        "Введём новые колонки: \n",
        "\n",
        "1. с датой начала поездки; \n",
        "\n",
        "2. с часом начала и конца;\n",
        "\n",
        "3. с днём недели начала поездки; \n",
        "\n",
        "4. с временем продолжительности поездки(день конца поездки игнорируем, т.к. почти все поездки будут в промежутке одного дня);\n",
        "\n",
        "5. временем поездки в секундах;\n",
        "\n",
        "6. средней скоростью в м/с."
      ]
    },
    {
      "cell_type": "code",
      "metadata": {
        "id": "7hNuLMfcMpZ0"
      },
      "source": [
        "MILES_TO_KM = 1609.34"
      ],
      "execution_count": 12,
      "outputs": []
    },
    {
      "cell_type": "code",
      "metadata": {
        "id": "tFDYbZueMpZ0"
      },
      "source": [
        "trips19['trip_pickup_day'] = trips19.tpep_pickup_datetime.dt.day\n",
        "trips19['week_day'] = trips19.tpep_pickup_datetime.dt.dayofweek\n",
        "trips19['trip_pickup_hour'] = trips19.tpep_pickup_datetime.dt.hour\n",
        "trips19['trip_dropoff_hour'] = trips19.tpep_dropoff_datetime.dt.hour\n",
        "trips19['trip_duration'] = trips19.tpep_dropoff_datetime - trips19.tpep_pickup_datetime\n",
        "trips19['trip_duration_secs'] = trips19.trip_duration.dt.seconds\n",
        "trips19['trip_distance'] = trips19['trip_distance'] * MILES_TO_KM\n",
        "trips19['average_velocity'] = trips19['trip_distance'] / trips19['trip_duration_secs']"
      ],
      "execution_count": 13,
      "outputs": []
    },
    {
      "cell_type": "code",
      "metadata": {
        "id": "PfEfc5icMpZ0"
      },
      "source": [
        "trips20['trip_pickup_day'] = trips20.tpep_pickup_datetime.dt.day\n",
        "trips20['week_day'] = trips20.tpep_pickup_datetime.dt.dayofweek\n",
        "trips20['trip_pickup_hour'] = trips20.tpep_pickup_datetime.dt.hour\n",
        "trips20['trip_dropoff_hour'] = trips20.tpep_dropoff_datetime.dt.hour\n",
        "trips20['trip_duration'] = trips20.tpep_dropoff_datetime - trips20.tpep_pickup_datetime\n",
        "trips20['trip_duration_secs'] = trips20.trip_duration.dt.seconds\n",
        "trips20['trip_distance'] = trips20['trip_distance'] * MILES_TO_KM\n",
        "trips20['average_velocity'] = trips20['trip_distance'] / trips20['trip_duration_secs']"
      ],
      "execution_count": 14,
      "outputs": []
    },
    {
      "cell_type": "markdown",
      "metadata": {
        "id": "WRvJR8yxMpZ0"
      },
      "source": [
        "Посмотрим, есть ли в данных нереальные случаи.\n",
        "\n",
        "Установим ограничение для средней скорости в 50 м/с сверху и 0.1 м/с снизу, а также удалим строки, в которых преодолено нулевое расстояние за ненулевое время, при этом получена некоторая сумма за поездку.\n",
        "\n",
        "Так же удалим строки с отрицательной стоимостью поездки."
      ]
    },
    {
      "cell_type": "code",
      "metadata": {
        "id": "KaRnOBptMpZ0"
      },
      "source": [
        "trips19 = trips19[trips19.average_velocity <= 50]\n",
        "trips19 = trips19[trips19.average_velocity >= 1]\n",
        "trips19 = trips19.drop(trips19[(trips19.trip_distance == 0) & (trips19.total_amount > 0) & (trips19.trip_duration_secs > 0)].index)\n",
        "trips19 = trips19[trips19.total_amount >= 0]\n",
        "trips19 = trips19[trips19.VendorID < 3]"
      ],
      "execution_count": null,
      "outputs": []
    },
    {
      "cell_type": "code",
      "metadata": {
        "id": "KwlsK6EdMpZ0"
      },
      "source": [
        "trips20 = trips20[trips20.average_velocity <= 50]\n",
        "trips20 = trips20[trips20.average_velocity >= 1]\n",
        "trips20 = trips20.drop(trips20[(trips20.trip_distance == 0) & (trips20.total_amount > 0) & (trips20.trip_duration_secs > 0)].index)\n",
        "trips20 = trips20[trips20.total_amount >= 0]\n",
        "trips20 = trips20[trips20.VendorID < 3]"
      ],
      "execution_count": null,
      "outputs": []
    },
    {
      "cell_type": "markdown",
      "metadata": {
        "id": "dL5w2dNWMpZ0"
      },
      "source": [
        "В последний понедельник мая проводится федеральный праздник День Памяти, который является государственным выходным. Установим для дат 27.05.19 и 25.05.20 значение 1 в новой колонке, 0 всем остальным."
      ]
    },
    {
      "cell_type": "code",
      "metadata": {
        "id": "Q3Ips278MpZ0"
      },
      "source": [
        "trips19['is_holiday'] = [x.date().day == 27 for x in trips19['tpep_pickup_datetime']]\n",
        "trips20['is_holiday'] = [x.date().day == 25 for x in trips20['tpep_pickup_datetime']]"
      ],
      "execution_count": null,
      "outputs": []
    },
    {
      "cell_type": "markdown",
      "metadata": {
        "id": "mpVGZ6_mMpZ0"
      },
      "source": [
        "Посмотрим на некоторые статистики, которые может предоставить python."
      ]
    },
    {
      "cell_type": "code",
      "metadata": {
        "id": "QNvMygChMpZ0"
      },
      "source": [
        "trips19.describe()"
      ],
      "execution_count": null,
      "outputs": []
    },
    {
      "cell_type": "code",
      "metadata": {
        "id": "c7Bqc_x6MpZ1"
      },
      "source": [
        "trips20.describe()"
      ],
      "execution_count": null,
      "outputs": []
    },
    {
      "cell_type": "markdown",
      "metadata": {
        "id": "4Pz6SD4bMpZ1"
      },
      "source": [
        "Из describe можем сделать несколько выводов:\n",
        "0. Среднее количество пассажиров снизилось с 1.57 до 1.27 из-за социального дистанцирования. Также максимальное количество уменьшилось от 9 до 6 человек(среди жёлтых такси так же есть минивены, потому такое большое количество неудивительно).\n",
        "1. Средняя дистанция в 20м году выросла с 5км до 6км. Можем сделать вывод, что люди стали чаще пользоваться такси для каких-то длительных поездок, ведь если расстояние небольшое, может быть рентабельнее просто пойти пешком, чтобы ни с кем зря не контактировать.\n",
        "2. Несмотря на увеличение дистанции средняя продолжительность поездки уменьшилось(соответственно выросла средняя скорость) из-за меньшей загруженности дорог.\n"
      ]
    },
    {
      "cell_type": "markdown",
      "metadata": {
        "id": "q6dk5RQaMpZ1"
      },
      "source": [
        "### Получим представление о районах Нью-Йорка."
      ]
    },
    {
      "cell_type": "markdown",
      "metadata": {
        "id": "_YI0fVRVMpZ1"
      },
      "source": [
        "В Нью-Йорке есть 5 основных районов: Manhattan, Queens, Brooklyn, Staten Island и Bronx."
      ]
    },
    {
      "cell_type": "markdown",
      "metadata": {
        "id": "yYal--YYMpZ1"
      },
      "source": [
        "![ny_map](pictures/ny_map.jpg)\n"
      ]
    },
    {
      "cell_type": "markdown",
      "metadata": {
        "id": "OqNnRxZVMpZ1"
      },
      "source": [
        "Manhattan является главным туристическим местом, а также скоплением главных бизнес-центров Нью-Йорка. Тут очень развита инфраструктура  (не)активного времяпрепровождения."
      ]
    },
    {
      "cell_type": "markdown",
      "metadata": {
        "id": "LKn7GmC5MpZ1"
      },
      "source": [
        "Queens является одним из наиболее \"спальных\" районов города. Однако тут расположен Национальный аэропорт имени Джона Кеннеди - аэропорт с самым большим трафиком пассажирских и грузовых авиаперевозок в мире, что в купе с тем фактом, что тут происходит множество спортивных мероприятий, добавляет посещаемости приезжими."
      ]
    },
    {
      "cell_type": "markdown",
      "metadata": {
        "id": "pIq55szKMpZ1"
      },
      "source": [
        "Brooklyn - самый населённый район Нью-Йорка. При этом тут очень развита инфраструктура локальных мероприятий, что позволяет жителям не ездить куда-то, а \"жить на месте\"."
      ]
    },
    {
      "cell_type": "markdown",
      "metadata": {
        "id": "cg5GGkI1MpZ1"
      },
      "source": [
        "В Bronx'е находится печально известный своей неблагополучностью квартал Camp Apache. Однако сейчас там всё спокойно. Более того, среди туристов имеют популярность несколько иностранных кварталов"
      ]
    },
    {
      "cell_type": "markdown",
      "metadata": {
        "id": "FIFmxXmqMpZ1"
      },
      "source": [
        "Staten Island - самый тихий район с наименьшей численностью населения. Туристов сюда не тянет в силу того, что тут \"почти не на что смотреть\". Однако с его замечательной природой можно отдохнуть от суеты других районов."
      ]
    },
    {
      "cell_type": "markdown",
      "metadata": {
        "id": "Z3-LjnkoMpZ1"
      },
      "source": [
        "### Визуализируем данные."
      ]
    },
    {
      "cell_type": "markdown",
      "metadata": {
        "id": "m1RBULKWUEtr"
      },
      "source": [
        "Тут мы чаще будем пытаться отследить тенденцию к поведению пользователей(например популярность одного дня недели относительно других), но иногда будем наблюдать и за численными показателями.\n"
      ]
    },
    {
      "cell_type": "code",
      "metadata": {
        "id": "WTO7wl2xMpZ1"
      },
      "source": [
        "# зададим размер графиков\n",
        "plt.rcParams['figure.dpi'] = 90"
      ],
      "execution_count": null,
      "outputs": []
    },
    {
      "cell_type": "code",
      "metadata": {
        "id": "VblkD-Z5MpZ1"
      },
      "source": [
        "sns.displot(trips19, x='week_day')\n",
        "sns.displot(trips20, x='week_day')"
      ],
      "execution_count": null,
      "outputs": []
    },
    {
      "cell_type": "markdown",
      "metadata": {
        "id": "1bE7AI6QMpZ1"
      },
      "source": [
        "Выше видим выброс в пятницу в 2020м году. Возможно это объясняется режимом самоизоляции, который очень хочется нарушить в конце рабочей недели(либо в целом возвращение с работы домой, если это не является ежедневной рутиной).\n",
        "\n",
        "В противоложность этому основная нагрузка в 19м году приходится на середину рабочей недели. Возможно, причина этому тот факт, что вторник является самым удачным днём для сложных задач, а дальше уже хочется немного поотлынивать, потому жители занимаются своими делами, в том числе разъездами([link](https://secretmag.ru/opinions/ponedelnik-kak-socialnyj-konstrukt-chto-ne-tak-s-dnyami-nedeli.htm))."
      ]
    },
    {
      "cell_type": "code",
      "metadata": {
        "scrolled": false,
        "id": "3VqzojDzMpZ1"
      },
      "source": [
        "sns.displot(trips19.trip_pickup_hour)\n",
        "sns.displot(trips20.trip_pickup_hour)"
      ],
      "execution_count": null,
      "outputs": []
    },
    {
      "cell_type": "markdown",
      "metadata": {
        "id": "SqOLkIO3MpZ2"
      },
      "source": [
        "В 19 году видим основную нагрузку на 6-7 часов вечера, т.к. жители возвращаются с работы попутно заезжая по делам.\n",
        "\n",
        "Однако в 20м году пик приходится на 3 часа дня. Возможно это потому что весь город подумал, что днём будет мало людей на улицах из-за работы и побежал делать свои дела."
      ]
    },
    {
      "cell_type": "code",
      "metadata": {
        "id": "dOHkrGqvMpZ2",
        "colab": {
          "base_uri": "https://localhost:8080/",
          "height": 0
        },
        "outputId": "6f44e5fe-73a8-4255-eeff-394f5d9b006f"
      },
      "source": [
        "sns.displot(trips19, x='trip_pickup_day')\n",
        "sns.displot(trips20, x='trip_pickup_day')"
      ],
      "execution_count": 23,
      "outputs": [
        {
          "output_type": "execute_result",
          "data": {
            "text/plain": [
              "<seaborn.axisgrid.FacetGrid at 0x7fb5efce6c88>"
            ]
          },
          "metadata": {
            "tags": []
          },
          "execution_count": 23
        },
        {
          "output_type": "display_data",
          "data": {
            "image/png": "[encoded data removed]",
            "text/plain": [
              "<Figure size 450x450 with 1 Axes>"
            ]
          },
          "metadata": {
            "tags": [],
            "needs_background": "light"
          }
        },
        {
          "output_type": "display_data",
          "data": {
            "image/png": "[encoded data removed]",
            "text/plain": [
              "<Figure size 450x450 with 1 Axes>"
            ]
          },
          "metadata": {
            "tags": [],
            "needs_background": "light"
          }
        }
      ]
    },
    {
      "cell_type": "markdown",
      "metadata": {
        "id": "fI5vBpmTMpZ2"
      },
      "source": [
        "В оба года видим снижения использования средств передвижение во время выходных. Однако в 19м году имеется тенденция к постепенному снижению использования такси в течение рабочих дней(люди начинают готовится к отпуску и собственно отдыхать), тогда как в 20м году правило обратно: использование повышается, - тут это обуславливается тем, что люди уже устали сидеть некоторое время на карантине и начинают \"подзабивать\" на рекомендации самоизоляции.\n",
        "\n",
        "Также отметим резкое(даже относительно выходных) снижение поездок 27.05.2019 и 25.05.2020, т.к. в этот день федеральный праздник День Памяти, являющийся выходным."
      ]
    },
    {
      "cell_type": "code",
      "metadata": {
        "id": "gtAX6w2tMpZ2",
        "colab": {
          "base_uri": "https://localhost:8080/",
          "height": 0
        },
        "outputId": "a310b684-c4e8-420e-985e-ea0b1a1195fb"
      },
      "source": [
        "sns.displot(trips19, x='trip_duration_secs', hue='VendorID')\n",
        "plt.xlim(0, 5000)\n",
        "sns.displot(trips20, x='trip_duration_secs', hue='VendorID')\n",
        "plt.xlim(0, 5000)"
      ],
      "execution_count": 24,
      "outputs": [
        {
          "output_type": "execute_result",
          "data": {
            "text/plain": [
              "(0.0, 5000.0)"
            ]
          },
          "metadata": {
            "tags": []
          },
          "execution_count": 24
        },
        {
          "output_type": "display_data",
          "data": {
            "image/png": "[encoded data removed]",
            "text/plain": [
              "<Figure size 530x450 with 1 Axes>"
            ]
          },
          "metadata": {
            "tags": [],
            "needs_background": "light"
          }
        },
        {
          "output_type": "display_data",
          "data": {
            "image/png": "[encoded data removed]",
            "text/plain": [
              "<Figure size 530x450 with 1 Axes>"
            ]
          },
          "metadata": {
            "tags": [],
            "needs_background": "light"
          }
        }
      ]
    },
    {
      "cell_type": "markdown",
      "metadata": {
        "id": "9Nc4WoMcMpZ2"
      },
      "source": [
        "Похоже на распределение Пуассона или Максвелла.\n",
        "\n",
        "На 2м графике существуют видимые выбросы, но это скорее из-за малого количества наблюдений. На 1м графике тенденция видна гораздо лучше и без выбросов.\n",
        "\n",
        "Легко увидеть, что пользователи совершают очень много коротких поездок(до 30 минут) и очень мало длинных(более часа). На ум приходят две причины: немалая стоимость длинной поездки + средний пассажир ездит ради скорости  и независимости от большинства других факторов(расписание общественного транспорта, движение от точки до точки).\n",
        "\n",
        "Также видим, что в целом за год появилась тенденция ещё больше использовать в качестве перевозчика компанию №1. Возможно это связано с какими-то локальными улучшениями."
      ]
    },
    {
      "cell_type": "code",
      "metadata": {
        "id": "HlVK1mcZMpZ2",
        "colab": {
          "base_uri": "https://localhost:8080/",
          "height": 0
        },
        "outputId": "ba61347a-6a9e-452c-e70b-6a10acbbc869"
      },
      "source": [
        "sns.scatterplot(data=trips19, x=trips19['trip_distance'], y=trips19['trip_duration_secs'])\n",
        "sns.scatterplot(data=trips20, x=trips20['trip_distance'], y=trips20['trip_duration_secs'])"
      ],
      "execution_count": 25,
      "outputs": [
        {
          "output_type": "execute_result",
          "data": {
            "text/plain": [
              "<matplotlib.axes._subplots.AxesSubplot at 0x7fb5f0f92240>"
            ]
          },
          "metadata": {
            "tags": []
          },
          "execution_count": 25
        },
        {
          "output_type": "display_data",
          "data": {
            "image/png": "[encoded data removed]",
            "text/plain": [
              "<Figure size 540x360 with 1 Axes>"
            ]
          },
          "metadata": {
            "tags": [],
            "needs_background": "light"
          }
        }
      ]
    },
    {
      "cell_type": "markdown",
      "metadata": {
        "id": "6Fm9xn1YMpZ2"
      },
      "source": [
        "По графикам зависимости времени поездки от расстояния можем понять, что в целом они распределены примерно одинаково относительно друг друга(этому виной в том числе и то, как мы убирали выбросы), т.е. эпидемия повлияла в данном случае только на количество поездок и уменьшение числа длительных поездок.\n",
        "\n",
        "Однако есть очень много поездок с короткими дистанциями, но значительным временем. Это может объясняться большим трафиком в загруженные части дня. Как видим, систематически такой проблемы в 20м году не наблюдалось в силу того, что в целом загруженность узлов была меньше $\\implies$ меньше пробок."
      ]
    },
    {
      "cell_type": "code",
      "metadata": {
        "id": "dbO2S8U0MpZ2",
        "colab": {
          "base_uri": "https://localhost:8080/",
          "height": 0
        },
        "outputId": "a8dd62c0-303f-4838-ed65-40e90359ce9c"
      },
      "source": [
        "sns.displot(trips19, x='average_velocity', hue='VendorID')\n",
        "plt.xlim(0, 25)\n",
        "sns.displot(trips20, x='average_velocity', hue='VendorID')\n",
        "plt.xlim(0, 25)"
      ],
      "execution_count": 26,
      "outputs": [
        {
          "output_type": "execute_result",
          "data": {
            "text/plain": [
              "(0.0, 25.0)"
            ]
          },
          "metadata": {
            "tags": []
          },
          "execution_count": 26
        },
        {
          "output_type": "display_data",
          "data": {
            "image/png": "[encoded data removed]",
            "text/plain": [
              "<Figure size 530x450 with 1 Axes>"
            ]
          },
          "metadata": {
            "tags": [],
            "needs_background": "light"
          }
        },
        {
          "output_type": "display_data",
          "data": {
            "image/png": "[encoded data removed]",
            "text/plain": [
              "<Figure size 530x450 with 1 Axes>"
            ]
          },
          "metadata": {
            "tags": [],
            "needs_background": "light"
          }
        }
      ]
    },
    {
      "cell_type": "markdown",
      "metadata": {
        "id": "eftZGJbuMpZ3"
      },
      "source": [
        "Видим уже знакомое распределение. Пики расположены около средних скоростей, которые составляют соответственно 18 и 27 км/ч, что вполне нормально для Нью-Йорка с его трафиком и пробками. Для передвижения со скоростью выше 48 км/ч(13.3 м/с) требуется либо быть каким-нибудь служебным автомобилем(скорая, полиция или пожарные), либо нарушать скоростной режим(чем, видимо, не пренебрегает некоторое количество водителей).\n",
        "\n",
        "Тут же можем понять, что в 2020м году для быстрых переездом чаще использовался перевозчик №2. Вкупе с данными с графиков о времени переезда можем попробовать сделать вывод, что водители данной компании чаще нарушают: они быстрее ездят, но пассажиры немного опасаются использовать этого перевозчика."
      ]
    },
    {
      "cell_type": "markdown",
      "metadata": {
        "id": "TLv4o3IBMpZ3"
      },
      "source": [
        "![19fool](pictures/19.jpg)\n",
        "![20fool](pictures/20.jpg)"
      ]
    },
    {
      "cell_type": "markdown",
      "metadata": {
        "id": "sxpyDmYyMpZ3"
      },
      "source": [
        "Кажется, за весь период мы ничего конкретного не вынесем. Особенно из прошлого года. Однако в этом году можно заметить, что популярным осталось направления Manhatten(и собственно весь он сам) и 2 аэропорта в Queens, а также в 19м году аэропорт Ньюарк. Однако можем заметить, что и так малое количество поездок из Staten Island стало ещё меньше(возможно потому что там много русских, а раз Президент сказал самоизолироваться, нужно самоизолироваться)."
      ]
    },
    {
      "cell_type": "markdown",
      "metadata": {
        "id": "vn3fAychMpZ3"
      },
      "source": [
        "![19weekday](pictures/19weekday.jpg)\n",
        "![19weekend](pictures/19weekend.jpg)"
      ]
    },
    {
      "cell_type": "markdown",
      "metadata": {
        "id": "SeC24nwzMpZ3"
      },
      "source": [
        "Здесь отображены поездки за рабочие дни и за выходные в мае 19ого года. \n",
        "\n",
        "На выходных видим значительное уменьшение поездок в район Staten Island. Это, возможно, обусловлено тем, что много жителей едут в другие районы на работу, а вся инфраструктура для отдыха на выходных присутствует на месте. Более того, вспоминая, что этот район является довольно тихим, можно сделать вывод, что жители не хотят суеты ещё и в выходные.\n",
        "\n",
        "Также можно заметить небольшое уменьшение трафика из аэропортов на выходных(вероятно потому Нью-Йорк популярный город даже больше для рабочих визитов, чем для отдыха).\n",
        "\n",
        "Однако в целом плотность в центральных районах не изменилась."
      ]
    },
    {
      "cell_type": "markdown",
      "metadata": {
        "id": "uxxrNlV1MpZ3"
      },
      "source": [
        "![20weelday](pictures/20weekday.jpg)\n",
        "![20weekend](pictures/20weekend.jpg)"
      ]
    },
    {
      "cell_type": "markdown",
      "metadata": {
        "id": "3FLai9pZMpZ4"
      },
      "source": [
        "В противоположность этому на выходных 20ого видно значительное снижение использования такси. Популярным остались Manhattan и аэропорты, но очевидно снижение переездов между дальними частями города. Также можем заметить, что из аэропорта Ньюарк почти полностью перестали ездить."
      ]
    },
    {
      "cell_type": "markdown",
      "metadata": {
        "id": "Cf8Y0kQTMpZ4"
      },
      "source": [
        "В целом можно понять, что Manhattan всегда имел большой трафик из-за множества туристов и большого количества бизнес-центров."
      ]
    },
    {
      "cell_type": "markdown",
      "metadata": {
        "id": "__96lDlmMpZ4"
      },
      "source": [
        "### Немного изменим представление категориальных данных"
      ]
    },
    {
      "cell_type": "markdown",
      "metadata": {
        "id": "byDkoh3cMpZ4"
      },
      "source": [
        "У нас есть несколько колонок, которые являются категориальными данными. Для линейной регрессии это не очень хорошо, потому сделаем следующим образом: для каждой категории заведём отдельную колонку и выставим в ней True, если у текущей колонки именно эта категория.\n",
        "\n",
        "Таким образом будет легко поступить с payment_type, т.к. там всего 6 различных вариантов. Так сделаем для остальных фичей: VendorID, RatecodeID, store_and_fwd_flag. \n",
        "\n",
        "Для колонок PULocationID и DOLocationID так не пойдёт, потому что там значения от 1 до 263, что очень сильно нагрузит систему. Можно было бы распределить только по районам города: Manhattan, Staten Island, Brooklyn, Queens, Bronx и EWR(Newark Airport).\n",
        "\n",
        "Также можем удалить время начала и конца поездок, т.к. уже некоторую информацию из них мы вынесли, а модели формат datetime не воспринимают. Также сейчас удалим trip_duration. trip_duration_secs удалим чуть позже, когда получим ответы для train- и test-выборок."
      ]
    },
    {
      "cell_type": "code",
      "metadata": {
        "id": "_WdwayQcMpZ4"
      },
      "source": [
        "drop_columns = ['tpep_pickup_datetime', 'tpep_dropoff_datetime', 'trip_duration']\n",
        "trips19 = trips19.drop(columns=drop_columns)\n",
        "trips20 = trips20.drop(columns=drop_columns)"
      ],
      "execution_count": 27,
      "outputs": []
    },
    {
      "cell_type": "code",
      "metadata": {
        "id": "dVse1WdhMpZ4"
      },
      "source": [
        "columns = ['VendorID', 'RatecodeID', 'store_and_fwd_flag', 'payment_type']\n",
        "for column in columns:\n",
        "    for val in set(trips19[column].values):\n",
        "        trips19[column + str(val)] = trips19[column] == val\n",
        "    for val in set(trips20[column].values):\n",
        "        trips20[column + str(val)] = trips20[column] == val\n",
        "    trips19 = trips19.drop(columns=column)\n",
        "    trips20 = trips20.drop(columns=column)"
      ],
      "execution_count": 28,
      "outputs": []
    },
    {
      "cell_type": "code",
      "metadata": {
        "id": "sDU2HK7wMpZ4"
      },
      "source": [
        "boroughs = {\n",
        "    'EWR': [1],\n",
        "    'Manhattan': [4, 12, 13, 24,  41, 42, 43,\n",
        "  45, 48,  50, 68, 74, 75, 79, 87, 88, 90, 100, 103, 103, 103, 107, 113, 114,\n",
        "  116, 120, 125, 127, 128, 137, 140, 141, 142, 143, 144, 148, 151, 152, 153,\n",
        "  158, 161, 162, 163, 164, 166, 170, 186, 194, 202, 209, 211, 224, 229, 230, \n",
        "  231, 232, 233, 234, 236, 237, 238, 239, 243, 244, 246, 249, 261, 262, 263],\n",
        "    'Brooklyn': [11, 14, 17, 21, 22, 25, 26, 29, 33, 34, 35, \n",
        "  36, 37, 39, 40, 49, 52, 54, 55, 61, 62, 63, 65, 66, 67, 71, 72, 76, 77, 80,\n",
        "  85, 89, 91, 97, 106, 108, 111, 112, 123, 133, 149, 150, 154, 155, 165, 177, \n",
        "  178, 181, 188, 189, 190, 195, 210, 217, 222, 225, 227, 228, 255, 256, 257],\n",
        "    'Bronx': [3, 18, 20, 31, 32, 46, 47, 51, 58, 59, 60, 69, \n",
        "  78, 81, 94, 119, 126, 136, 147, 159, 167, 168, 169, 174, 182, 183, 184, 185, \n",
        "  199, 200, 208, 212, 213, 220, 235, 240, 241, 242, 247, 248, 250, 254, 259],\n",
        "    'Queens': [2, 7, 8, 9, \n",
        "  10, 15, 16, 19, 27, 28, 30, 38, 53, 56, 56, 64, 70, 73, 82, 83, 86, 92, 93,\n",
        "  95, 96, 98, 101, 102, 117, 121, 122, 124, 129, 130, 131, 132, 134, 135, 138,\n",
        "  139, 145, 146, 157, 160, 171, 173, 175, 179, 180, 191, 192, 193, 196, 197, \n",
        "  198, 201, 203, 205, 207, 215, 216, 218, 219, 223, 226, 252, 253, 258, 260],\n",
        " '    Staten Island': [5, 6, 23, 44,\n",
        "  84, 99, 109, 110, 115, 118, 156, 172, 176, 187, 204, 206, 214, 221, 245, 251]\n",
        "}"
      ],
      "execution_count": 29,
      "outputs": []
    },
    {
      "cell_type": "code",
      "metadata": {
        "id": "XMHKJEhkuph_"
      },
      "source": [
        "columns = [('PULocationID', 'PU'), ('DOLocationID', 'DO')]\n",
        "for column, abr in columns:\n",
        "    for brg in boroughs:\n",
        "        ids = boroughs[brg]\n",
        "        trips19[brg + abr] = [True if x in ids else False for x in trips19[column]]\n",
        "        trips20[brg + abr] = [True if x in ids else False for x in trips20[column]]\n",
        "    trips19 = trips19.drop(columns=column)\n",
        "    trips20 = trips20.drop(columns=column)"
      ],
      "execution_count": 30,
      "outputs": []
    },
    {
      "cell_type": "markdown",
      "metadata": {
        "id": "LJPUJrnoMpZ4"
      },
      "source": [
        "\n",
        "### Линейная регрессия"
      ]
    },
    {
      "cell_type": "markdown",
      "metadata": {
        "id": "hydg45H7MpZ4"
      },
      "source": [
        "Чётких правил по выбору размеров train- и test-выборок нет. Рекомендуется брать в каком-то из соотношений 90/10, 80/20, 70/30. По принципу Парето возьмём 80/20.\n",
        "\n",
        "Гораздо большим значением обладает размер самой выборки. Проверим их."
      ]
    },
    {
      "cell_type": "code",
      "metadata": {
        "id": "zkOXfQyPMpZ4",
        "colab": {
          "base_uri": "https://localhost:8080/"
        },
        "outputId": "1ee0c566-df90-49ab-be83-3f74493ab7b2"
      },
      "source": [
        "print(trips19.shape, trips20.shape)"
      ],
      "execution_count": 31,
      "outputs": [
        {
          "output_type": "stream",
          "text": [
            "(7336825, 44) (330471, 44)\n"
          ],
          "name": "stdout"
        }
      ]
    },
    {
      "cell_type": "markdown",
      "metadata": {
        "id": "kM-4F0VVMpZ4"
      },
      "source": [
        "Имеем размеры в $7.3 \\cdot 10^6$ и $3.3 \\cdot 10^5$.\n",
        "Это выборки с довольно большим и средним размером соответственно. Потому искусственно повышать размер train-выборки из-за недостаточности данных необходимости нет."
      ]
    },
    {
      "cell_type": "markdown",
      "metadata": {
        "id": "afg-7Yy9MpZ4"
      },
      "source": [
        "Чтобы не нагружать оперативную память пообучаем по очереди, но модели оставим."
      ]
    },
    {
      "cell_type": "code",
      "metadata": {
        "id": "ALnFhoBEMpZ4"
      },
      "source": [
        "def get_tr_ts(trips) -> tuple:\n",
        "    train, test = train_test_split(trips, test_size=0.2)\n",
        "\n",
        "    tr_ans = train['trip_duration_secs']\n",
        "    tr_ans = np.array(tr_ans.values.tolist()).astype(float)\n",
        "\n",
        "    train = train.drop(columns=['trip_duration_secs'])\n",
        "    train = np.array(train.values.tolist()).astype(float)\n",
        "\n",
        "    ts_ans = test['trip_duration_secs']\n",
        "    ts_ans = np.array(ts_ans.values.tolist()).astype(float)\n",
        "\n",
        "    test = test.drop(columns=['trip_duration_secs'])\n",
        "    test = np.array(test.values.tolist()).astype(float)\n",
        "    \n",
        "    return train, test, tr_ans, ts_ans"
      ],
      "execution_count": 32,
      "outputs": []
    },
    {
      "cell_type": "code",
      "metadata": {
        "id": "DEN5hUk9MpZ4"
      },
      "source": [
        "train, test, tr_ans, ts_ans = get_tr_ts(trips19)"
      ],
      "execution_count": 33,
      "outputs": []
    },
    {
      "cell_type": "markdown",
      "metadata": {
        "id": "pCvJ4HPIMpZ4"
      },
      "source": [
        "Для начала попробуем обучить линейную регрессию без параметров."
      ]
    },
    {
      "cell_type": "code",
      "metadata": {
        "id": "SOekl69XMpZ4"
      },
      "source": [
        "reg = LinearRegression().fit(train, tr_ans)"
      ],
      "execution_count": 34,
      "outputs": []
    },
    {
      "cell_type": "markdown",
      "metadata": {
        "id": "L9_yoXj9MpZ4"
      },
      "source": [
        "Посмотрим, как регрессия умеет предсказывать данные для train-выборки."
      ]
    },
    {
      "cell_type": "code",
      "metadata": {
        "id": "ua1uy0DcMpZ4"
      },
      "source": [
        "predicted = reg.predict(train)"
      ],
      "execution_count": 35,
      "outputs": []
    },
    {
      "cell_type": "markdown",
      "metadata": {
        "id": "ATPayVCIMpZ4"
      },
      "source": [
        "Построим график отклонений предсказания от ответа:"
      ]
    },
    {
      "cell_type": "code",
      "metadata": {
        "id": "fyUNIZApMpZ4",
        "colab": {
          "base_uri": "https://localhost:8080/",
          "height": 0
        },
        "outputId": "80625beb-d834-4c74-8b84-d76c75b0e378"
      },
      "source": [
        "sns.displot(predicted - tr_ans)\n",
        "plt.xlim(-2000, 2000)"
      ],
      "execution_count": 36,
      "outputs": [
        {
          "output_type": "execute_result",
          "data": {
            "text/plain": [
              "(-2000.0, 2000.0)"
            ]
          },
          "metadata": {
            "tags": []
          },
          "execution_count": 36
        },
        {
          "output_type": "display_data",
          "data": {
            "image/png": "[encoded data removed]",
            "text/plain": [
              "<Figure size 450x450 with 1 Axes>"
            ]
          },
          "metadata": {
            "tags": [],
            "needs_background": "light"
          }
        }
      ]
    },
    {
      "cell_type": "code",
      "metadata": {
        "id": "2RVD9N6JMpZ4",
        "colab": {
          "base_uri": "https://localhost:8080/"
        },
        "outputId": "a95f5d8d-5828-4034-df8c-447ffd026760"
      },
      "source": [
        "np.mean(np.abs(predicted - tr_ans))"
      ],
      "execution_count": 37,
      "outputs": [
        {
          "output_type": "execute_result",
          "data": {
            "text/plain": [
              "140.21821575864328"
            ]
          },
          "metadata": {
            "tags": []
          },
          "execution_count": 37
        }
      ]
    },
    {
      "cell_type": "markdown",
      "metadata": {
        "id": "XdsBzEW_MpZ5"
      },
      "source": [
        "Среднее значение отклонение около 2.5 минуты. Учитывая, что средняя поездка около 15 минут, это и правда много, однако для самоощущения 2.5 минуты - не такой большой промежуток. Но это же средняя ошибка. На графике видно, что в обе стороны есть отклонения, причём немного больше в отрицательную: пользователю будет не очень приятно понять, что ехать на 10 минут дольше."
      ]
    },
    {
      "cell_type": "code",
      "metadata": {
        "id": "NHKeAprbMpZ5",
        "colab": {
          "base_uri": "https://localhost:8080/",
          "height": 0
        },
        "outputId": "74924481-d387-494d-fcd5-5e30670aa8b7"
      },
      "source": [
        "plt.figure(figsize=(13, 13))\n",
        "plt.hist(tr_ans, bins=np.linspace(-500, 4000, 300))\n",
        "plt.hist(predicted, bins=np.linspace(-500, 4000, 300))\n",
        "plt.xlim(-500, 4000)\n",
        "pass"
      ],
      "execution_count": 38,
      "outputs": [
        {
          "output_type": "display_data",
          "data": {
            "image/png": "[encoded data removed]",
            "text/plain": [
              "<Figure size 1170x1170 with 1 Axes>"
            ]
          },
          "metadata": {
            "tags": [],
            "needs_background": "light"
          }
        }
      ]
    },
    {
      "cell_type": "markdown",
      "metadata": {
        "id": "rsv0w76vMpZ5"
      },
      "source": [
        "Посмотрим на MSE:\n",
        "$$\n",
        "MSE = \\dfrac{1}{N}\\sum\\limits_{i = 1}^{n} (y_i - \\hat{y}_i)^2\n",
        "$$"
      ]
    },
    {
      "cell_type": "code",
      "metadata": {
        "id": "huEkfKR7MpZ5",
        "colab": {
          "base_uri": "https://localhost:8080/"
        },
        "outputId": "fd885ab8-e46d-409c-e13c-3cf85bc8ea23"
      },
      "source": [
        "mean_squared_error(tr_ans, predicted)"
      ],
      "execution_count": 39,
      "outputs": [
        {
          "output_type": "execute_result",
          "data": {
            "text/plain": [
              "64780.771389921356"
            ]
          },
          "metadata": {
            "tags": []
          },
          "execution_count": 39
        }
      ]
    },
    {
      "cell_type": "markdown",
      "metadata": {
        "id": "Ugp6EMAhMpZ5"
      },
      "source": [
        "Видим большое значение. Будем использовать его как отправную точку для оценки качества последующих моделей, т.к. тут мы знаем, что это не самый приемлемый результат. И очевидно можем сказать, что модель не переучилась."
      ]
    },
    {
      "cell_type": "markdown",
      "metadata": {
        "id": "2hjpGcRhMpZ5"
      },
      "source": [
        "Посмотрим, как наша модель предскажет значения для тестовой выборки:"
      ]
    },
    {
      "cell_type": "code",
      "metadata": {
        "id": "U9hJfqrHMpZ5"
      },
      "source": [
        "predicted = reg.predict(test)"
      ],
      "execution_count": 40,
      "outputs": []
    },
    {
      "cell_type": "markdown",
      "metadata": {
        "id": "15C3PhfpMpZ5"
      },
      "source": [
        "Построим аналогичные оценки."
      ]
    },
    {
      "cell_type": "code",
      "metadata": {
        "id": "PQgtdz_tMpZ5",
        "colab": {
          "base_uri": "https://localhost:8080/",
          "height": 0
        },
        "outputId": "ae1e1330-fdb0-40ab-9153-b112e4c4215e"
      },
      "source": [
        "sns.displot(predicted - ts_ans)\n",
        "plt.xlim(-2000, 2000)"
      ],
      "execution_count": 41,
      "outputs": [
        {
          "output_type": "execute_result",
          "data": {
            "text/plain": [
              "(-2000.0, 2000.0)"
            ]
          },
          "metadata": {
            "tags": []
          },
          "execution_count": 41
        },
        {
          "output_type": "display_data",
          "data": {
            "image/png": "[encoded data removed]",
            "text/plain": [
              "<Figure size 450x450 with 1 Axes>"
            ]
          },
          "metadata": {
            "tags": [],
            "needs_background": "light"
          }
        }
      ]
    },
    {
      "cell_type": "code",
      "metadata": {
        "id": "Ur3baTTiMpZ6",
        "colab": {
          "base_uri": "https://localhost:8080/"
        },
        "outputId": "74600dc6-17b8-4326-96be-5c17a2e358d3"
      },
      "source": [
        "np.mean(np.abs(predicted - ts_ans))"
      ],
      "execution_count": 42,
      "outputs": [
        {
          "output_type": "execute_result",
          "data": {
            "text/plain": [
              "140.4259742059412"
            ]
          },
          "metadata": {
            "tags": []
          },
          "execution_count": 42
        }
      ]
    },
    {
      "cell_type": "code",
      "metadata": {
        "id": "CKNR-RilMpZ6",
        "colab": {
          "base_uri": "https://localhost:8080/",
          "height": 0
        },
        "outputId": "2d5117f1-c26d-4785-d232-215befbc65ac"
      },
      "source": [
        "plt.figure(figsize=(13, 13))\n",
        "plt.hist(ts_ans, bins=np.linspace(-500, 4000, 300))\n",
        "plt.hist(predicted, bins=np.linspace(-500, 4000, 300))\n",
        "plt.xlim(-500, 4000)\n",
        "pass"
      ],
      "execution_count": 43,
      "outputs": [
        {
          "output_type": "display_data",
          "data": {
            "image/png": "[encoded data removed]",
            "text/plain": [
              "<Figure size 1170x1170 with 1 Axes>"
            ]
          },
          "metadata": {
            "tags": [],
            "needs_background": "light"
          }
        }
      ]
    },
    {
      "cell_type": "code",
      "metadata": {
        "id": "TtJWiT_PMpZ6",
        "colab": {
          "base_uri": "https://localhost:8080/"
        },
        "outputId": "a392e523-5f42-49b9-ba5e-f91ad4fa809a"
      },
      "source": [
        "mean_squared_error(ts_ans, predicted)"
      ],
      "execution_count": 44,
      "outputs": [
        {
          "output_type": "execute_result",
          "data": {
            "text/plain": [
              "62113.89399277596"
            ]
          },
          "metadata": {
            "tags": []
          },
          "execution_count": 44
        }
      ]
    },
    {
      "cell_type": "markdown",
      "metadata": {
        "id": "3r0s-Mm7MpZ6"
      },
      "source": [
        "Ситуация почти аналогичная."
      ]
    },
    {
      "cell_type": "markdown",
      "metadata": {
        "id": "vqSW712DMpZ6"
      },
      "source": [
        "Посмотрим на коэффициенты фичей: возможно сможем от каких-то отказаться."
      ]
    },
    {
      "cell_type": "code",
      "metadata": {
        "id": "YMrAJYnNMpZ6",
        "colab": {
          "base_uri": "https://localhost:8080/"
        },
        "outputId": "1ef892fc-1392-4a05-8d00-57e52add01be"
      },
      "source": [
        "reg.coef_"
      ],
      "execution_count": 45,
      "outputs": [
        {
          "output_type": "execute_result",
          "data": {
            "text/plain": [
              "array([ 1.07043189e+00,  7.13990021e-02, -1.53331968e+01, -3.43720295e+00,\n",
              "       -5.60528282e+02, -5.23868177e+01, -7.47081015e+01, -1.84222341e+03,\n",
              "        5.91749199e+01, -3.34070790e+01,  5.02911031e-01,  9.76497480e-01,\n",
              "       -5.05751236e+00,  3.22503101e+00, -1.21306930e+02, -3.60129658e+00,\n",
              "        1.70431021e+00, -1.70431021e+00,  6.72124278e+02,  6.43253498e+01,\n",
              "       -3.97375111e+01, -4.43948147e+02, -4.26321254e+02,  4.74763799e+02,\n",
              "       -3.01206515e+02,  3.72463895e+00, -3.72463895e+00, -2.87402527e+01,\n",
              "       -9.02853798e+00,  2.42411260e+01,  1.35276647e+01, -3.59673771e+02,\n",
              "        2.57521497e+01,  9.83011839e+01,  1.48178586e+02, -2.01858076e+01,\n",
              "        3.76269849e+01, -1.03926455e+03, -2.30567231e+01, -6.98152077e+01,\n",
              "       -1.85649418e+02,  3.93136873e+00, -1.07851391e+03])"
            ]
          },
          "metadata": {
            "tags": []
          },
          "execution_count": 45
        }
      ]
    },
    {
      "cell_type": "markdown",
      "metadata": {
        "id": "W8PBWHRPMpZ6"
      },
      "source": [
        "Как видим, нет каких-то фичей с очень маленьким порядком коэффициентов, потому ничего выбросить не сможем."
      ]
    },
    {
      "cell_type": "markdown",
      "metadata": {
        "id": "5YX4Mwm_MpZ6"
      },
      "source": [
        "Проверим для 20ого года."
      ]
    },
    {
      "cell_type": "code",
      "metadata": {
        "id": "z6HZcXSrMpZ6"
      },
      "source": [
        "train, test, tr_ans, ts_ans = get_tr_ts(trips20)"
      ],
      "execution_count": 46,
      "outputs": []
    },
    {
      "cell_type": "code",
      "metadata": {
        "id": "HNEJcee-MpZ6"
      },
      "source": [
        "reg.fit(train, tr_ans)\n",
        "pass"
      ],
      "execution_count": 47,
      "outputs": []
    },
    {
      "cell_type": "code",
      "metadata": {
        "id": "3vXay4tlMpZ6"
      },
      "source": [
        "predicted = reg.predict(train)"
      ],
      "execution_count": 49,
      "outputs": []
    },
    {
      "cell_type": "code",
      "metadata": {
        "id": "axawesoEMpZ6",
        "colab": {
          "base_uri": "https://localhost:8080/",
          "height": 0
        },
        "outputId": "f89579d3-b015-4b38-baab-1412183baf44"
      },
      "source": [
        "sns.displot(predicted - tr_ans)\n",
        "plt.xlim(-2000, 2000)"
      ],
      "execution_count": 52,
      "outputs": [
        {
          "output_type": "execute_result",
          "data": {
            "text/plain": [
              "(-2000.0, 2000.0)"
            ]
          },
          "metadata": {
            "tags": []
          },
          "execution_count": 52
        },
        {
          "output_type": "display_data",
          "data": {
            "image/png": "[encoded data removed]",
            "text/plain": [
              "<Figure size 450x450 with 1 Axes>"
            ]
          },
          "metadata": {
            "tags": [],
            "needs_background": "light"
          }
        }
      ]
    },
    {
      "cell_type": "code",
      "metadata": {
        "id": "YsqdTJyCMpZ6",
        "colab": {
          "base_uri": "https://localhost:8080/"
        },
        "outputId": "09c9aa4d-776d-4c80-a908-7f0b564709a4"
      },
      "source": [
        "np.mean(np.abs(predicted - tr_ans))"
      ],
      "execution_count": 53,
      "outputs": [
        {
          "output_type": "execute_result",
          "data": {
            "text/plain": [
              "126.61652561267086"
            ]
          },
          "metadata": {
            "tags": []
          },
          "execution_count": 53
        }
      ]
    },
    {
      "cell_type": "code",
      "metadata": {
        "colab": {
          "base_uri": "https://localhost:8080/",
          "height": 0
        },
        "id": "7byf95wSlnqj",
        "outputId": "c43edcdf-735c-4642-d308-12417418ae20"
      },
      "source": [
        "plt.figure(figsize=(13, 13))\n",
        "plt.hist(tr_ans, bins=np.linspace(-500, 4000, 300))\n",
        "plt.hist(predicted, bins=np.linspace(-500, 4000, 300))\n",
        "plt.xlim(-500, 4000)\n",
        "pass"
      ],
      "execution_count": 58,
      "outputs": [
        {
          "output_type": "display_data",
          "data": {
            "image/png": "[encoded data removed]",
            "text/plain": [
              "<Figure size 1170x1170 with 1 Axes>"
            ]
          },
          "metadata": {
            "tags": [],
            "needs_background": "light"
          }
        }
      ]
    },
    {
      "cell_type": "code",
      "metadata": {
        "colab": {
          "base_uri": "https://localhost:8080/"
        },
        "id": "wjNLyXiklnxO",
        "outputId": "abf760c0-18ec-412e-b686-0a0221c31e69"
      },
      "source": [
        "mean_squared_error(tr_ans, predicted)"
      ],
      "execution_count": 60,
      "outputs": [
        {
          "output_type": "execute_result",
          "data": {
            "text/plain": [
              "56704.07530405755"
            ]
          },
          "metadata": {
            "tags": []
          },
          "execution_count": 60
        }
      ]
    },
    {
      "cell_type": "markdown",
      "metadata": {
        "id": "fBMmlV58mWD-"
      },
      "source": [
        "В 20м году получили результаты немного лучше(хотя и совсем чуть-чуть). Причиной может быть бóльшая однородность данных(отсутствие большого количества явных выбросов, в то время как в 19м году мы наблюдали, например, много коротких поездок)."
      ]
    },
    {
      "cell_type": "markdown",
      "metadata": {
        "id": "FMA-bHqj3_F-"
      },
      "source": [
        "И глазком попробуем на тестовой выборке."
      ]
    },
    {
      "cell_type": "code",
      "metadata": {
        "id": "Lz_sdY8f4DU0"
      },
      "source": [
        "predicted = reg.predict(test)"
      ],
      "execution_count": 69,
      "outputs": []
    },
    {
      "cell_type": "code",
      "metadata": {
        "colab": {
          "base_uri": "https://localhost:8080/",
          "height": 0
        },
        "id": "N2NiJHBe4DYh",
        "outputId": "a38a189b-d128-45a8-c2a8-4f69e44a1a78"
      },
      "source": [
        "sns.displot(predicted - ts_ans)\n",
        "plt.xlim(-2000, 2000)"
      ],
      "execution_count": 70,
      "outputs": [
        {
          "output_type": "execute_result",
          "data": {
            "text/plain": [
              "(-2000.0, 2000.0)"
            ]
          },
          "metadata": {
            "tags": []
          },
          "execution_count": 70
        },
        {
          "output_type": "display_data",
          "data": {
            "image/png": "[encoded data removed]",
            "text/plain": [
              "<Figure size 450x450 with 1 Axes>"
            ]
          },
          "metadata": {
            "tags": []
          }
        }
      ]
    },
    {
      "cell_type": "code",
      "metadata": {
        "colab": {
          "base_uri": "https://localhost:8080/",
          "height": 0
        },
        "id": "scM-X5n24Dh9",
        "outputId": "a501ed5d-f15b-4fd4-a31e-0f9267e7c7c7"
      },
      "source": [
        "plt.figure(figsize=(13, 13))\n",
        "plt.hist(ts_ans, bins=np.linspace(-500, 4000, 300))\n",
        "plt.hist(predicted, bins=np.linspace(-500, 4000, 300))\n",
        "plt.xlim(-500, 4000)\n",
        "pass"
      ],
      "execution_count": 71,
      "outputs": [
        {
          "output_type": "display_data",
          "data": {
            "image/png": "[encoded data removed]",
            "text/plain": [
              "<Figure size 1170x1170 with 1 Axes>"
            ]
          },
          "metadata": {
            "tags": []
          }
        }
      ]
    },
    {
      "cell_type": "code",
      "metadata": {
        "colab": {
          "base_uri": "https://localhost:8080/"
        },
        "id": "sRePHLl-4DnK",
        "outputId": "8f8100d2-a64c-47c2-8aeb-d6efcef72caf"
      },
      "source": [
        "mean_squared_error(ts_ans, predicted)"
      ],
      "execution_count": 72,
      "outputs": [
        {
          "output_type": "execute_result",
          "data": {
            "text/plain": [
              "135516.21927348047"
            ]
          },
          "metadata": {
            "tags": []
          },
          "execution_count": 72
        }
      ]
    },
    {
      "cell_type": "markdown",
      "metadata": {
        "id": "lZOb61U641QL"
      },
      "source": [
        "Тут всё сломалось: огромное отклонение в обратную сторону, большое значение mse.\n"
      ]
    },
    {
      "cell_type": "markdown",
      "metadata": {
        "id": "FfZJf5FonXbI"
      },
      "source": [
        "### Попробуем обработать данные перед обучением"
      ]
    },
    {
      "cell_type": "markdown",
      "metadata": {
        "id": "WrYme44po5eV"
      },
      "source": [
        "Попробуем Standard, MinMax и MaxAbs."
      ]
    },
    {
      "cell_type": "code",
      "metadata": {
        "id": "vrNzXs8j5url"
      },
      "source": [
        "scallers = [StandardScaler(), MinMaxScaler(), MaxAbsScaler()]\n",
        "regressions = [LinearRegression(), LinearRegression(), LinearRegression()]"
      ],
      "execution_count": 76,
      "outputs": []
    },
    {
      "cell_type": "code",
      "metadata": {
        "id": "CfRAVlohln6j"
      },
      "source": [
        "train, test, tr_ans, ts_ans = get_tr_ts(trips19)"
      ],
      "execution_count": null,
      "outputs": []
    },
    {
      "cell_type": "code",
      "metadata": {
        "id": "kB-xFgxNln_U"
      },
      "source": [
        "trains = []\n",
        "test = []\n",
        "for scaller in scallers:\n",
        "    scaller.fit(train)\n",
        "    trains.append(scaller.transform(train))\n",
        "    scaller.fit(test)\n",
        "    tests.append(scaller.transform(test))"
      ],
      "execution_count": null,
      "outputs": []
    },
    {
      "cell_type": "code",
      "metadata": {
        "id": "_oNxYY4Z2lso"
      },
      "source": [
        "reg.fit(train, tr_ans)\n",
        "pass\n",
        "predicted = reg.predict(train)\n",
        "sns.displot(predicted - tr_ans)\n",
        "plt.xlim(-2000, 2000)\n",
        "plt.figure(figsize=(13, 13))\n",
        "plt.hist(tr_ans, bins=np.linspace(-500, 4000, 300))\n",
        "plt.hist(predicted, bins=np.linspace(-500, 4000, 300))\n",
        "plt.xlim(-500, 4000)\n",
        "pass\n",
        "mean_squared_error(tr_ans, predicted)"
      ],
      "execution_count": 68,
      "outputs": []
    },
    {
      "cell_type": "code",
      "metadata": {
        "id": "c7-cCcfn2l3o"
      },
      "source": [
        ""
      ],
      "execution_count": null,
      "outputs": []
    },
    {
      "cell_type": "code",
      "metadata": {
        "id": "axHQNfrj2l8p"
      },
      "source": [
        ""
      ],
      "execution_count": null,
      "outputs": []
    },
    {
      "cell_type": "code",
      "metadata": {
        "id": "yq8b983Y2mAy"
      },
      "source": [
        ""
      ],
      "execution_count": null,
      "outputs": []
    },
    {
      "cell_type": "code",
      "metadata": {
        "id": "JSyXopSw2mFs"
      },
      "source": [
        ""
      ],
      "execution_count": null,
      "outputs": []
    },
    {
      "cell_type": "code",
      "metadata": {
        "id": "nwD13Vpm2mKj"
      },
      "source": [
        ""
      ],
      "execution_count": null,
      "outputs": []
    },
    {
      "cell_type": "code",
      "metadata": {
        "id": "D9MMBGp62mO8"
      },
      "source": [
        ""
      ],
      "execution_count": null,
      "outputs": []
    },
    {
      "cell_type": "markdown",
      "metadata": {
        "id": "8QDT8ROkMpZ6"
      },
      "source": [
        "# Параметры."
      ]
    },
    {
      "cell_type": "code",
      "metadata": {
        "id": "ftZfO_i5MpZ6"
      },
      "source": [
        ""
      ],
      "execution_count": null,
      "outputs": []
    },
    {
      "cell_type": "code",
      "metadata": {
        "id": "M1ae0rldMpZ7"
      },
      "source": [
        ""
      ],
      "execution_count": null,
      "outputs": []
    },
    {
      "cell_type": "code",
      "metadata": {
        "id": "OZN4s8A5MpZ7"
      },
      "source": [
        ""
      ],
      "execution_count": null,
      "outputs": []
    },
    {
      "cell_type": "code",
      "metadata": {
        "id": "WxOuo6P7MpZ7"
      },
      "source": [
        ""
      ],
      "execution_count": null,
      "outputs": []
    },
    {
      "cell_type": "code",
      "metadata": {
        "id": "pmXTiyOyMpZ7"
      },
      "source": [
        ""
      ],
      "execution_count": null,
      "outputs": []
    },
    {
      "cell_type": "code",
      "metadata": {
        "id": "rnaz1BOgMpZ7"
      },
      "source": [
        ""
      ],
      "execution_count": null,
      "outputs": []
    }
  ]
}