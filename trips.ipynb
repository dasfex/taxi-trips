{
 "cells": [
  {
   "cell_type": "code",
   "execution_count": 38,
   "metadata": {},
   "outputs": [],
   "source": [
    "import pandas as pd\n",
    "from datetime import datetime\n",
    "import matplotlib.pyplot as plt\n",
    "import seaborn as sns\n",
    "import folium"
   ]
  },
  {
   "cell_type": "code",
   "execution_count": 6,
   "metadata": {},
   "outputs": [],
   "source": [
    "sns.set_theme()"
   ]
  },
  {
   "cell_type": "code",
   "execution_count": 7,
   "metadata": {},
   "outputs": [
    {
     "name": "stderr",
     "output_type": "stream",
     "text": [
      "/home/khodor/.local/lib/python3.6/site-packages/IPython/core/interactiveshell.py:3063: DtypeWarning: Columns (6) have mixed types. Specify dtype option on import or set low_memory=False.\n",
      "  interactivity=interactivity, compiler=compiler, result=result)\n"
     ]
    }
   ],
   "source": [
    "trips19 = pd.read_csv('tripdata_2019-05.csv')\n",
    "trips20 = pd.read_csv('tripdata_2020-05.csv')"
   ]
  },
  {
   "cell_type": "markdown",
   "metadata": {},
   "source": [
    "Посмотрим, какие пропущенные значения есть в данных."
   ]
  },
  {
   "cell_type": "code",
   "execution_count": 8,
   "metadata": {},
   "outputs": [
    {
     "name": "stdout",
     "output_type": "stream",
     "text": [
      "VendorID 0\n",
      "tpep_pickup_datetime 0\n",
      "tpep_dropoff_datetime 0\n",
      "passenger_count 0\n",
      "trip_distance 0\n",
      "RatecodeID 0\n",
      "store_and_fwd_flag 0\n",
      "PULocationID 0\n",
      "DOLocationID 0\n",
      "payment_type 0\n",
      "fare_amount 0\n",
      "extra 0\n",
      "mta_tax 0\n",
      "tip_amount 0\n",
      "tolls_amount 0\n",
      "improvement_surcharge 0\n",
      "total_amount 0\n",
      "congestion_surcharge 0\n"
     ]
    }
   ],
   "source": [
    "for el in trips19.columns:\n",
    "    print(el, trips19[el].isna().sum())"
   ]
  },
  {
   "cell_type": "code",
   "execution_count": 9,
   "metadata": {},
   "outputs": [
    {
     "name": "stdout",
     "output_type": "stream",
     "text": [
      "VendorID 58891\n",
      "tpep_pickup_datetime 0\n",
      "tpep_dropoff_datetime 0\n",
      "passenger_count 58891\n",
      "trip_distance 0\n",
      "RatecodeID 58891\n",
      "store_and_fwd_flag 58891\n",
      "PULocationID 0\n",
      "DOLocationID 0\n",
      "payment_type 58891\n",
      "fare_amount 0\n",
      "extra 0\n",
      "mta_tax 0\n",
      "tip_amount 0\n",
      "tolls_amount 0\n",
      "improvement_surcharge 0\n",
      "total_amount 0\n",
      "congestion_surcharge 0\n"
     ]
    }
   ],
   "source": [
    "for el in trips20.columns:\n",
    "    print(el, trips20[el].isna().sum())"
   ]
  },
  {
   "cell_type": "markdown",
   "metadata": {},
   "source": [
    "На данный момент из пропущенных данных для нас интерес может представлять только колонка о количестве пассажиров.\n",
    "\n",
    "Посмотрим на самое частое значение и заменим на него все пропущенные значения."
   ]
  },
  {
   "cell_type": "code",
   "execution_count": 10,
   "metadata": {},
   "outputs": [
    {
     "name": "stdout",
     "output_type": "stream",
     "text": [
      "Max passengers count =  1.0\n"
     ]
    }
   ],
   "source": [
    "max_passengers_count = trips20['passenger_count'].value_counts().idxmax()\n",
    "print(\"Max passengers count = \", max_passengers_count)\n",
    "trips20.passenger_count = trips20.passenger_count.fillna(max_passengers_count)"
   ]
  },
  {
   "cell_type": "markdown",
   "metadata": {},
   "source": [
    "Посмотрим на количество колонок, в которых встречаются данные со значением Nan."
   ]
  },
  {
   "cell_type": "markdown",
   "metadata": {},
   "source": [
    "Преобразуем формат ячеек с временем для удобства."
   ]
  },
  {
   "cell_type": "code",
   "execution_count": 11,
   "metadata": {},
   "outputs": [],
   "source": [
    "trips19['tpep_pickup_datetime'] = pd.to_datetime(trips19.tpep_pickup_datetime)\n",
    "trips19['tpep_dropoff_datetime'] = pd.to_datetime(trips19.tpep_dropoff_datetime)\n",
    "\n",
    "trips20['tpep_pickup_datetime'] = pd.to_datetime(trips20.tpep_pickup_datetime)\n",
    "trips20['tpep_dropoff_datetime'] = pd.to_datetime(trips20.tpep_dropoff_datetime)"
   ]
  },
  {
   "cell_type": "markdown",
   "metadata": {},
   "source": [
    "Удалим данные, в которых начало во времени находится после конца."
   ]
  },
  {
   "cell_type": "code",
   "execution_count": 12,
   "metadata": {},
   "outputs": [],
   "source": [
    "trips19 = trips19[trips19.tpep_pickup_datetime <= trips19.tpep_dropoff_datetime]\n",
    "trips20 = trips20[trips20.tpep_pickup_datetime <= trips20.tpep_dropoff_datetime]"
   ]
  },
  {
   "cell_type": "markdown",
   "metadata": {},
   "source": [
    "Введём новые колонки: \n",
    "\n",
    "1. с датой начала поездки; \n",
    "\n",
    "2. с часом начала и конца;\n",
    "\n",
    "3. с днём недели начала поездки; \n",
    "\n",
    "4. с временем продолжительности поездки(день конца поездки игнорируем, т.к. почти все поездки будут в промежутке одного дня);\n",
    "\n",
    "5. временем поездки в секундах;\n",
    "\n",
    "6. средней скоростью в м/с."
   ]
  },
  {
   "cell_type": "code",
   "execution_count": 13,
   "metadata": {},
   "outputs": [],
   "source": [
    "MILES_TO_KM = 1609.34\n",
    "\n",
    "trips19['trip_pickup_day'] = trips19.tpep_pickup_datetime.dt.day\n",
    "trips19['week_day'] = trips19.tpep_pickup_datetime.dt.dayofweek\n",
    "trips19['trip_pickup_hour'] = trips19.tpep_pickup_datetime.dt.hour\n",
    "trips19['trip_dropoff_hour'] = trips19.tpep_dropoff_datetime.dt.hour\n",
    "trips19['trip_duration'] = trips19.tpep_dropoff_datetime - trips19.tpep_pickup_datetime\n",
    "trips19['trip_duration_secs'] = trips19.trip_duration.dt.seconds\n",
    "trips19['average_velocity'] = (trips19['trip_distance'] * MILES_TO_KM) / trips19['trip_duration_secs']\n",
    "\n",
    "trips20['trip_pickup_day'] = trips20.tpep_pickup_datetime.dt.day\n",
    "trips20['week_day'] = trips20.tpep_pickup_datetime.dt.dayofweek\n",
    "trips20['trip_pickup_hour'] = trips20.tpep_pickup_datetime.dt.hour\n",
    "trips20['trip_dropoff_hour'] = trips20.tpep_dropoff_datetime.dt.hour\n",
    "trips20['trip_duration'] = trips20.tpep_dropoff_datetime - trips20.tpep_pickup_datetime\n",
    "trips20['trip_duration_secs'] = trips20.trip_duration.dt.seconds\n",
    "trips20['average_velocity'] = (trips20['trip_distance'] * MILES_TO_KM) / trips20['trip_duration_secs']"
   ]
  },
  {
   "cell_type": "markdown",
   "metadata": {},
   "source": [
    "Посмотрим, есть ли в данных нереальные случаи.\n",
    "\n",
    "Установим ограничение для средней скорости в 162 км/ч(45 м/с) сверху и 2(м/с) снизу, а также удалим строки, в которых преодолено нулевое расстояние за ненулевое время, при этом получена некоторая сумма за поездку.\n",
    "\n",
    "Так же удалим строки с отрицательной стоимостью поездки."
   ]
  },
  {
   "cell_type": "code",
   "execution_count": 14,
   "metadata": {},
   "outputs": [],
   "source": [
    "trips19 = trips19[trips19.average_velocity <= 45]\n",
    "trips19 = trips19[trips19.average_velocity > 2]\n",
    "trips19 = trips19.drop(trips19[(trips19.trip_distance == 0) & (trips19.total_amount > 0) & (trips19.trip_duration_secs > 0)].index)\n",
    "trips19 = trips19[trips19.total_amount >= 0]\n",
    "\n",
    "trips20 = trips20[trips20.average_velocity <= 45]\n",
    "trips20 = trips20[trips20.average_velocity > 2]\n",
    "trips20 = trips20.drop(trips20[(trips20.trip_distance == 0) & (trips20.total_amount > 0) & (trips20.trip_duration_secs > 0)].index)\n",
    "trips20 = trips20[trips20.total_amount >= 0]"
   ]
  },
  {
   "cell_type": "code",
   "execution_count": 27,
   "metadata": {},
   "outputs": [
    {
     "data": {
      "text/html": [
       "<div>\n",
       "<style scoped>\n",
       "    .dataframe tbody tr th:only-of-type {\n",
       "        vertical-align: middle;\n",
       "    }\n",
       "\n",
       "    .dataframe tbody tr th {\n",
       "        vertical-align: top;\n",
       "    }\n",
       "\n",
       "    .dataframe thead th {\n",
       "        text-align: right;\n",
       "    }\n",
       "</style>\n",
       "<table border=\"1\" class=\"dataframe\">\n",
       "  <thead>\n",
       "    <tr style=\"text-align: right;\">\n",
       "      <th></th>\n",
       "      <th>VendorID</th>\n",
       "      <th>passenger_count</th>\n",
       "      <th>trip_distance</th>\n",
       "      <th>RatecodeID</th>\n",
       "      <th>PULocationID</th>\n",
       "      <th>DOLocationID</th>\n",
       "      <th>payment_type</th>\n",
       "      <th>fare_amount</th>\n",
       "      <th>extra</th>\n",
       "      <th>mta_tax</th>\n",
       "      <th>...</th>\n",
       "      <th>improvement_surcharge</th>\n",
       "      <th>total_amount</th>\n",
       "      <th>congestion_surcharge</th>\n",
       "      <th>trip_pickup_day</th>\n",
       "      <th>week_day</th>\n",
       "      <th>trip_pickup_hour</th>\n",
       "      <th>trip_dropoff_hour</th>\n",
       "      <th>trip_duration</th>\n",
       "      <th>trip_duration_secs</th>\n",
       "      <th>average_velocity</th>\n",
       "    </tr>\n",
       "  </thead>\n",
       "  <tbody>\n",
       "    <tr>\n",
       "      <th>count</th>\n",
       "      <td>7.087834e+06</td>\n",
       "      <td>7.087834e+06</td>\n",
       "      <td>7.087834e+06</td>\n",
       "      <td>7.087834e+06</td>\n",
       "      <td>7.087834e+06</td>\n",
       "      <td>7.087834e+06</td>\n",
       "      <td>7.087834e+06</td>\n",
       "      <td>7.087834e+06</td>\n",
       "      <td>7.087834e+06</td>\n",
       "      <td>7.087834e+06</td>\n",
       "      <td>...</td>\n",
       "      <td>7.087834e+06</td>\n",
       "      <td>7.087834e+06</td>\n",
       "      <td>7.087834e+06</td>\n",
       "      <td>7.087834e+06</td>\n",
       "      <td>7.087834e+06</td>\n",
       "      <td>7.087834e+06</td>\n",
       "      <td>7.087834e+06</td>\n",
       "      <td>7087834</td>\n",
       "      <td>7.087834e+06</td>\n",
       "      <td>7.087834e+06</td>\n",
       "    </tr>\n",
       "    <tr>\n",
       "      <th>mean</th>\n",
       "      <td>1.642229e+00</td>\n",
       "      <td>1.573175e+00</td>\n",
       "      <td>3.164835e+00</td>\n",
       "      <td>1.044347e+00</td>\n",
       "      <td>1.631989e+02</td>\n",
       "      <td>1.613953e+02</td>\n",
       "      <td>1.277424e+00</td>\n",
       "      <td>1.347944e+01</td>\n",
       "      <td>1.190395e+00</td>\n",
       "      <td>4.981835e-01</td>\n",
       "      <td>...</td>\n",
       "      <td>2.999715e-01</td>\n",
       "      <td>1.962876e+01</td>\n",
       "      <td>2.298583e+00</td>\n",
       "      <td>1.543966e+01</td>\n",
       "      <td>3.013124e+00</td>\n",
       "      <td>1.398681e+01</td>\n",
       "      <td>1.402358e+01</td>\n",
       "      <td>0 days 00:14:58.455726</td>\n",
       "      <td>8.984557e+02</td>\n",
       "      <td>5.189487e+00</td>\n",
       "    </tr>\n",
       "    <tr>\n",
       "      <th>std</th>\n",
       "      <td>5.020127e-01</td>\n",
       "      <td>1.223310e+00</td>\n",
       "      <td>4.011718e+00</td>\n",
       "      <td>5.135127e-01</td>\n",
       "      <td>6.639744e+01</td>\n",
       "      <td>7.068064e+01</td>\n",
       "      <td>4.624262e-01</td>\n",
       "      <td>1.204027e+01</td>\n",
       "      <td>1.279358e+00</td>\n",
       "      <td>3.019000e-02</td>\n",
       "      <td>...</td>\n",
       "      <td>2.923152e-03</td>\n",
       "      <td>1.493016e+01</td>\n",
       "      <td>6.804088e-01</td>\n",
       "      <td>8.939889e+00</td>\n",
       "      <td>1.857198e+00</td>\n",
       "      <td>6.093660e+00</td>\n",
       "      <td>6.186673e+00</td>\n",
       "      <td>0 days 00:12:34.903679</td>\n",
       "      <td>7.549037e+02</td>\n",
       "      <td>2.703840e+00</td>\n",
       "    </tr>\n",
       "    <tr>\n",
       "      <th>min</th>\n",
       "      <td>1.000000e+00</td>\n",
       "      <td>0.000000e+00</td>\n",
       "      <td>1.000000e-02</td>\n",
       "      <td>1.000000e+00</td>\n",
       "      <td>1.000000e+00</td>\n",
       "      <td>1.000000e+00</td>\n",
       "      <td>1.000000e+00</td>\n",
       "      <td>0.000000e+00</td>\n",
       "      <td>0.000000e+00</td>\n",
       "      <td>0.000000e+00</td>\n",
       "      <td>...</td>\n",
       "      <td>0.000000e+00</td>\n",
       "      <td>0.000000e+00</td>\n",
       "      <td>0.000000e+00</td>\n",
       "      <td>1.000000e+00</td>\n",
       "      <td>0.000000e+00</td>\n",
       "      <td>0.000000e+00</td>\n",
       "      <td>0.000000e+00</td>\n",
       "      <td>0 days 00:00:01</td>\n",
       "      <td>1.000000e+00</td>\n",
       "      <td>2.000008e+00</td>\n",
       "    </tr>\n",
       "    <tr>\n",
       "      <th>25%</th>\n",
       "      <td>1.000000e+00</td>\n",
       "      <td>1.000000e+00</td>\n",
       "      <td>1.030000e+00</td>\n",
       "      <td>1.000000e+00</td>\n",
       "      <td>1.160000e+02</td>\n",
       "      <td>1.070000e+02</td>\n",
       "      <td>1.000000e+00</td>\n",
       "      <td>6.500000e+00</td>\n",
       "      <td>0.000000e+00</td>\n",
       "      <td>5.000000e-01</td>\n",
       "      <td>...</td>\n",
       "      <td>3.000000e-01</td>\n",
       "      <td>1.130000e+01</td>\n",
       "      <td>2.500000e+00</td>\n",
       "      <td>8.000000e+00</td>\n",
       "      <td>2.000000e+00</td>\n",
       "      <td>1.000000e+01</td>\n",
       "      <td>1.000000e+01</td>\n",
       "      <td>0 days 00:06:47</td>\n",
       "      <td>4.070000e+02</td>\n",
       "      <td>3.386534e+00</td>\n",
       "    </tr>\n",
       "    <tr>\n",
       "      <th>50%</th>\n",
       "      <td>2.000000e+00</td>\n",
       "      <td>1.000000e+00</td>\n",
       "      <td>1.730000e+00</td>\n",
       "      <td>1.000000e+00</td>\n",
       "      <td>1.620000e+02</td>\n",
       "      <td>1.620000e+02</td>\n",
       "      <td>1.000000e+00</td>\n",
       "      <td>9.500000e+00</td>\n",
       "      <td>5.000000e-01</td>\n",
       "      <td>5.000000e-01</td>\n",
       "      <td>...</td>\n",
       "      <td>3.000000e-01</td>\n",
       "      <td>1.480000e+01</td>\n",
       "      <td>2.500000e+00</td>\n",
       "      <td>1.500000e+01</td>\n",
       "      <td>3.000000e+00</td>\n",
       "      <td>1.500000e+01</td>\n",
       "      <td>1.500000e+01</td>\n",
       "      <td>0 days 00:11:20</td>\n",
       "      <td>6.800000e+02</td>\n",
       "      <td>4.493081e+00</td>\n",
       "    </tr>\n",
       "    <tr>\n",
       "      <th>75%</th>\n",
       "      <td>2.000000e+00</td>\n",
       "      <td>2.000000e+00</td>\n",
       "      <td>3.230000e+00</td>\n",
       "      <td>1.000000e+00</td>\n",
       "      <td>2.340000e+02</td>\n",
       "      <td>2.340000e+02</td>\n",
       "      <td>2.000000e+00</td>\n",
       "      <td>1.500000e+01</td>\n",
       "      <td>2.500000e+00</td>\n",
       "      <td>5.000000e-01</td>\n",
       "      <td>...</td>\n",
       "      <td>3.000000e-01</td>\n",
       "      <td>2.130000e+01</td>\n",
       "      <td>2.500000e+00</td>\n",
       "      <td>2.300000e+01</td>\n",
       "      <td>4.000000e+00</td>\n",
       "      <td>1.900000e+01</td>\n",
       "      <td>1.900000e+01</td>\n",
       "      <td>0 days 00:18:49</td>\n",
       "      <td>1.129000e+03</td>\n",
       "      <td>6.115492e+00</td>\n",
       "    </tr>\n",
       "    <tr>\n",
       "      <th>max</th>\n",
       "      <td>4.000000e+00</td>\n",
       "      <td>9.000000e+00</td>\n",
       "      <td>2.632100e+02</td>\n",
       "      <td>9.900000e+01</td>\n",
       "      <td>2.650000e+02</td>\n",
       "      <td>2.650000e+02</td>\n",
       "      <td>4.000000e+00</td>\n",
       "      <td>4.016500e+03</td>\n",
       "      <td>2.300000e+01</td>\n",
       "      <td>3.300000e+00</td>\n",
       "      <td>...</td>\n",
       "      <td>3.000000e-01</td>\n",
       "      <td>4.020300e+03</td>\n",
       "      <td>2.750000e+00</td>\n",
       "      <td>3.100000e+01</td>\n",
       "      <td>6.000000e+00</td>\n",
       "      <td>2.300000e+01</td>\n",
       "      <td>2.300000e+01</td>\n",
       "      <td>0 days 06:26:33</td>\n",
       "      <td>2.319300e+04</td>\n",
       "      <td>4.499230e+01</td>\n",
       "    </tr>\n",
       "  </tbody>\n",
       "</table>\n",
       "<p>8 rows × 22 columns</p>\n",
       "</div>"
      ],
      "text/plain": [
       "           VendorID  passenger_count  trip_distance    RatecodeID  \\\n",
       "count  7.087834e+06     7.087834e+06   7.087834e+06  7.087834e+06   \n",
       "mean   1.642229e+00     1.573175e+00   3.164835e+00  1.044347e+00   \n",
       "std    5.020127e-01     1.223310e+00   4.011718e+00  5.135127e-01   \n",
       "min    1.000000e+00     0.000000e+00   1.000000e-02  1.000000e+00   \n",
       "25%    1.000000e+00     1.000000e+00   1.030000e+00  1.000000e+00   \n",
       "50%    2.000000e+00     1.000000e+00   1.730000e+00  1.000000e+00   \n",
       "75%    2.000000e+00     2.000000e+00   3.230000e+00  1.000000e+00   \n",
       "max    4.000000e+00     9.000000e+00   2.632100e+02  9.900000e+01   \n",
       "\n",
       "       PULocationID  DOLocationID  payment_type   fare_amount         extra  \\\n",
       "count  7.087834e+06  7.087834e+06  7.087834e+06  7.087834e+06  7.087834e+06   \n",
       "mean   1.631989e+02  1.613953e+02  1.277424e+00  1.347944e+01  1.190395e+00   \n",
       "std    6.639744e+01  7.068064e+01  4.624262e-01  1.204027e+01  1.279358e+00   \n",
       "min    1.000000e+00  1.000000e+00  1.000000e+00  0.000000e+00  0.000000e+00   \n",
       "25%    1.160000e+02  1.070000e+02  1.000000e+00  6.500000e+00  0.000000e+00   \n",
       "50%    1.620000e+02  1.620000e+02  1.000000e+00  9.500000e+00  5.000000e-01   \n",
       "75%    2.340000e+02  2.340000e+02  2.000000e+00  1.500000e+01  2.500000e+00   \n",
       "max    2.650000e+02  2.650000e+02  4.000000e+00  4.016500e+03  2.300000e+01   \n",
       "\n",
       "            mta_tax  ...  improvement_surcharge  total_amount  \\\n",
       "count  7.087834e+06  ...           7.087834e+06  7.087834e+06   \n",
       "mean   4.981835e-01  ...           2.999715e-01  1.962876e+01   \n",
       "std    3.019000e-02  ...           2.923152e-03  1.493016e+01   \n",
       "min    0.000000e+00  ...           0.000000e+00  0.000000e+00   \n",
       "25%    5.000000e-01  ...           3.000000e-01  1.130000e+01   \n",
       "50%    5.000000e-01  ...           3.000000e-01  1.480000e+01   \n",
       "75%    5.000000e-01  ...           3.000000e-01  2.130000e+01   \n",
       "max    3.300000e+00  ...           3.000000e-01  4.020300e+03   \n",
       "\n",
       "       congestion_surcharge  trip_pickup_day      week_day  trip_pickup_hour  \\\n",
       "count          7.087834e+06     7.087834e+06  7.087834e+06      7.087834e+06   \n",
       "mean           2.298583e+00     1.543966e+01  3.013124e+00      1.398681e+01   \n",
       "std            6.804088e-01     8.939889e+00  1.857198e+00      6.093660e+00   \n",
       "min            0.000000e+00     1.000000e+00  0.000000e+00      0.000000e+00   \n",
       "25%            2.500000e+00     8.000000e+00  2.000000e+00      1.000000e+01   \n",
       "50%            2.500000e+00     1.500000e+01  3.000000e+00      1.500000e+01   \n",
       "75%            2.500000e+00     2.300000e+01  4.000000e+00      1.900000e+01   \n",
       "max            2.750000e+00     3.100000e+01  6.000000e+00      2.300000e+01   \n",
       "\n",
       "       trip_dropoff_hour           trip_duration  trip_duration_secs  \\\n",
       "count       7.087834e+06                 7087834        7.087834e+06   \n",
       "mean        1.402358e+01  0 days 00:14:58.455726        8.984557e+02   \n",
       "std         6.186673e+00  0 days 00:12:34.903679        7.549037e+02   \n",
       "min         0.000000e+00         0 days 00:00:01        1.000000e+00   \n",
       "25%         1.000000e+01         0 days 00:06:47        4.070000e+02   \n",
       "50%         1.500000e+01         0 days 00:11:20        6.800000e+02   \n",
       "75%         1.900000e+01         0 days 00:18:49        1.129000e+03   \n",
       "max         2.300000e+01         0 days 06:26:33        2.319300e+04   \n",
       "\n",
       "      average_velocity  \n",
       "count     7.087834e+06  \n",
       "mean      5.189487e+00  \n",
       "std       2.703840e+00  \n",
       "min       2.000008e+00  \n",
       "25%       3.386534e+00  \n",
       "50%       4.493081e+00  \n",
       "75%       6.115492e+00  \n",
       "max       4.499230e+01  \n",
       "\n",
       "[8 rows x 22 columns]"
      ]
     },
     "execution_count": 27,
     "metadata": {},
     "output_type": "execute_result"
    }
   ],
   "source": [
    "trips19.describe()"
   ]
  },
  {
   "cell_type": "markdown",
   "metadata": {},
   "source": [
    "### Вот тут ниже надо будет графики в один ряд нарисовать."
   ]
  },
  {
   "cell_type": "code",
   "execution_count": 13,
   "metadata": {},
   "outputs": [],
   "source": [
    "#xparam = 'week_day'\n",
    "#yparam = 'total_amount'\n",
    "\n",
    "#pl19 = sns.relplot(\n",
    "#    data=trips19, x=xparam, y=yparam,\n",
    "#)\n",
    "#pl20 = sns.relplot(\n",
    "#    data=trips20, x=xparam, y=yparam,\n",
    "#)\n",
    "\n",
    "#x_lim = max(trips19[xparam].max(), trips20[xparam].max())\n",
    "#y_lim = max(trips19[yparam].max(), trips20[yparam].max())\n",
    "#pl19.set(xticks=(0, x_lim), yticks=(0, y_lim))\n",
    "#pl20.set(xticks=(0, x_lim), yticks=(0, y_lim))"
   ]
  },
  {
   "cell_type": "code",
   "execution_count": 76,
   "metadata": {},
   "outputs": [],
   "source": [
    "# зададим размер графиков\n",
    "plt.rcParams['figure.dpi'] = 90"
   ]
  },
  {
   "cell_type": "code",
   "execution_count": 75,
   "metadata": {},
   "outputs": [
    {
     "data": {
      "text/plain": [
       "<seaborn.axisgrid.FacetGrid at 0x7f54c1908240>"
      ]
     },
     "execution_count": 75,
     "metadata": {},
     "output_type": "execute_result"
    },
    {
     "data": {
      "image/png": "[encoded data removed]",
      "text/plain": [
       "<Figure size 450x450 with 1 Axes>"
      ]
     },
     "metadata": {},
     "output_type": "display_data"
    },
    {
     "data": {
      "image/png": "[encoded data removed]",
      "text/plain": [
       "<Figure size 450x450 with 1 Axes>"
      ]
     },
     "metadata": {},
     "output_type": "display_data"
    }
   ],
   "source": [
    "sns.displot(trips19, x='week_day')\n",
    "sns.displot(trips20, x='week_day')"
   ]
  },
  {
   "cell_type": "markdown",
   "metadata": {},
   "source": [
    "Посмотрим на распределение по времени начала поездки."
   ]
  },
  {
   "cell_type": "code",
   "execution_count": 36,
   "metadata": {
    "scrolled": false
   },
   "outputs": [
    {
     "data": {
      "text/plain": [
       "<seaborn.axisgrid.FacetGrid at 0x7f54b6789828>"
      ]
     },
     "execution_count": 36,
     "metadata": {},
     "output_type": "execute_result"
    },
    {
     "data": {
      "image/png": "[encoded data removed]",
      "text/plain": [
       "<Figure size 450x450 with 1 Axes>"
      ]
     },
     "metadata": {},
     "output_type": "display_data"
    },
    {
     "data": {
      "image/png": "[encoded data removed]",
      "text/plain": [
       "<Figure size 450x450 with 1 Axes>"
      ]
     },
     "metadata": {},
     "output_type": "display_data"
    }
   ],
   "source": [
    "sns.displot(trips19.trip_pickup_hour)\n",
    "sns.displot(trips20.trip_pickup_hour)"
   ]
  },
  {
   "cell_type": "markdown",
   "metadata": {},
   "source": [
    "По дате начала поездки."
   ]
  },
  {
   "cell_type": "code",
   "execution_count": 37,
   "metadata": {},
   "outputs": [
    {
     "data": {
      "text/plain": [
       "<seaborn.axisgrid.FacetGrid at 0x7f54aeae12e8>"
      ]
     },
     "execution_count": 37,
     "metadata": {},
     "output_type": "execute_result"
    },
    {
     "data": {
      "image/png": "[encoded data removed]",
      "text/plain": [
       "<Figure size 450x450 with 1 Axes>"
      ]
     },
     "metadata": {},
     "output_type": "display_data"
    },
    {
     "data": {
      "image/png": "[encoded data removed]",
      "text/plain": [
       "<Figure size 450x450 with 1 Axes>"
      ]
     },
     "metadata": {},
     "output_type": "display_data"
    }
   ],
   "source": [
    "sns.displot(trips19, x='trip_pickup_day')\n",
    "sns.displot(trips20, x='trip_pickup_day')"
   ]
  },
  {
   "cell_type": "markdown",
   "metadata": {},
   "source": [
    "Тут блок про то, как я доставал эти бл*дские координаты."
   ]
  },
  {
   "cell_type": "markdown",
   "metadata": {},
   "source": [
    "### Отметим все выезды на карте."
   ]
  },
  {
   "cell_type": "markdown",
   "metadata": {},
   "source": [
    "Импортируем данные о точках в каждой PUDLocation."
   ]
  },
  {
   "cell_type": "code",
   "execution_count": 48,
   "metadata": {},
   "outputs": [],
   "source": [
    "taxi_zones = pd.read_csv('taxi_zones.csv')"
   ]
  },
  {
   "cell_type": "markdown",
   "metadata": {},
   "source": [
    "Добавим в таблицы с данными о поездках координаты посадки и высадки пассажиров. "
   ]
  },
  {
   "cell_type": "code",
   "execution_count": null,
   "metadata": {},
   "outputs": [],
   "source": [
    "#trips19['pickup_location'] = \n",
    "#trips20['pickup_location'] = \n",
    "\n",
    "#trips19['dropoff_location'] = \n",
    "#trips20['dropoff_location'] = "
   ]
  },
  {
   "cell_type": "code",
   "execution_count": 73,
   "metadata": {},
   "outputs": [],
   "source": [
    "nymap = folium.Map(location=(40.15, -74), zoom_start=10)"
   ]
  },
  {
   "cell_type": "code",
   "execution_count": 74,
   "metadata": {},
   "outputs": [
    {
     "data": {
      "text/html": [
       "<div style=\"width:100%;\"><div style=\"position:relative;width:100%;height:0;padding-bottom:60%;\"><span style=\"color:#565656\">Make this Notebook Trusted to load map: File -> Trust Notebook</span><iframe src=\"about:blank\" style=\"position:absolute;width:100%;height:100%;left:0;top:0;border:none !important;\" data-html=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 onload=\"this.contentDocument.open();this.contentDocument.write(atob(this.getAttribute('data-html')));this.contentDocument.close();\" allowfullscreen webkitallowfullscreen mozallowfullscreen></iframe></div></div>"
      ],
      "text/plain": [
       "<folium.folium.Map at 0x7f54c0fb2160>"
      ]
     },
     "execution_count": 74,
     "metadata": {},
     "output_type": "execute_result"
    }
   ],
   "source": [
    "loc = [[(40, -74), (40.12, -74.01)], [(40.3, -74.01), (40.2, -74.21)]]\n",
    "\n",
    "folium.PolyLine(locations=loc).add_to(nymap)\n",
    "\n",
    "nymap"
   ]
  },
  {
   "cell_type": "code",
   "execution_count": null,
   "metadata": {},
   "outputs": [],
   "source": []
  }
 ],
 "metadata": {
  "kernelspec": {
   "display_name": "Python 3",
   "language": "python",
   "name": "python3"
  },
  "language_info": {
   "codemirror_mode": {
    "name": "ipython",
    "version": 3
   },
   "file_extension": ".py",
   "mimetype": "text/x-python",
   "name": "python",
   "nbconvert_exporter": "python",
   "pygments_lexer": "ipython3",
   "version": "3.6.9"
  }
 },
 "nbformat": 4,
 "nbformat_minor": 4
}
