{
 "cells": [
  {
   "cell_type": "code",
   "execution_count": 5,
   "metadata": {},
   "outputs": [],
   "source": [
    "import pandas as pd\n",
    "import numpy as np\n",
    "from datetime import datetime"
   ]
  },
  {
   "cell_type": "code",
   "execution_count": null,
   "metadata": {},
   "outputs": [],
   "source": [
    "trips19 = pd.read_csv('tripdata_2019-05.csv')\n",
    "trips20 = pd.read_csv('tripdata_2020-05.csv')"
   ]
  },
  {
   "cell_type": "code",
   "execution_count": null,
   "metadata": {},
   "outputs": [],
   "source": [
    "# для того, чтобы не засорять оперативу непонятными данными, удалим их на время\n",
    "del_columns = ['VendorID', 'RatecodeID', 'store_and_fwd_flag', 'extra', 'mta_tax', 'tip_amount', 'improvement_surcharge', 'congestion_surcharge']\n",
    "trips19 = trips19.drop(columns=del_columns)\n",
    "trips20 = trips20.drop(columns=del_columns)"
   ]
  },
  {
   "cell_type": "code",
   "execution_count": null,
   "metadata": {},
   "outputs": [],
   "source": [
    "max_passengers_count = trips20['passenger_count'].value_counts().idxmax()\n",
    "print(\"Max passengers count = \", max_passengers_count)\n",
    "trips20.passenger_count = trips20.passenger_count.fillna(max_passengers_count)"
   ]
  },
  {
   "cell_type": "code",
   "execution_count": null,
   "metadata": {},
   "outputs": [],
   "source": [
    "trips19['tpep_pickup_datetime'] = pd.to_datetime(trips19.tpep_pickup_datetime)\n",
    "trips19['tpep_dropoff_datetime'] = pd.to_datetime(trips19.tpep_dropoff_datetime)"
   ]
  },
  {
   "cell_type": "code",
   "execution_count": null,
   "metadata": {},
   "outputs": [],
   "source": [
    "trips20['tpep_pickup_datetime'] = pd.to_datetime(trips20.tpep_pickup_datetime)\n",
    "trips20['tpep_dropoff_datetime'] = pd.to_datetime(trips20.tpep_dropoff_datetime)"
   ]
  },
  {
   "cell_type": "code",
   "execution_count": null,
   "metadata": {},
   "outputs": [],
   "source": [
    "trips19 = trips19[trips19.tpep_pickup_datetime <= trips19.tpep_dropoff_datetime]\n",
    "trips19 = trips19[trips19.PULocationID <= 263]"
   ]
  },
  {
   "cell_type": "code",
   "execution_count": null,
   "metadata": {},
   "outputs": [],
   "source": [
    "trips20 = trips20[trips20.tpep_pickup_datetime <= trips20.tpep_dropoff_datetime]\n",
    "trips20 = trips20[trips20.PULocationID <= 263]"
   ]
  },
  {
   "cell_type": "code",
   "execution_count": null,
   "metadata": {},
   "outputs": [],
   "source": [
    "MILES_TO_KM = 1609.34"
   ]
  },
  {
   "cell_type": "code",
   "execution_count": null,
   "metadata": {},
   "outputs": [],
   "source": [
    "trips19['trip_pickup_day'] = trips19.tpep_pickup_datetime.dt.day\n",
    "trips19['week_day'] = trips19.tpep_pickup_datetime.dt.dayofweek\n",
    "trips19['trip_pickup_hour'] = trips19.tpep_pickup_datetime.dt.hour\n",
    "trips19['trip_dropoff_hour'] = trips19.tpep_dropoff_datetime.dt.hour\n",
    "trips19['trip_duration'] = trips19.tpep_dropoff_datetime - trips19.tpep_pickup_datetime\n",
    "trips19['trip_duration_secs'] = trips19.trip_duration.dt.seconds\n",
    "trips19['average_velocity'] = (trips19['trip_distance'] * MILES_TO_KM) / trips19['trip_duration_secs']"
   ]
  },
  {
   "cell_type": "code",
   "execution_count": null,
   "metadata": {},
   "outputs": [],
   "source": [
    "trips20['trip_pickup_day'] = trips20.tpep_pickup_datetime.dt.day\n",
    "trips20['week_day'] = trips20.tpep_pickup_datetime.dt.dayofweek\n",
    "trips20['trip_pickup_hour'] = trips20.tpep_pickup_datetime.dt.hour\n",
    "trips20['trip_dropoff_hour'] = trips20.tpep_dropoff_datetime.dt.hour\n",
    "trips20['trip_duration'] = trips20.tpep_dropoff_datetime - trips20.tpep_pickup_datetime\n",
    "trips20['trip_duration_secs'] = trips20.trip_duration.dt.seconds\n",
    "trips20['average_velocity'] = (trips20['trip_distance'] * MILES_TO_KM) / trips20['trip_duration_secs']"
   ]
  },
  {
   "cell_type": "code",
   "execution_count": null,
   "metadata": {},
   "outputs": [],
   "source": [
    "trips19 = trips19[trips19.average_velocity <= 45]\n",
    "trips19 = trips19[trips19.average_velocity > 2]\n",
    "trips19 = trips19.drop(trips19[(trips19.trip_distance == 0) & (trips19.total_amount > 0) & (trips19.trip_duration_secs > 0)].index)\n",
    "trips19 = trips19[trips19.total_amount >= 0]"
   ]
  },
  {
   "cell_type": "code",
   "execution_count": null,
   "metadata": {},
   "outputs": [],
   "source": [
    "trips20 = trips20[trips20.average_velocity <= 45]\n",
    "trips20 = trips20[trips20.average_velocity > 2]\n",
    "trips20 = trips20.drop(trips20[(trips20.trip_distance == 0) & (trips20.total_amount > 0) & (trips20.trip_duration_secs > 0)].index)\n",
    "trips20 = trips20[trips20.total_amount >= 0]"
   ]
  },
  {
   "cell_type": "markdown",
   "metadata": {},
   "source": [
    "### Отметим все выезды на карте."
   ]
  },
  {
   "cell_type": "markdown",
   "metadata": {},
   "source": [
    "Импортируем данные о точках в каждой зоне такси.\n",
    "Заведём \"укороченную\" версию этой таблицы для мерджа."
   ]
  },
  {
   "cell_type": "code",
   "execution_count": null,
   "metadata": {},
   "outputs": [],
   "source": [
    "taxi_zones = pd.read_csv('taxi_zones.csv')\n",
    "taxi_zones.columns = taxi_zones.columns.str.strip()\n",
    "taxi_zones_cut = taxi_zones\n",
    "taxi_zones_cut = taxi_zones_cut.drop(columns=['Shape_Leng', 'Shape_Area', 'zone', 'borough']).rename(columns={'X': 'lon', 'Y': 'lat'})"
   ]
  },
  {
   "cell_type": "code",
   "execution_count": null,
   "metadata": {},
   "outputs": [],
   "source": [
    "taxi_zones_cut"
   ]
  },
  {
   "cell_type": "markdown",
   "metadata": {},
   "source": [
    "Добавим в таблицы с данными о поездках координаты посадки и высадки пассажиров. "
   ]
  },
  {
   "cell_type": "code",
   "execution_count": null,
   "metadata": {},
   "outputs": [],
   "source": [
    "trips19 = pd.merge(trips19, taxi_zones_cut, on='PULocationID', how='left')\n",
    "trips19 = trips19.drop(columns=['DOLocationID_y'])\n",
    "trips19 = trips19.rename(columns={'DOLocationID_x': 'DOLocationID'})\n",
    "\n",
    "trips19 = pd.merge(trips19, taxi_zones_cut, on='DOLocationID', how='left')\n",
    "trips19 = trips19.drop(columns=['PULocationID_y'])\n",
    "trips19 = trips19.rename(columns={'PULocationID_x': 'PULocationID'})"
   ]
  },
  {
   "cell_type": "code",
   "execution_count": null,
   "metadata": {},
   "outputs": [],
   "source": [
    "trips20 = pd.merge(trips20, taxi_zones_cut, on='PULocationID', how='left')\n",
    "trips20 = trips20.drop(columns=['DOLocationID_y'])\n",
    "trips20 = trips20.rename(columns={'DOLocationID_x': 'DOLocationID'})\n",
    "\n",
    "trips20 = pd.merge(trips20, taxi_zones_cut, on='DOLocationID', how='left')\n",
    "trips20 = trips20.drop(columns=['PULocationID_y'])\n",
    "trips20 = trips20.rename(columns={'PULocationID_x': 'PULocationID'})"
   ]
  },
  {
   "cell_type": "markdown",
   "metadata": {},
   "source": [
    "Переименуем для удобства колонки с долготой и широтой и удалим строки, в которых есть значения Nan."
   ]
  },
  {
   "cell_type": "code",
   "execution_count": null,
   "metadata": {},
   "outputs": [],
   "source": [
    "trips19 = trips19.rename(columns={'lon_x': 'lon_pu', 'lat_x': 'lat_pu', 'lon_y': 'lon_do', 'lat_y': 'lat_do'})\n",
    "trips19 = trips19.dropna(subset=trips19.columns)\n",
    "\n",
    "trips20 = trips20.rename(columns={'lon_x': 'lon_pu', 'lat_x': 'lat_pu', 'lon_y': 'lon_do', 'lat_y': 'lat_do'})\n",
    "trips20 = trips20.dropna(subset=trips20.columns)"
   ]
  },
  {
   "cell_type": "markdown",
   "metadata": {},
   "source": [
    "Для визуализации создадим таблицу вида:\n",
    "\n",
    "| Отправление/прибытие | id поездки | широта | долгота |\n",
    "|----------------------|------------|--------|---------|"
   ]
  },
  {
   "cell_type": "code",
   "execution_count": null,
   "metadata": {},
   "outputs": [],
   "source": [
    "cols = ['lon_pu', 'lat_pu', 'lon_do', 'lat_do']"
   ]
  },
  {
   "cell_type": "code",
   "execution_count": null,
   "metadata": {},
   "outputs": [],
   "source": [
    "trips19_vis = trips19.filter(['lon_pu', 'lat_pu', 'lon_do', 'lat_do']).reset_index()\n",
    "trips19_vis = trips19_vis.rename(columns={'index': 'id'})\n",
    "\n",
    "tmp_trips = trips19_vis.loc[trips19_vis.index.repeat(len(cols) / 2), ['id']].reset_index(drop=True)\n",
    "trips19_vis = tmp_trips.join(pd.DataFrame(trips19_vis[cols].to_numpy().reshape(-1,2), columns=['lon','lat']))\n",
    "\n",
    "trips19_vis = trips19_vis.reset_index()\n",
    "trips19_vis['label'] = np.where(trips19_vis['index'] % 2 == 0, 'Origin', 'Destination')\n",
    "trips19_vis = trips19_vis[['label', 'id', 'lon', 'lat']]\n",
    "\n",
    "trips19_vis.to_csv('trips19_vis.csv', index=False)"
   ]
  },
  {
   "cell_type": "code",
   "execution_count": 1,
   "metadata": {},
   "outputs": [
    {
     "ename": "SyntaxError",
     "evalue": "invalid syntax (<ipython-input-1-e099aedc6c74>, line 3)",
     "output_type": "error",
     "traceback": [
      "\u001b[0;36m  File \u001b[0;32m\"<ipython-input-1-e099aedc6c74>\"\u001b[0;36m, line \u001b[0;32m3\u001b[0m\n\u001b[0;31m    Импортируем данные о точках в каждой зоне такси.\u001b[0m\n\u001b[0m                     ^\u001b[0m\n\u001b[0;31mSyntaxError\u001b[0m\u001b[0;31m:\u001b[0m invalid syntax\n"
     ]
    }
   ],
   "source": [
    "trips20_vis = trips20.filter(['lon_pu', 'lat_pu', 'lon_do', 'lat_do']).reset_index()\n",
    "trips20_vis = trips20_vis.rename(columns={'index': 'id'})\n",
    "\n",
    "tmp_trips = trips20_vis.loc[trips20_vis.index.repeat(len(cols) / 2), ['id']].reset_index(drop=True)\n",
    "trips20_vis = tmp_trips.join(pd.DataFrame(trips20_vis[cols].to_numpy().reshape(-1,2), columns=['lon','lat']))\n",
    "\n",
    "trips20_vis = trips20_vis.reset_index()\n",
    "trips20_vis['label'] = np.where(trips20_vis['index'] % 2 == 0, 'Origin', 'Destination')\n",
    "trips20_vis = trips20_vis[['label', 'id', 'lon', 'lat']]\n",
    "\n",
    "trips20_vis.to_csv('trips20_vis.csv', index=False)"
   ]
  }
 ],
 "metadata": {
  "kernelspec": {
   "display_name": "Python 3",
   "language": "python",
   "name": "python3"
  },
  "language_info": {
   "codemirror_mode": {
    "name": "ipython",
    "version": 3
   },
   "file_extension": ".py",
   "mimetype": "text/x-python",
   "name": "python",
   "nbconvert_exporter": "python",
   "pygments_lexer": "ipython3",
   "version": "3.6.9"
  }
 },
 "nbformat": 4,
 "nbformat_minor": 4
}
